{
  "nbformat": 4,
  "nbformat_minor": 0,
  "metadata": {
    "anaconda-cloud": {},
    "kernelspec": {
      "display_name": "Python [conda root]",
      "language": "python",
      "name": "conda-root-py"
    },
    "language_info": {
      "codemirror_mode": {
        "name": "ipython",
        "version": 2
      },
      "file_extension": ".py",
      "mimetype": "text/x-python",
      "name": "python",
      "nbconvert_exporter": "python",
      "pygments_lexer": "ipython2",
      "version": "2.7.12"
    },
    "colab": {
      "name": "article_1.ipynb",
      "provenance": [],
      "toc_visible": true
    }
  },
  "cells": [
    {
      "cell_type": "markdown",
      "metadata": {
        "id": "nc-NWpQqafPN",
        "colab_type": "text"
      },
      "source": [
        "The <a href=\"https://www.kaggle.com/c/titanic/\"> Titanic challenge</a>  hosted by Kaggle is a competition in which the goal is to predict the survival or the death of a given passenger based on a set of variables describing him such as his age, his sex, or his passenger class on the boat.\n",
        "\n",
        "I have been playing with the Titanic dataset for a while, and I have recently achieved an accuracy score of 0.8134 on the public leaderboard. As I'm writing this post, I am ranked among the top 4% of all Kagglers. "
      ]
    },
    {
      "cell_type": "markdown",
      "metadata": {
        "id": "it5HLAqoafPr",
        "colab_type": "text"
      },
      "source": [
        "This post is the opportunity to share my solution with you.\n",
        "\n",
        "To make this tutorial more \"academic\" so that anyone could benefit, I will first start with an exploratory data analysis (EDA) then I'll follow with feature engineering and finally present the predictive model I set up.\n",
        "\n",
        "Throughout this jupyter notebook, I will be using Python at each level of the pipeline.\n",
        "\n",
        "The main libraries involved in this tutorial are: \n",
        "\n",
        "* <b>Pandas</b> for data manipulation and ingestion\n",
        "* <b>Matplotlib</b> and <b> seaborn</b> for data visualization\n",
        "* <b>Numpy</b> for multidimensional array computing\n",
        "* <b>sklearn</b> for machine learning and predictive modeling\n",
        "\n",
        "### Installation procedure \n",
        "\n",
        "A very easy way to install these packages is to download and install the <a href=\"http://conda.pydata.org/docs/install/quick.html#os-x-miniconda-install\">Conda</a> distribution that encapsulates them all. This distribution is available on all platforms (Windows, Linux and Mac OSX).\n",
        "\n",
        "### Nota Bene\n",
        "\n",
        "This is my first attempt as a blogger and as a machine learning practitioner. \n",
        "\n",
        "If you have a question about the code or the hypotheses I made, do not hesitate to post a comment in the comment section below.\n",
        "\n",
        "If you also have a suggestion on how this notebook could be improved, please reach out to me.\n",
        "\n",
        "This tutorial is available on my <a href=\"https://github.com/ahmedbesbes/How-to-score-0.8134-in-Titanic-Kaggle-Challenge\"> github </a> account.\n",
        "\n",
        "Hope you've got everything set on your computer. Let's get started."
      ]
    },
    {
      "cell_type": "markdown",
      "metadata": {
        "id": "K4U-3nvRafP_",
        "colab_type": "text"
      },
      "source": [
        "# I -  Exploratory data analysis\n",
        "\n",
        "As in different data projects, we'll first start diving into the data and build up our first intuitions.\n",
        "\n",
        "In this section, we'll be doing four things. \n",
        "\n",
        "- Data extraction : we'll load the dataset and have a first look at it. \n",
        "- Cleaning : we'll fill in missing values.\n",
        "- Plotting : we'll create some interesting charts that'll (hopefully) spot correlations and hidden insights out of the data.\n",
        "- Assumptions : we'll formulate hypotheses from the charts."
      ]
    },
    {
      "cell_type": "markdown",
      "metadata": {
        "id": "vkFiaLeUafQN",
        "colab_type": "text"
      },
      "source": [
        "We tweak the style of this notebook a little bit to have centered plots."
      ]
    },
    {
      "cell_type": "code",
      "metadata": {
        "id": "DgpAhJlBafQd",
        "colab_type": "code",
        "colab": {}
      },
      "source": [
        "from IPython.core.display import HTML\n",
        "HTML(\"\"\"\n",
        "<style>\n",
        ".output_png {\n",
        "    display: table-cell;\n",
        "    text-align: center;\n",
        "    vertical-align: middle;\n",
        "}\n",
        "</style>\n",
        "\"\"\");"
      ],
      "execution_count": 0,
      "outputs": []
    },
    {
      "cell_type": "markdown",
      "metadata": {
        "id": "cXWesXgEafRW",
        "colab_type": "text"
      },
      "source": [
        "We import the useful libraries."
      ]
    },
    {
      "cell_type": "code",
      "metadata": {
        "id": "d5eK6ARnafRl",
        "colab_type": "code",
        "colab": {}
      },
      "source": [
        "%matplotlib inline\n",
        "\n",
        "import warnings\n",
        "warnings.filterwarnings('ignore')\n",
        "warnings.filterwarnings('ignore', category=DeprecationWarning)\n",
        "\n",
        "import pandas as pd\n",
        "pd.options.display.max_columns = 100\n",
        "\n",
        "from matplotlib import pyplot as plt\n",
        "import numpy as np\n",
        "\n",
        "import seaborn as sns\n",
        "\n",
        "import pylab as plot\n",
        "params = { \n",
        "    'axes.labelsize': \"large\",\n",
        "    'xtick.labelsize': 'x-large',\n",
        "    'legend.fontsize': 20,\n",
        "    'figure.dpi': 150,\n",
        "    'figure.figsize': [25, 7]\n",
        "}\n",
        "plot.rcParams.update(params)"
      ],
      "execution_count": 0,
      "outputs": []
    },
    {
      "cell_type": "code",
      "metadata": {
        "id": "_vICc4AQa9vo",
        "colab_type": "code",
        "colab": {
          "base_uri": "https://localhost:8080/",
          "height": 34
        },
        "outputId": "d6990cc3-b337-46ca-835c-bd23fba75b5a"
      },
      "source": [
        "!pwd"
      ],
      "execution_count": 197,
      "outputs": [
        {
          "output_type": "stream",
          "text": [
            "/content\n"
          ],
          "name": "stdout"
        }
      ]
    },
    {
      "cell_type": "markdown",
      "metadata": {
        "id": "QfxJEXvlafSF",
        "colab_type": "text"
      },
      "source": [
        "Two datasets are available: a training set and a test set.\n",
        "We'll be using the training set to build our predictive model and the testing set to score it and generate an output file to submit on the Kaggle evaluation system.\n",
        "\n",
        "We'll see how this procedure is done at the end of this post.\n",
        "\n",
        "Now let's start by loading the training set."
      ]
    },
    {
      "cell_type": "code",
      "metadata": {
        "id": "VKddUpFDafSP",
        "colab_type": "code",
        "colab": {}
      },
      "source": [
        "data = pd.read_csv('./data/train.csv')"
      ],
      "execution_count": 0,
      "outputs": []
    },
    {
      "cell_type": "code",
      "metadata": {
        "id": "KIv3YAw7afSy",
        "colab_type": "code",
        "colab": {
          "base_uri": "https://localhost:8080/",
          "height": 34
        },
        "outputId": "a69c527b-510b-4682-9297-23fc770b332a"
      },
      "source": [
        "print(data.shape) "
      ],
      "execution_count": 199,
      "outputs": [
        {
          "output_type": "stream",
          "text": [
            "(891, 12)\n"
          ],
          "name": "stdout"
        }
      ]
    },
    {
      "cell_type": "markdown",
      "metadata": {
        "id": "C4APSDSrafTV",
        "colab_type": "text"
      },
      "source": [
        "We have:\n",
        "\n",
        "- 891 rows\n",
        "- 12 columns"
      ]
    },
    {
      "cell_type": "markdown",
      "metadata": {
        "id": "oiMJXK7PafTk",
        "colab_type": "text"
      },
      "source": [
        "Pandas allows you to have a sneak peak at your data."
      ]
    },
    {
      "cell_type": "code",
      "metadata": {
        "id": "dN7e_KdSafTt",
        "colab_type": "code",
        "colab": {
          "base_uri": "https://localhost:8080/",
          "height": 345
        },
        "outputId": "5021ad7c-10dd-4db6-bc21-e9921e937645"
      },
      "source": [
        "data.head()"
      ],
      "execution_count": 200,
      "outputs": [
        {
          "output_type": "execute_result",
          "data": {
            "text/html": [
              "<div>\n",
              "<style scoped>\n",
              "    .dataframe tbody tr th:only-of-type {\n",
              "        vertical-align: middle;\n",
              "    }\n",
              "\n",
              "    .dataframe tbody tr th {\n",
              "        vertical-align: top;\n",
              "    }\n",
              "\n",
              "    .dataframe thead th {\n",
              "        text-align: right;\n",
              "    }\n",
              "</style>\n",
              "<table border=\"1\" class=\"dataframe\">\n",
              "  <thead>\n",
              "    <tr style=\"text-align: right;\">\n",
              "      <th></th>\n",
              "      <th>PassengerId</th>\n",
              "      <th>Survived</th>\n",
              "      <th>Pclass</th>\n",
              "      <th>Name</th>\n",
              "      <th>Sex</th>\n",
              "      <th>Age</th>\n",
              "      <th>SibSp</th>\n",
              "      <th>Parch</th>\n",
              "      <th>Ticket</th>\n",
              "      <th>Fare</th>\n",
              "      <th>Cabin</th>\n",
              "      <th>Embarked</th>\n",
              "    </tr>\n",
              "  </thead>\n",
              "  <tbody>\n",
              "    <tr>\n",
              "      <th>0</th>\n",
              "      <td>1</td>\n",
              "      <td>0</td>\n",
              "      <td>3</td>\n",
              "      <td>Braund, Mr. Owen Harris</td>\n",
              "      <td>male</td>\n",
              "      <td>22.0</td>\n",
              "      <td>1</td>\n",
              "      <td>0</td>\n",
              "      <td>A/5 21171</td>\n",
              "      <td>7.2500</td>\n",
              "      <td>NaN</td>\n",
              "      <td>S</td>\n",
              "    </tr>\n",
              "    <tr>\n",
              "      <th>1</th>\n",
              "      <td>2</td>\n",
              "      <td>1</td>\n",
              "      <td>1</td>\n",
              "      <td>Cumings, Mrs. John Bradley (Florence Briggs Th...</td>\n",
              "      <td>female</td>\n",
              "      <td>38.0</td>\n",
              "      <td>1</td>\n",
              "      <td>0</td>\n",
              "      <td>PC 17599</td>\n",
              "      <td>71.2833</td>\n",
              "      <td>C85</td>\n",
              "      <td>C</td>\n",
              "    </tr>\n",
              "    <tr>\n",
              "      <th>2</th>\n",
              "      <td>3</td>\n",
              "      <td>1</td>\n",
              "      <td>3</td>\n",
              "      <td>Heikkinen, Miss. Laina</td>\n",
              "      <td>female</td>\n",
              "      <td>26.0</td>\n",
              "      <td>0</td>\n",
              "      <td>0</td>\n",
              "      <td>STON/O2. 3101282</td>\n",
              "      <td>7.9250</td>\n",
              "      <td>NaN</td>\n",
              "      <td>S</td>\n",
              "    </tr>\n",
              "    <tr>\n",
              "      <th>3</th>\n",
              "      <td>4</td>\n",
              "      <td>1</td>\n",
              "      <td>1</td>\n",
              "      <td>Futrelle, Mrs. Jacques Heath (Lily May Peel)</td>\n",
              "      <td>female</td>\n",
              "      <td>35.0</td>\n",
              "      <td>1</td>\n",
              "      <td>0</td>\n",
              "      <td>113803</td>\n",
              "      <td>53.1000</td>\n",
              "      <td>C123</td>\n",
              "      <td>S</td>\n",
              "    </tr>\n",
              "    <tr>\n",
              "      <th>4</th>\n",
              "      <td>5</td>\n",
              "      <td>0</td>\n",
              "      <td>3</td>\n",
              "      <td>Allen, Mr. William Henry</td>\n",
              "      <td>male</td>\n",
              "      <td>35.0</td>\n",
              "      <td>0</td>\n",
              "      <td>0</td>\n",
              "      <td>373450</td>\n",
              "      <td>8.0500</td>\n",
              "      <td>NaN</td>\n",
              "      <td>S</td>\n",
              "    </tr>\n",
              "  </tbody>\n",
              "</table>\n",
              "</div>"
            ],
            "text/plain": [
              "   PassengerId  Survived  Pclass  \\\n",
              "0            1         0       3   \n",
              "1            2         1       1   \n",
              "2            3         1       3   \n",
              "3            4         1       1   \n",
              "4            5         0       3   \n",
              "\n",
              "                                                Name     Sex   Age  SibSp  \\\n",
              "0                            Braund, Mr. Owen Harris    male  22.0      1   \n",
              "1  Cumings, Mrs. John Bradley (Florence Briggs Th...  female  38.0      1   \n",
              "2                             Heikkinen, Miss. Laina  female  26.0      0   \n",
              "3       Futrelle, Mrs. Jacques Heath (Lily May Peel)  female  35.0      1   \n",
              "4                           Allen, Mr. William Henry    male  35.0      0   \n",
              "\n",
              "   Parch            Ticket     Fare Cabin Embarked  \n",
              "0      0         A/5 21171   7.2500   NaN        S  \n",
              "1      0          PC 17599  71.2833   C85        C  \n",
              "2      0  STON/O2. 3101282   7.9250   NaN        S  \n",
              "3      0            113803  53.1000  C123        S  \n",
              "4      0            373450   8.0500   NaN        S  "
            ]
          },
          "metadata": {
            "tags": []
          },
          "execution_count": 200
        }
      ]
    },
    {
      "cell_type": "markdown",
      "metadata": {
        "id": "dl3NfqePafUR",
        "colab_type": "text"
      },
      "source": [
        "The Survived column is the ** target variable**. If Suvival = 1 the passenger survived, otherwise he's dead. The is the variable we're going to predict.\n",
        "\n",
        "The other variables describe the passengers. They are the **features**.\n",
        "\n",
        "- PassengerId: and id given to each traveler on the boat\n",
        "- Pclass: the passenger class. It has three possible values: 1,2,3 (first, second and third class)\n",
        "- The Name of the passeger\n",
        "- The Sex\n",
        "- The Age\n",
        "- SibSp: number of siblings and spouses traveling with the passenger \n",
        "- Parch: number of parents and children traveling with the passenger\n",
        "- The ticket number\n",
        "- The ticket Fare\n",
        "- The cabin number \n",
        "- The embarkation. This describe three possible areas of the Titanic from which the people embark. Three possible values S,C,Q"
      ]
    },
    {
      "cell_type": "markdown",
      "metadata": {
        "id": "ZD_xroydafUa",
        "colab_type": "text"
      },
      "source": [
        "Pandas allows you to a have a high-level simple statistical description of the numerical features.\n",
        "This can be done using the describe method."
      ]
    },
    {
      "cell_type": "code",
      "metadata": {
        "id": "9Mmw1_uBafUi",
        "colab_type": "code",
        "colab": {
          "base_uri": "https://localhost:8080/",
          "height": 300
        },
        "outputId": "47e3ca57-6278-4192-d96a-180ad5a80da3"
      },
      "source": [
        "data.describe()"
      ],
      "execution_count": 201,
      "outputs": [
        {
          "output_type": "execute_result",
          "data": {
            "text/html": [
              "<div>\n",
              "<style scoped>\n",
              "    .dataframe tbody tr th:only-of-type {\n",
              "        vertical-align: middle;\n",
              "    }\n",
              "\n",
              "    .dataframe tbody tr th {\n",
              "        vertical-align: top;\n",
              "    }\n",
              "\n",
              "    .dataframe thead th {\n",
              "        text-align: right;\n",
              "    }\n",
              "</style>\n",
              "<table border=\"1\" class=\"dataframe\">\n",
              "  <thead>\n",
              "    <tr style=\"text-align: right;\">\n",
              "      <th></th>\n",
              "      <th>PassengerId</th>\n",
              "      <th>Survived</th>\n",
              "      <th>Pclass</th>\n",
              "      <th>Age</th>\n",
              "      <th>SibSp</th>\n",
              "      <th>Parch</th>\n",
              "      <th>Fare</th>\n",
              "    </tr>\n",
              "  </thead>\n",
              "  <tbody>\n",
              "    <tr>\n",
              "      <th>count</th>\n",
              "      <td>891.000000</td>\n",
              "      <td>891.000000</td>\n",
              "      <td>891.000000</td>\n",
              "      <td>714.000000</td>\n",
              "      <td>891.000000</td>\n",
              "      <td>891.000000</td>\n",
              "      <td>891.000000</td>\n",
              "    </tr>\n",
              "    <tr>\n",
              "      <th>mean</th>\n",
              "      <td>446.000000</td>\n",
              "      <td>0.383838</td>\n",
              "      <td>2.308642</td>\n",
              "      <td>29.699118</td>\n",
              "      <td>0.523008</td>\n",
              "      <td>0.381594</td>\n",
              "      <td>32.204208</td>\n",
              "    </tr>\n",
              "    <tr>\n",
              "      <th>std</th>\n",
              "      <td>257.353842</td>\n",
              "      <td>0.486592</td>\n",
              "      <td>0.836071</td>\n",
              "      <td>14.526497</td>\n",
              "      <td>1.102743</td>\n",
              "      <td>0.806057</td>\n",
              "      <td>49.693429</td>\n",
              "    </tr>\n",
              "    <tr>\n",
              "      <th>min</th>\n",
              "      <td>1.000000</td>\n",
              "      <td>0.000000</td>\n",
              "      <td>1.000000</td>\n",
              "      <td>0.420000</td>\n",
              "      <td>0.000000</td>\n",
              "      <td>0.000000</td>\n",
              "      <td>0.000000</td>\n",
              "    </tr>\n",
              "    <tr>\n",
              "      <th>25%</th>\n",
              "      <td>223.500000</td>\n",
              "      <td>0.000000</td>\n",
              "      <td>2.000000</td>\n",
              "      <td>20.125000</td>\n",
              "      <td>0.000000</td>\n",
              "      <td>0.000000</td>\n",
              "      <td>7.910400</td>\n",
              "    </tr>\n",
              "    <tr>\n",
              "      <th>50%</th>\n",
              "      <td>446.000000</td>\n",
              "      <td>0.000000</td>\n",
              "      <td>3.000000</td>\n",
              "      <td>28.000000</td>\n",
              "      <td>0.000000</td>\n",
              "      <td>0.000000</td>\n",
              "      <td>14.454200</td>\n",
              "    </tr>\n",
              "    <tr>\n",
              "      <th>75%</th>\n",
              "      <td>668.500000</td>\n",
              "      <td>1.000000</td>\n",
              "      <td>3.000000</td>\n",
              "      <td>38.000000</td>\n",
              "      <td>1.000000</td>\n",
              "      <td>0.000000</td>\n",
              "      <td>31.000000</td>\n",
              "    </tr>\n",
              "    <tr>\n",
              "      <th>max</th>\n",
              "      <td>891.000000</td>\n",
              "      <td>1.000000</td>\n",
              "      <td>3.000000</td>\n",
              "      <td>80.000000</td>\n",
              "      <td>8.000000</td>\n",
              "      <td>6.000000</td>\n",
              "      <td>512.329200</td>\n",
              "    </tr>\n",
              "  </tbody>\n",
              "</table>\n",
              "</div>"
            ],
            "text/plain": [
              "       PassengerId    Survived      Pclass         Age       SibSp  \\\n",
              "count   891.000000  891.000000  891.000000  714.000000  891.000000   \n",
              "mean    446.000000    0.383838    2.308642   29.699118    0.523008   \n",
              "std     257.353842    0.486592    0.836071   14.526497    1.102743   \n",
              "min       1.000000    0.000000    1.000000    0.420000    0.000000   \n",
              "25%     223.500000    0.000000    2.000000   20.125000    0.000000   \n",
              "50%     446.000000    0.000000    3.000000   28.000000    0.000000   \n",
              "75%     668.500000    1.000000    3.000000   38.000000    1.000000   \n",
              "max     891.000000    1.000000    3.000000   80.000000    8.000000   \n",
              "\n",
              "            Parch        Fare  \n",
              "count  891.000000  891.000000  \n",
              "mean     0.381594   32.204208  \n",
              "std      0.806057   49.693429  \n",
              "min      0.000000    0.000000  \n",
              "25%      0.000000    7.910400  \n",
              "50%      0.000000   14.454200  \n",
              "75%      0.000000   31.000000  \n",
              "max      6.000000  512.329200  "
            ]
          },
          "metadata": {
            "tags": []
          },
          "execution_count": 201
        }
      ]
    },
    {
      "cell_type": "markdown",
      "metadata": {
        "id": "Qpp-1mlEafVM",
        "colab_type": "text"
      },
      "source": [
        "The count variable shows that 177 values are missing in the Age column.\n",
        "\n",
        "One solution is to fill in the null values with the median age. We could also impute with the mean age but the median is more robust to outliers."
      ]
    },
    {
      "cell_type": "code",
      "metadata": {
        "id": "Ml83rG_0afVa",
        "colab_type": "code",
        "colab": {}
      },
      "source": [
        "data['Age'] = data['Age'].fillna(data['Age'].median())"
      ],
      "execution_count": 0,
      "outputs": []
    },
    {
      "cell_type": "markdown",
      "metadata": {
        "id": "VLtTzK4RafWA",
        "colab_type": "text"
      },
      "source": [
        "Let's check the result."
      ]
    },
    {
      "cell_type": "code",
      "metadata": {
        "id": "zvUAKLZHafWL",
        "colab_type": "code",
        "colab": {
          "base_uri": "https://localhost:8080/",
          "height": 300
        },
        "outputId": "cd9dbe63-3f8e-406a-de0a-9e7d027b266c"
      },
      "source": [
        "data.describe()"
      ],
      "execution_count": 203,
      "outputs": [
        {
          "output_type": "execute_result",
          "data": {
            "text/html": [
              "<div>\n",
              "<style scoped>\n",
              "    .dataframe tbody tr th:only-of-type {\n",
              "        vertical-align: middle;\n",
              "    }\n",
              "\n",
              "    .dataframe tbody tr th {\n",
              "        vertical-align: top;\n",
              "    }\n",
              "\n",
              "    .dataframe thead th {\n",
              "        text-align: right;\n",
              "    }\n",
              "</style>\n",
              "<table border=\"1\" class=\"dataframe\">\n",
              "  <thead>\n",
              "    <tr style=\"text-align: right;\">\n",
              "      <th></th>\n",
              "      <th>PassengerId</th>\n",
              "      <th>Survived</th>\n",
              "      <th>Pclass</th>\n",
              "      <th>Age</th>\n",
              "      <th>SibSp</th>\n",
              "      <th>Parch</th>\n",
              "      <th>Fare</th>\n",
              "    </tr>\n",
              "  </thead>\n",
              "  <tbody>\n",
              "    <tr>\n",
              "      <th>count</th>\n",
              "      <td>891.000000</td>\n",
              "      <td>891.000000</td>\n",
              "      <td>891.000000</td>\n",
              "      <td>891.000000</td>\n",
              "      <td>891.000000</td>\n",
              "      <td>891.000000</td>\n",
              "      <td>891.000000</td>\n",
              "    </tr>\n",
              "    <tr>\n",
              "      <th>mean</th>\n",
              "      <td>446.000000</td>\n",
              "      <td>0.383838</td>\n",
              "      <td>2.308642</td>\n",
              "      <td>29.361582</td>\n",
              "      <td>0.523008</td>\n",
              "      <td>0.381594</td>\n",
              "      <td>32.204208</td>\n",
              "    </tr>\n",
              "    <tr>\n",
              "      <th>std</th>\n",
              "      <td>257.353842</td>\n",
              "      <td>0.486592</td>\n",
              "      <td>0.836071</td>\n",
              "      <td>13.019697</td>\n",
              "      <td>1.102743</td>\n",
              "      <td>0.806057</td>\n",
              "      <td>49.693429</td>\n",
              "    </tr>\n",
              "    <tr>\n",
              "      <th>min</th>\n",
              "      <td>1.000000</td>\n",
              "      <td>0.000000</td>\n",
              "      <td>1.000000</td>\n",
              "      <td>0.420000</td>\n",
              "      <td>0.000000</td>\n",
              "      <td>0.000000</td>\n",
              "      <td>0.000000</td>\n",
              "    </tr>\n",
              "    <tr>\n",
              "      <th>25%</th>\n",
              "      <td>223.500000</td>\n",
              "      <td>0.000000</td>\n",
              "      <td>2.000000</td>\n",
              "      <td>22.000000</td>\n",
              "      <td>0.000000</td>\n",
              "      <td>0.000000</td>\n",
              "      <td>7.910400</td>\n",
              "    </tr>\n",
              "    <tr>\n",
              "      <th>50%</th>\n",
              "      <td>446.000000</td>\n",
              "      <td>0.000000</td>\n",
              "      <td>3.000000</td>\n",
              "      <td>28.000000</td>\n",
              "      <td>0.000000</td>\n",
              "      <td>0.000000</td>\n",
              "      <td>14.454200</td>\n",
              "    </tr>\n",
              "    <tr>\n",
              "      <th>75%</th>\n",
              "      <td>668.500000</td>\n",
              "      <td>1.000000</td>\n",
              "      <td>3.000000</td>\n",
              "      <td>35.000000</td>\n",
              "      <td>1.000000</td>\n",
              "      <td>0.000000</td>\n",
              "      <td>31.000000</td>\n",
              "    </tr>\n",
              "    <tr>\n",
              "      <th>max</th>\n",
              "      <td>891.000000</td>\n",
              "      <td>1.000000</td>\n",
              "      <td>3.000000</td>\n",
              "      <td>80.000000</td>\n",
              "      <td>8.000000</td>\n",
              "      <td>6.000000</td>\n",
              "      <td>512.329200</td>\n",
              "    </tr>\n",
              "  </tbody>\n",
              "</table>\n",
              "</div>"
            ],
            "text/plain": [
              "       PassengerId    Survived      Pclass         Age       SibSp  \\\n",
              "count   891.000000  891.000000  891.000000  891.000000  891.000000   \n",
              "mean    446.000000    0.383838    2.308642   29.361582    0.523008   \n",
              "std     257.353842    0.486592    0.836071   13.019697    1.102743   \n",
              "min       1.000000    0.000000    1.000000    0.420000    0.000000   \n",
              "25%     223.500000    0.000000    2.000000   22.000000    0.000000   \n",
              "50%     446.000000    0.000000    3.000000   28.000000    0.000000   \n",
              "75%     668.500000    1.000000    3.000000   35.000000    1.000000   \n",
              "max     891.000000    1.000000    3.000000   80.000000    8.000000   \n",
              "\n",
              "            Parch        Fare  \n",
              "count  891.000000  891.000000  \n",
              "mean     0.381594   32.204208  \n",
              "std      0.806057   49.693429  \n",
              "min      0.000000    0.000000  \n",
              "25%      0.000000    7.910400  \n",
              "50%      0.000000   14.454200  \n",
              "75%      0.000000   31.000000  \n",
              "max      6.000000  512.329200  "
            ]
          },
          "metadata": {
            "tags": []
          },
          "execution_count": 203
        }
      ]
    },
    {
      "cell_type": "markdown",
      "metadata": {
        "id": "w25uidmeafWr",
        "colab_type": "text"
      },
      "source": [
        "Perfect.\n",
        "\n",
        "Let's now make some charts.\n",
        "\n",
        "Let's visualize survival based on the gender."
      ]
    },
    {
      "cell_type": "code",
      "metadata": {
        "id": "tc7Y5Nf4afWz",
        "colab_type": "code",
        "colab": {}
      },
      "source": [
        "data['Died'] = 1 - data['Survived']"
      ],
      "execution_count": 0,
      "outputs": []
    },
    {
      "cell_type": "code",
      "metadata": {
        "id": "yhw9-VboafXM",
        "colab_type": "code",
        "colab": {
          "base_uri": "https://localhost:8080/",
          "height": 1000
        },
        "outputId": "92a6ee96-dae9-443b-d4d6-ab5fd4583998"
      },
      "source": [
        "data.groupby('Sex').agg('sum')[['Survived', 'Died']].plot(kind='bar', figsize=(25, 7),\n",
        "                                                          stacked=True, colors=['g', 'r']);"
      ],
      "execution_count": 205,
      "outputs": [
        {
          "output_type": "display_data",
          "data": {
            "image/png": "[encoded data removed]",
            "text/plain": [
              "<Figure size 3750x1050 with 1 Axes>"
            ]
          },
          "metadata": {
            "tags": []
          }
        }
      ]
    },
    {
      "cell_type": "markdown",
      "metadata": {
        "id": "CoDswny7afXq",
        "colab_type": "text"
      },
      "source": [
        "![energy](https://github.com/HisakaKoji/How-to-score-0.8134-in-Titanic-Kaggle-Challenge/blob/master/images/article_1/1.png?raw=1)"
      ]
    },
    {
      "cell_type": "markdown",
      "metadata": {
        "id": "Nqha0BZEafXy",
        "colab_type": "text"
      },
      "source": [
        "It looks like male passengers are more likely to succumb.\n",
        "\n",
        "Let's plot the same graph but with ratio instead."
      ]
    },
    {
      "cell_type": "code",
      "metadata": {
        "id": "eH-gGJ2BafX4",
        "colab_type": "code",
        "colab": {
          "base_uri": "https://localhost:8080/",
          "height": 1000
        },
        "outputId": "981d2d62-2702-4567-ae2f-2dd274fee317"
      },
      "source": [
        "data.groupby('Sex').agg('mean')[['Survived', 'Died']].plot(kind='bar', figsize=(25, 7), \n",
        "                                                           stacked=True, colors=['g', 'r']);"
      ],
      "execution_count": 206,
      "outputs": [
        {
          "output_type": "display_data",
          "data": {
            "image/png": "[encoded data removed]",
            "text/plain": [
              "<Figure size 3750x1050 with 1 Axes>"
            ]
          },
          "metadata": {
            "tags": []
          }
        }
      ]
    },
    {
      "cell_type": "markdown",
      "metadata": {
        "id": "Q8zyD2dgafYR",
        "colab_type": "text"
      },
      "source": [
        "![energy](https://github.com/HisakaKoji/How-to-score-0.8134-in-Titanic-Kaggle-Challenge/blob/master/images/article_1/2.png?raw=1)"
      ]
    },
    {
      "cell_type": "markdown",
      "metadata": {
        "id": "vhRHpk6ZafYj",
        "colab_type": "text"
      },
      "source": [
        "The Sex variable seems to be a discriminative feature. Women are more likely to survive."
      ]
    },
    {
      "cell_type": "markdown",
      "metadata": {
        "id": "MkN2eHusafYs",
        "colab_type": "text"
      },
      "source": [
        "Let's now correlate the survival with the age variable."
      ]
    },
    {
      "cell_type": "code",
      "metadata": {
        "id": "i6LMOafoafYy",
        "colab_type": "code",
        "colab": {
          "base_uri": "https://localhost:8080/",
          "height": 935
        },
        "outputId": "469c4853-402a-497a-d42e-30c4da98af9e"
      },
      "source": [
        "fig = plt.figure(figsize=(25, 7))\n",
        "sns.violinplot(x='Sex', y='Age', \n",
        "               hue='Survived', data=data, \n",
        "               split=True,\n",
        "               palette={0: \"r\", 1: \"g\"}\n",
        "              );"
      ],
      "execution_count": 207,
      "outputs": [
        {
          "output_type": "display_data",
          "data": {
            "image/png": "[encoded data removed]",
            "text/plain": [
              "<Figure size 3750x1050 with 1 Axes>"
            ]
          },
          "metadata": {
            "tags": []
          }
        }
      ]
    },
    {
      "cell_type": "markdown",
      "metadata": {
        "id": "F8Yj6c0EafZF",
        "colab_type": "text"
      },
      "source": [
        "![energy](https://github.com/HisakaKoji/How-to-score-0.8134-in-Titanic-Kaggle-Challenge/blob/master/images/article_1/3.png?raw=1)"
      ]
    },
    {
      "cell_type": "markdown",
      "metadata": {
        "id": "qAUkGnHPafZQ",
        "colab_type": "text"
      },
      "source": [
        "As we saw in the chart above and validate by the following:\n",
        "\n",
        "- Women survive more than men, as depicted by the larger female green histogram \n",
        "\n",
        "Now, we see that:\n",
        "- The age conditions the survival for male passengers:\n",
        "    - Younger male tend to survive\n",
        "    - A large number of passengers between 20 and 40 succumb\n",
        "    \n",
        "- The age doesn't seem to have a direct impact on the female survival"
      ]
    },
    {
      "cell_type": "markdown",
      "metadata": {
        "id": "gm39VuFBafZb",
        "colab_type": "text"
      },
      "source": [
        "These violin plots confirm that one old code of conduct that sailors and captains follow in case of threatening situations: <b>\"Women and children first !\"</b>."
      ]
    },
    {
      "cell_type": "markdown",
      "metadata": {
        "id": "JnLOGz84afZk",
        "colab_type": "text"
      },
      "source": [
        "![energy](https://github.com/HisakaKoji/How-to-score-0.8134-in-Titanic-Kaggle-Challenge/blob/master/images/article_1/titanic.jpg?raw=1)"
      ]
    },
    {
      "cell_type": "markdown",
      "metadata": {
        "id": "d_NSTEn6afZr",
        "colab_type": "text"
      },
      "source": [
        "Right?"
      ]
    },
    {
      "cell_type": "markdown",
      "metadata": {
        "id": "_xEozz5oafZz",
        "colab_type": "text"
      },
      "source": [
        "Let's now focus on the Fare ticket of each passenger and see how it could impact the survival. "
      ]
    },
    {
      "cell_type": "code",
      "metadata": {
        "id": "QSLTF8U9afZ5",
        "colab_type": "code",
        "colab": {
          "base_uri": "https://localhost:8080/",
          "height": 935
        },
        "outputId": "d01e1e24-5ffc-4f9d-ff91-2cdf08e162dd"
      },
      "source": [
        "figure = plt.figure(figsize=(25, 7))\n",
        "plt.hist([data[data['Survived'] == 1]['Fare'], data[data['Survived'] == 0]['Fare']], \n",
        "         stacked=True, color = ['g','r'],\n",
        "         bins = 50, label = ['Survived','Dead'])\n",
        "plt.xlabel('Fare')\n",
        "plt.ylabel('Number of passengers')\n",
        "plt.legend();"
      ],
      "execution_count": 208,
      "outputs": [
        {
          "output_type": "display_data",
          "data": {
            "image/png": "[encoded data removed]",
            "text/plain": [
              "<Figure size 3750x1050 with 1 Axes>"
            ]
          },
          "metadata": {
            "tags": []
          }
        }
      ]
    },
    {
      "cell_type": "markdown",
      "metadata": {
        "id": "OVqJYsiQafaa",
        "colab_type": "text"
      },
      "source": [
        "![energy](https://github.com/HisakaKoji/How-to-score-0.8134-in-Titanic-Kaggle-Challenge/blob/master/images/article_1/4.png?raw=1)"
      ]
    },
    {
      "cell_type": "markdown",
      "metadata": {
        "id": "PcjFVL4Jafah",
        "colab_type": "text"
      },
      "source": [
        "Passengers with cheaper ticket fares are more likely to die. \n",
        "Put differently, passengers with more expensive tickets, and therefore a more important social status, seem to be rescued first."
      ]
    },
    {
      "cell_type": "markdown",
      "metadata": {
        "id": "lnew010safam",
        "colab_type": "text"
      },
      "source": [
        "Ok this is nice. Let's now combine the age, the fare and the survival on a single chart."
      ]
    },
    {
      "cell_type": "code",
      "metadata": {
        "id": "Jtak3MHlafau",
        "colab_type": "code",
        "colab": {
          "base_uri": "https://localhost:8080/",
          "height": 903
        },
        "outputId": "98c12b50-f6f1-4276-8d93-5bb2284ca283"
      },
      "source": [
        "plt.figure(figsize=(25, 7))\n",
        "ax = plt.subplot()\n",
        "\n",
        "ax.scatter(data[data['Survived'] == 1]['Age'], data[data['Survived'] == 1]['Fare'], \n",
        "           c='green', s=data[data['Survived'] == 1]['Fare'])\n",
        "ax.scatter(data[data['Survived'] == 0]['Age'], data[data['Survived'] == 0]['Fare'], \n",
        "           c='red', s=data[data['Survived'] == 0]['Fare']);"
      ],
      "execution_count": 209,
      "outputs": [
        {
          "output_type": "display_data",
          "data": {
            "image/png": "[encoded data removed]",
            "text/plain": [
              "<Figure size 3750x1050 with 1 Axes>"
            ]
          },
          "metadata": {
            "tags": []
          }
        }
      ]
    },
    {
      "cell_type": "markdown",
      "metadata": {
        "id": "ZIN9HqwYafbF",
        "colab_type": "text"
      },
      "source": [
        "![energy](https://github.com/HisakaKoji/How-to-score-0.8134-in-Titanic-Kaggle-Challenge/blob/master/images/article_1/5.png?raw=1)"
      ]
    },
    {
      "cell_type": "markdown",
      "metadata": {
        "id": "3SG-4f4DafbN",
        "colab_type": "text"
      },
      "source": [
        "The size of the circles is proportional to the ticket fare.\n",
        "\n",
        "On the x-axis, we have the ages and the y-axis, we consider the ticket fare.\n",
        "\n",
        "We can observe different clusters:\n",
        "\n",
        "1. Large green dots between x=20 and x=45: adults with the largest ticket fares\n",
        "2. Small red dots between x=10 and x=45, adults from lower classes on the boat\n",
        "3. Small greed dots between x=0 and x=7: these are the children that were saved"
      ]
    },
    {
      "cell_type": "markdown",
      "metadata": {
        "id": "gSWDlWhBafbT",
        "colab_type": "text"
      },
      "source": [
        "As a matter of fact, the ticket fare correlates with the class as we see it in the chart below. "
      ]
    },
    {
      "cell_type": "code",
      "metadata": {
        "id": "gHEf39eLafbY",
        "colab_type": "code",
        "colab": {
          "base_uri": "https://localhost:8080/",
          "height": 925
        },
        "outputId": "2ae72a76-4ece-49ee-a07a-c90e731f312a"
      },
      "source": [
        "ax = plt.subplot()\n",
        "ax.set_ylabel('Average fare')\n",
        "data.groupby('Pclass').mean()['Fare'].plot(kind='bar', figsize=(25, 7), ax = ax);"
      ],
      "execution_count": 210,
      "outputs": [
        {
          "output_type": "display_data",
          "data": {
            "image/png": "[encoded data removed]",
            "text/plain": [
              "<Figure size 3750x1050 with 1 Axes>"
            ]
          },
          "metadata": {
            "tags": []
          }
        }
      ]
    },
    {
      "cell_type": "markdown",
      "metadata": {
        "id": "Y_cVFgA4afbp",
        "colab_type": "text"
      },
      "source": [
        "![energy](https://github.com/HisakaKoji/How-to-score-0.8134-in-Titanic-Kaggle-Challenge/blob/master/images/article_1/6.png?raw=1)"
      ]
    },
    {
      "cell_type": "markdown",
      "metadata": {
        "id": "2AiGHWLiafbv",
        "colab_type": "text"
      },
      "source": [
        "Let's now see how the embarkation site affects the survival."
      ]
    },
    {
      "cell_type": "code",
      "metadata": {
        "id": "6ZgqTZM3afb0",
        "colab_type": "code",
        "colab": {
          "base_uri": "https://localhost:8080/",
          "height": 935
        },
        "outputId": "34135085-9ccb-4189-c092-2ef23b7d9e72"
      },
      "source": [
        "fig = plt.figure(figsize=(25, 7))\n",
        "sns.violinplot(x='Embarked', y='Fare', hue='Survived', data=data, split=True, palette={0: \"r\", 1: \"g\"});"
      ],
      "execution_count": 211,
      "outputs": [
        {
          "output_type": "display_data",
          "data": {
            "image/png": "[encoded data removed]",
            "text/plain": [
              "<Figure size 3750x1050 with 1 Axes>"
            ]
          },
          "metadata": {
            "tags": []
          }
        }
      ]
    },
    {
      "cell_type": "markdown",
      "metadata": {
        "id": "RKG9BNE8afcJ",
        "colab_type": "text"
      },
      "source": [
        "![energy](https://github.com/HisakaKoji/How-to-score-0.8134-in-Titanic-Kaggle-Challenge/blob/master/images/article_1/7.png?raw=1)"
      ]
    },
    {
      "cell_type": "markdown",
      "metadata": {
        "id": "2EIXlgmQafcO",
        "colab_type": "text"
      },
      "source": [
        "It seems that the embarkation C have a wider range of fare tickets and therefore the passengers who pay the highest prices are those who survive.\n",
        "\n",
        "We also see this happening in embarkation S and less in embarkation Q.\n",
        "\n",
        "Let's now stop with data exploration and switch to the next part."
      ]
    },
    {
      "cell_type": "markdown",
      "metadata": {
        "id": "WsGCj63TafcV",
        "colab_type": "text"
      },
      "source": [
        "# II - Feature engineering"
      ]
    },
    {
      "cell_type": "markdown",
      "metadata": {
        "id": "JmOuGM-5afcj",
        "colab_type": "text"
      },
      "source": [
        "In the previous part, we flirted with the data and spotted some interesting correlations.\n",
        "\n",
        "In this part, we'll see how to process and transform these variables in such a way the data becomes manageable by a machine learning algorithm.\n",
        "\n",
        "We'll also create, or \"engineer\" additional features that will be useful in building the model.\n",
        "\n",
        "We'll see along the way how to process text variables like the passenger names and integrate this information in our model.\n",
        "\n",
        "We will break our code in separate functions for more clarity."
      ]
    },
    {
      "cell_type": "markdown",
      "metadata": {
        "id": "jYJ8a2bNafcy",
        "colab_type": "text"
      },
      "source": [
        "But first, let's define a print function that asserts whether or not a feature has been processed. "
      ]
    },
    {
      "cell_type": "code",
      "metadata": {
        "id": "21qgMW-uafdB",
        "colab_type": "code",
        "colab": {}
      },
      "source": [
        "def status(feature):\n",
        "    print ('Processing', feature, ': ok')"
      ],
      "execution_count": 0,
      "outputs": []
    },
    {
      "cell_type": "markdown",
      "metadata": {
        "id": "dKiRrJTyafdY",
        "colab_type": "text"
      },
      "source": [
        "###  Loading the data\n",
        "\n",
        "One trick when starting a machine learning problem is to append the training set to the test set together.\n",
        "\n",
        "We'll engineer new features using the train set to prevent information leakage. Then we'll add these variables to the test set.\n",
        "\n",
        "Let's load the train and test sets and append them together."
      ]
    },
    {
      "cell_type": "code",
      "metadata": {
        "id": "Fd-n_II2afdf",
        "colab_type": "code",
        "colab": {}
      },
      "source": [
        "def get_combined_data():\n",
        "    # reading train data\n",
        "    train = pd.read_csv('./data/train.csv')\n",
        "    \n",
        "    # reading test data\n",
        "    test = pd.read_csv('./data/test.csv')\n",
        "\n",
        "    # extracting and then removing the targets from the training data \n",
        "    targets = train.Survived\n",
        "    train.drop(['Survived'], 1, inplace=True)\n",
        "    \n",
        "\n",
        "    # merging train data and test data for future feature engineering\n",
        "    # we'll also remove the PassengerID since this is not an informative feature\n",
        "    combined = train.append(test)\n",
        "    combined.reset_index(inplace=True)\n",
        "    combined.drop(['index', 'PassengerId'], inplace=True, axis=1)\n",
        "    \n",
        "    return combined"
      ],
      "execution_count": 0,
      "outputs": []
    },
    {
      "cell_type": "code",
      "metadata": {
        "id": "zkfPRclsafeE",
        "colab_type": "code",
        "colab": {}
      },
      "source": [
        "combined = get_combined_data()"
      ],
      "execution_count": 0,
      "outputs": []
    },
    {
      "cell_type": "markdown",
      "metadata": {
        "id": "rjtrFu2RafeV",
        "colab_type": "text"
      },
      "source": [
        "Let's have a look at the shape :"
      ]
    },
    {
      "cell_type": "code",
      "metadata": {
        "id": "kbjR8vVCafea",
        "colab_type": "code",
        "colab": {
          "base_uri": "https://localhost:8080/",
          "height": 34
        },
        "outputId": "ddfa9233-1288-4197-9c62-666587ec82dd"
      },
      "source": [
        "print(combined.shape)"
      ],
      "execution_count": 215,
      "outputs": [
        {
          "output_type": "stream",
          "text": [
            "(1309, 10)\n"
          ],
          "name": "stdout"
        }
      ]
    },
    {
      "cell_type": "markdown",
      "metadata": {
        "id": "G0IznV9pafet",
        "colab_type": "text"
      },
      "source": [
        "train and test sets are combined.\n",
        "\n",
        "You may notice that the total number of rows (1309) is the exact summation of the number of rows in the train set and the test set."
      ]
    },
    {
      "cell_type": "code",
      "metadata": {
        "id": "07HufCepafey",
        "colab_type": "code",
        "colab": {
          "base_uri": "https://localhost:8080/",
          "height": 258
        },
        "outputId": "51db1659-4942-429c-8f4c-85eeb3c60514"
      },
      "source": [
        "combined.head()"
      ],
      "execution_count": 216,
      "outputs": [
        {
          "output_type": "execute_result",
          "data": {
            "text/html": [
              "<div>\n",
              "<style scoped>\n",
              "    .dataframe tbody tr th:only-of-type {\n",
              "        vertical-align: middle;\n",
              "    }\n",
              "\n",
              "    .dataframe tbody tr th {\n",
              "        vertical-align: top;\n",
              "    }\n",
              "\n",
              "    .dataframe thead th {\n",
              "        text-align: right;\n",
              "    }\n",
              "</style>\n",
              "<table border=\"1\" class=\"dataframe\">\n",
              "  <thead>\n",
              "    <tr style=\"text-align: right;\">\n",
              "      <th></th>\n",
              "      <th>Pclass</th>\n",
              "      <th>Name</th>\n",
              "      <th>Sex</th>\n",
              "      <th>Age</th>\n",
              "      <th>SibSp</th>\n",
              "      <th>Parch</th>\n",
              "      <th>Ticket</th>\n",
              "      <th>Fare</th>\n",
              "      <th>Cabin</th>\n",
              "      <th>Embarked</th>\n",
              "    </tr>\n",
              "  </thead>\n",
              "  <tbody>\n",
              "    <tr>\n",
              "      <th>0</th>\n",
              "      <td>3</td>\n",
              "      <td>Braund, Mr. Owen Harris</td>\n",
              "      <td>male</td>\n",
              "      <td>22.0</td>\n",
              "      <td>1</td>\n",
              "      <td>0</td>\n",
              "      <td>A/5 21171</td>\n",
              "      <td>7.2500</td>\n",
              "      <td>NaN</td>\n",
              "      <td>S</td>\n",
              "    </tr>\n",
              "    <tr>\n",
              "      <th>1</th>\n",
              "      <td>1</td>\n",
              "      <td>Cumings, Mrs. John Bradley (Florence Briggs Th...</td>\n",
              "      <td>female</td>\n",
              "      <td>38.0</td>\n",
              "      <td>1</td>\n",
              "      <td>0</td>\n",
              "      <td>PC 17599</td>\n",
              "      <td>71.2833</td>\n",
              "      <td>C85</td>\n",
              "      <td>C</td>\n",
              "    </tr>\n",
              "    <tr>\n",
              "      <th>2</th>\n",
              "      <td>3</td>\n",
              "      <td>Heikkinen, Miss. Laina</td>\n",
              "      <td>female</td>\n",
              "      <td>26.0</td>\n",
              "      <td>0</td>\n",
              "      <td>0</td>\n",
              "      <td>STON/O2. 3101282</td>\n",
              "      <td>7.9250</td>\n",
              "      <td>NaN</td>\n",
              "      <td>S</td>\n",
              "    </tr>\n",
              "    <tr>\n",
              "      <th>3</th>\n",
              "      <td>1</td>\n",
              "      <td>Futrelle, Mrs. Jacques Heath (Lily May Peel)</td>\n",
              "      <td>female</td>\n",
              "      <td>35.0</td>\n",
              "      <td>1</td>\n",
              "      <td>0</td>\n",
              "      <td>113803</td>\n",
              "      <td>53.1000</td>\n",
              "      <td>C123</td>\n",
              "      <td>S</td>\n",
              "    </tr>\n",
              "    <tr>\n",
              "      <th>4</th>\n",
              "      <td>3</td>\n",
              "      <td>Allen, Mr. William Henry</td>\n",
              "      <td>male</td>\n",
              "      <td>35.0</td>\n",
              "      <td>0</td>\n",
              "      <td>0</td>\n",
              "      <td>373450</td>\n",
              "      <td>8.0500</td>\n",
              "      <td>NaN</td>\n",
              "      <td>S</td>\n",
              "    </tr>\n",
              "  </tbody>\n",
              "</table>\n",
              "</div>"
            ],
            "text/plain": [
              "   Pclass                                               Name     Sex   Age  \\\n",
              "0       3                            Braund, Mr. Owen Harris    male  22.0   \n",
              "1       1  Cumings, Mrs. John Bradley (Florence Briggs Th...  female  38.0   \n",
              "2       3                             Heikkinen, Miss. Laina  female  26.0   \n",
              "3       1       Futrelle, Mrs. Jacques Heath (Lily May Peel)  female  35.0   \n",
              "4       3                           Allen, Mr. William Henry    male  35.0   \n",
              "\n",
              "   SibSp  Parch            Ticket     Fare Cabin Embarked  \n",
              "0      1      0         A/5 21171   7.2500   NaN        S  \n",
              "1      1      0          PC 17599  71.2833   C85        C  \n",
              "2      0      0  STON/O2. 3101282   7.9250   NaN        S  \n",
              "3      1      0            113803  53.1000  C123        S  \n",
              "4      0      0            373450   8.0500   NaN        S  "
            ]
          },
          "metadata": {
            "tags": []
          },
          "execution_count": 216
        }
      ]
    },
    {
      "cell_type": "markdown",
      "metadata": {
        "id": "ifmJhpyQaffJ",
        "colab_type": "text"
      },
      "source": [
        "### Extracting the passenger titles\n",
        "\n",
        "When looking at the passenger names one could wonder how to process them to extract a useful information.\n",
        "\n",
        "If you look closely at these first examples: \n",
        "\n",
        "- Braund, <b> Mr.</b> Owen Harris\t\n",
        "- Heikkinen, <b>Miss.</b> Laina\n",
        "- Oliva y Ocana, <b>Dona.</b> Fermina\n",
        "- Peter, <b>Master.</b> Michael J\n",
        "\n",
        "You will notice that each name has a title in it ! This can be a simple Miss. or Mrs. but it can be sometimes something more sophisticated like Master, Sir or Dona. In that case, we might introduce an additional information about the social status by simply parsing the name and extracting the title and converting to a binary variable.\n",
        "\n",
        "Let's see how we'll do that in the function below."
      ]
    },
    {
      "cell_type": "markdown",
      "metadata": {
        "id": "a7Jo_VmjaffN",
        "colab_type": "text"
      },
      "source": [
        "Let's first see what the different titles are in the train set "
      ]
    },
    {
      "cell_type": "code",
      "metadata": {
        "id": "nsW-A1RiaffS",
        "colab_type": "code",
        "colab": {}
      },
      "source": [
        "titles = set()\n",
        "for name in data['Name']:\n",
        "    titles.add(name.split(',')[1].split('.')[0].strip())"
      ],
      "execution_count": 0,
      "outputs": []
    },
    {
      "cell_type": "code",
      "metadata": {
        "id": "wB7HTcRIaffl",
        "colab_type": "code",
        "colab": {
          "base_uri": "https://localhost:8080/",
          "height": 54
        },
        "outputId": "80442972-c919-4f2e-f00c-d9152783ae7a"
      },
      "source": [
        "print(titles)"
      ],
      "execution_count": 218,
      "outputs": [
        {
          "output_type": "stream",
          "text": [
            "{'Lady', 'Rev', 'Miss', 'Mme', 'Mr', 'Major', 'Mlle', 'Mrs', 'Ms', 'Capt', 'Jonkheer', 'Col', 'the Countess', 'Sir', 'Master', 'Don', 'Dr'}\n"
          ],
          "name": "stdout"
        }
      ]
    },
    {
      "cell_type": "code",
      "metadata": {
        "id": "mTAtSaUjaff0",
        "colab_type": "code",
        "colab": {}
      },
      "source": [
        "Title_Dictionary = {\n",
        "    \"Capt\": \"Officer\",\n",
        "    \"Col\": \"Officer\",\n",
        "    \"Major\": \"Officer\",\n",
        "    \"Jonkheer\": \"Royalty\",\n",
        "    \"Don\": \"Royalty\",\n",
        "    \"Sir\" : \"Royalty\",\n",
        "    \"Dr\": \"Officer\",\n",
        "    \"Rev\": \"Officer\",\n",
        "    \"the Countess\":\"Royalty\",\n",
        "    \"Mme\": \"Mrs\",\n",
        "    \"Mlle\": \"Miss\",\n",
        "    \"Ms\": \"Mrs\",\n",
        "    \"Mr\" : \"Mr\",\n",
        "    \"Mrs\" : \"Mrs\",\n",
        "    \"Miss\" : \"Miss\",\n",
        "    \"Master\" : \"Master\",\n",
        "    \"Lady\" : \"Royalty\"\n",
        "}\n",
        "\n",
        "def get_titles():\n",
        "    # we extract the title from each name\n",
        "    combined['Title'] = combined['Name'].map(lambda name:name.split(',')[1].split('.')[0].strip())\n",
        "    \n",
        "    # a map of more aggregated title\n",
        "    # we map each title\n",
        "    combined['Title'] = combined.Title.map(Title_Dictionary)\n",
        "    status('Title')\n",
        "    return combined"
      ],
      "execution_count": 0,
      "outputs": []
    },
    {
      "cell_type": "markdown",
      "metadata": {
        "id": "rV7u7ixVafgH",
        "colab_type": "text"
      },
      "source": [
        "This function parses the names and extract the titles. Then, it maps the titles to categories of titles. \n",
        "We selected : \n",
        "\n",
        "- Officer\n",
        "- Royalty \n",
        "- Mr\n",
        "- Mrs\n",
        "- Miss\n",
        "- Master\n",
        "\n",
        "Let's run it !"
      ]
    },
    {
      "cell_type": "code",
      "metadata": {
        "id": "wVG_mByrafgM",
        "colab_type": "code",
        "colab": {
          "base_uri": "https://localhost:8080/",
          "height": 34
        },
        "outputId": "b0a3f99c-6a9c-4af0-af55-0ba5e837a7f9"
      },
      "source": [
        "combined = get_titles()"
      ],
      "execution_count": 220,
      "outputs": [
        {
          "output_type": "stream",
          "text": [
            "Processing Title : ok\n"
          ],
          "name": "stdout"
        }
      ]
    },
    {
      "cell_type": "code",
      "metadata": {
        "id": "HyhMu6HHafgZ",
        "colab_type": "code",
        "colab": {
          "base_uri": "https://localhost:8080/",
          "height": 258
        },
        "outputId": "a7a0dd92-bece-46a9-fa1b-e4615489b0bc"
      },
      "source": [
        "combined.head()"
      ],
      "execution_count": 221,
      "outputs": [
        {
          "output_type": "execute_result",
          "data": {
            "text/html": [
              "<div>\n",
              "<style scoped>\n",
              "    .dataframe tbody tr th:only-of-type {\n",
              "        vertical-align: middle;\n",
              "    }\n",
              "\n",
              "    .dataframe tbody tr th {\n",
              "        vertical-align: top;\n",
              "    }\n",
              "\n",
              "    .dataframe thead th {\n",
              "        text-align: right;\n",
              "    }\n",
              "</style>\n",
              "<table border=\"1\" class=\"dataframe\">\n",
              "  <thead>\n",
              "    <tr style=\"text-align: right;\">\n",
              "      <th></th>\n",
              "      <th>Pclass</th>\n",
              "      <th>Name</th>\n",
              "      <th>Sex</th>\n",
              "      <th>Age</th>\n",
              "      <th>SibSp</th>\n",
              "      <th>Parch</th>\n",
              "      <th>Ticket</th>\n",
              "      <th>Fare</th>\n",
              "      <th>Cabin</th>\n",
              "      <th>Embarked</th>\n",
              "      <th>Title</th>\n",
              "    </tr>\n",
              "  </thead>\n",
              "  <tbody>\n",
              "    <tr>\n",
              "      <th>0</th>\n",
              "      <td>3</td>\n",
              "      <td>Braund, Mr. Owen Harris</td>\n",
              "      <td>male</td>\n",
              "      <td>22.0</td>\n",
              "      <td>1</td>\n",
              "      <td>0</td>\n",
              "      <td>A/5 21171</td>\n",
              "      <td>7.2500</td>\n",
              "      <td>NaN</td>\n",
              "      <td>S</td>\n",
              "      <td>Mr</td>\n",
              "    </tr>\n",
              "    <tr>\n",
              "      <th>1</th>\n",
              "      <td>1</td>\n",
              "      <td>Cumings, Mrs. John Bradley (Florence Briggs Th...</td>\n",
              "      <td>female</td>\n",
              "      <td>38.0</td>\n",
              "      <td>1</td>\n",
              "      <td>0</td>\n",
              "      <td>PC 17599</td>\n",
              "      <td>71.2833</td>\n",
              "      <td>C85</td>\n",
              "      <td>C</td>\n",
              "      <td>Mrs</td>\n",
              "    </tr>\n",
              "    <tr>\n",
              "      <th>2</th>\n",
              "      <td>3</td>\n",
              "      <td>Heikkinen, Miss. Laina</td>\n",
              "      <td>female</td>\n",
              "      <td>26.0</td>\n",
              "      <td>0</td>\n",
              "      <td>0</td>\n",
              "      <td>STON/O2. 3101282</td>\n",
              "      <td>7.9250</td>\n",
              "      <td>NaN</td>\n",
              "      <td>S</td>\n",
              "      <td>Miss</td>\n",
              "    </tr>\n",
              "    <tr>\n",
              "      <th>3</th>\n",
              "      <td>1</td>\n",
              "      <td>Futrelle, Mrs. Jacques Heath (Lily May Peel)</td>\n",
              "      <td>female</td>\n",
              "      <td>35.0</td>\n",
              "      <td>1</td>\n",
              "      <td>0</td>\n",
              "      <td>113803</td>\n",
              "      <td>53.1000</td>\n",
              "      <td>C123</td>\n",
              "      <td>S</td>\n",
              "      <td>Mrs</td>\n",
              "    </tr>\n",
              "    <tr>\n",
              "      <th>4</th>\n",
              "      <td>3</td>\n",
              "      <td>Allen, Mr. William Henry</td>\n",
              "      <td>male</td>\n",
              "      <td>35.0</td>\n",
              "      <td>0</td>\n",
              "      <td>0</td>\n",
              "      <td>373450</td>\n",
              "      <td>8.0500</td>\n",
              "      <td>NaN</td>\n",
              "      <td>S</td>\n",
              "      <td>Mr</td>\n",
              "    </tr>\n",
              "  </tbody>\n",
              "</table>\n",
              "</div>"
            ],
            "text/plain": [
              "   Pclass                                               Name     Sex   Age  \\\n",
              "0       3                            Braund, Mr. Owen Harris    male  22.0   \n",
              "1       1  Cumings, Mrs. John Bradley (Florence Briggs Th...  female  38.0   \n",
              "2       3                             Heikkinen, Miss. Laina  female  26.0   \n",
              "3       1       Futrelle, Mrs. Jacques Heath (Lily May Peel)  female  35.0   \n",
              "4       3                           Allen, Mr. William Henry    male  35.0   \n",
              "\n",
              "   SibSp  Parch            Ticket     Fare Cabin Embarked Title  \n",
              "0      1      0         A/5 21171   7.2500   NaN        S    Mr  \n",
              "1      1      0          PC 17599  71.2833   C85        C   Mrs  \n",
              "2      0      0  STON/O2. 3101282   7.9250   NaN        S  Miss  \n",
              "3      1      0            113803  53.1000  C123        S   Mrs  \n",
              "4      0      0            373450   8.0500   NaN        S    Mr  "
            ]
          },
          "metadata": {
            "tags": []
          },
          "execution_count": 221
        }
      ]
    },
    {
      "cell_type": "markdown",
      "metadata": {
        "id": "aMNjCFLEafgr",
        "colab_type": "text"
      },
      "source": [
        "Let's check if the titles have been filled correctly."
      ]
    },
    {
      "cell_type": "code",
      "metadata": {
        "id": "Cq8Julizafg1",
        "colab_type": "code",
        "colab": {
          "base_uri": "https://localhost:8080/",
          "height": 81
        },
        "outputId": "9d01feab-1a92-4a9b-b3c7-b71738f6488b"
      },
      "source": [
        "combined[combined['Title'].isnull()]"
      ],
      "execution_count": 222,
      "outputs": [
        {
          "output_type": "execute_result",
          "data": {
            "text/html": [
              "<div>\n",
              "<style scoped>\n",
              "    .dataframe tbody tr th:only-of-type {\n",
              "        vertical-align: middle;\n",
              "    }\n",
              "\n",
              "    .dataframe tbody tr th {\n",
              "        vertical-align: top;\n",
              "    }\n",
              "\n",
              "    .dataframe thead th {\n",
              "        text-align: right;\n",
              "    }\n",
              "</style>\n",
              "<table border=\"1\" class=\"dataframe\">\n",
              "  <thead>\n",
              "    <tr style=\"text-align: right;\">\n",
              "      <th></th>\n",
              "      <th>Pclass</th>\n",
              "      <th>Name</th>\n",
              "      <th>Sex</th>\n",
              "      <th>Age</th>\n",
              "      <th>SibSp</th>\n",
              "      <th>Parch</th>\n",
              "      <th>Ticket</th>\n",
              "      <th>Fare</th>\n",
              "      <th>Cabin</th>\n",
              "      <th>Embarked</th>\n",
              "      <th>Title</th>\n",
              "    </tr>\n",
              "  </thead>\n",
              "  <tbody>\n",
              "    <tr>\n",
              "      <th>1305</th>\n",
              "      <td>1</td>\n",
              "      <td>Oliva y Ocana, Dona. Fermina</td>\n",
              "      <td>female</td>\n",
              "      <td>39.0</td>\n",
              "      <td>0</td>\n",
              "      <td>0</td>\n",
              "      <td>PC 17758</td>\n",
              "      <td>108.9</td>\n",
              "      <td>C105</td>\n",
              "      <td>C</td>\n",
              "      <td>NaN</td>\n",
              "    </tr>\n",
              "  </tbody>\n",
              "</table>\n",
              "</div>"
            ],
            "text/plain": [
              "      Pclass                          Name     Sex   Age  SibSp  Parch  \\\n",
              "1305       1  Oliva y Ocana, Dona. Fermina  female  39.0      0      0   \n",
              "\n",
              "        Ticket   Fare Cabin Embarked Title  \n",
              "1305  PC 17758  108.9  C105        C   NaN  "
            ]
          },
          "metadata": {
            "tags": []
          },
          "execution_count": 222
        }
      ]
    },
    {
      "cell_type": "markdown",
      "metadata": {
        "id": "Akj4k6ZWafhF",
        "colab_type": "text"
      },
      "source": [
        "There is indeed a NaN value in the line 1305. In fact the corresponding name is Oliva y Ocana, **Dona**. Fermina.\n",
        "\n",
        "This title was not encoutered in the train dataset."
      ]
    },
    {
      "cell_type": "markdown",
      "metadata": {
        "id": "UGyumbfvafhK",
        "colab_type": "text"
      },
      "source": [
        "Perfect. Now we have an additional column called <b>Title</b> that contains the information."
      ]
    },
    {
      "cell_type": "markdown",
      "metadata": {
        "collapsed": true,
        "id": "VC7rJUduafhQ",
        "colab_type": "text"
      },
      "source": [
        "### Processing the ages\n",
        "\n",
        "We have seen in the first part that the Age variable was missing 177 values. This is a large number ( ~ 13% of the dataset). Simply replacing them with the mean or the median age might not be the best solution since the age may differ by groups and categories of passengers. \n",
        "\n",
        "To understand why, let's group our dataset by sex, Title and passenger class and for each subset compute the median age.\n",
        "\n",
        "To avoid data leakage from the test set, we fill in missing ages in the train using the train set and we fill in ages in the test set using values calculated from the train set as well."
      ]
    },
    {
      "cell_type": "markdown",
      "metadata": {
        "id": "e0cEfYMkafhW",
        "colab_type": "text"
      },
      "source": [
        "Number of missing ages in train set"
      ]
    },
    {
      "cell_type": "code",
      "metadata": {
        "id": "s02ZYf7Mafhe",
        "colab_type": "code",
        "colab": {
          "base_uri": "https://localhost:8080/",
          "height": 34
        },
        "outputId": "670e9b80-9e6e-436c-8264-b026a7369d33"
      },
      "source": [
        "print (combined.iloc[:891].Age.isnull().sum())"
      ],
      "execution_count": 223,
      "outputs": [
        {
          "output_type": "stream",
          "text": [
            "177\n"
          ],
          "name": "stdout"
        }
      ]
    },
    {
      "cell_type": "markdown",
      "metadata": {
        "id": "B_Pedq0Xafh5",
        "colab_type": "text"
      },
      "source": [
        "Number of missing ages in test set"
      ]
    },
    {
      "cell_type": "code",
      "metadata": {
        "id": "Mi_oBvTvafh9",
        "colab_type": "code",
        "colab": {
          "base_uri": "https://localhost:8080/",
          "height": 34
        },
        "outputId": "e7017261-7746-4106-ef14-76feb8a1618a"
      },
      "source": [
        "print (combined.iloc[891:].Age.isnull().sum())"
      ],
      "execution_count": 224,
      "outputs": [
        {
          "output_type": "stream",
          "text": [
            "86\n"
          ],
          "name": "stdout"
        }
      ]
    },
    {
      "cell_type": "code",
      "metadata": {
        "id": "DALMxmWqafiZ",
        "colab_type": "code",
        "colab": {}
      },
      "source": [
        "grouped_train = combined.iloc[:891].groupby(['Sex','Pclass','Title'])\n",
        "grouped_median_train = grouped_train.median()\n",
        "grouped_median_train = grouped_median_train.reset_index()[['Sex', 'Pclass', 'Title', 'Age']]"
      ],
      "execution_count": 0,
      "outputs": []
    },
    {
      "cell_type": "code",
      "metadata": {
        "id": "W0sLi2-zafi0",
        "colab_type": "code",
        "colab": {
          "base_uri": "https://localhost:8080/",
          "height": 206
        },
        "outputId": "8a74a3e2-92a6-48c0-d19f-ff5a32070bb1"
      },
      "source": [
        "grouped_median_train.head()"
      ],
      "execution_count": 226,
      "outputs": [
        {
          "output_type": "execute_result",
          "data": {
            "text/html": [
              "<div>\n",
              "<style scoped>\n",
              "    .dataframe tbody tr th:only-of-type {\n",
              "        vertical-align: middle;\n",
              "    }\n",
              "\n",
              "    .dataframe tbody tr th {\n",
              "        vertical-align: top;\n",
              "    }\n",
              "\n",
              "    .dataframe thead th {\n",
              "        text-align: right;\n",
              "    }\n",
              "</style>\n",
              "<table border=\"1\" class=\"dataframe\">\n",
              "  <thead>\n",
              "    <tr style=\"text-align: right;\">\n",
              "      <th></th>\n",
              "      <th>Sex</th>\n",
              "      <th>Pclass</th>\n",
              "      <th>Title</th>\n",
              "      <th>Age</th>\n",
              "    </tr>\n",
              "  </thead>\n",
              "  <tbody>\n",
              "    <tr>\n",
              "      <th>0</th>\n",
              "      <td>female</td>\n",
              "      <td>1</td>\n",
              "      <td>Miss</td>\n",
              "      <td>30.0</td>\n",
              "    </tr>\n",
              "    <tr>\n",
              "      <th>1</th>\n",
              "      <td>female</td>\n",
              "      <td>1</td>\n",
              "      <td>Mrs</td>\n",
              "      <td>40.0</td>\n",
              "    </tr>\n",
              "    <tr>\n",
              "      <th>2</th>\n",
              "      <td>female</td>\n",
              "      <td>1</td>\n",
              "      <td>Officer</td>\n",
              "      <td>49.0</td>\n",
              "    </tr>\n",
              "    <tr>\n",
              "      <th>3</th>\n",
              "      <td>female</td>\n",
              "      <td>1</td>\n",
              "      <td>Royalty</td>\n",
              "      <td>40.5</td>\n",
              "    </tr>\n",
              "    <tr>\n",
              "      <th>4</th>\n",
              "      <td>female</td>\n",
              "      <td>2</td>\n",
              "      <td>Miss</td>\n",
              "      <td>24.0</td>\n",
              "    </tr>\n",
              "  </tbody>\n",
              "</table>\n",
              "</div>"
            ],
            "text/plain": [
              "      Sex  Pclass    Title   Age\n",
              "0  female       1     Miss  30.0\n",
              "1  female       1      Mrs  40.0\n",
              "2  female       1  Officer  49.0\n",
              "3  female       1  Royalty  40.5\n",
              "4  female       2     Miss  24.0"
            ]
          },
          "metadata": {
            "tags": []
          },
          "execution_count": 226
        }
      ]
    },
    {
      "cell_type": "markdown",
      "metadata": {
        "id": "hkauDQTaafjG",
        "colab_type": "text"
      },
      "source": [
        "This dataframe will help us impute missing age values based on different criteria."
      ]
    },
    {
      "cell_type": "markdown",
      "metadata": {
        "id": "doQT8CVAafjJ",
        "colab_type": "text"
      },
      "source": [
        "Look at the median age column and see how this value can be different based on the Sex, Pclass and Title put together.\n",
        "\n",
        "For example: \n",
        "\n",
        "- If the passenger is female, from Pclass 1, and from royalty the median age is 40.5.\n",
        "- If the passenger is male, from Pclass 3, with a Mr title, the median age is 26.\n",
        "\n",
        "Let's create a function that fills in the missing age in <b>combined</b> based on these different attributes."
      ]
    },
    {
      "cell_type": "code",
      "metadata": {
        "id": "azIckTHTafjR",
        "colab_type": "code",
        "colab": {}
      },
      "source": [
        "def fill_age(row):\n",
        "    condition = (\n",
        "        (grouped_median_train['Sex'] == row['Sex']) & \n",
        "        (grouped_median_train['Title'] == row['Title']) & \n",
        "        (grouped_median_train['Pclass'] == row['Pclass'])\n",
        "    ) \n",
        "    return grouped_median_train[condition]['Age'].values[0]\n",
        "\n",
        "\n",
        "def process_age():\n",
        "    global combined\n",
        "    # a function that fills the missing values of the Age variable\n",
        "    combined['Age'] = combined.apply(lambda row: fill_age(row) if np.isnan(row['Age']) else row['Age'], axis=1)\n",
        "    status('age')\n",
        "    return combined"
      ],
      "execution_count": 0,
      "outputs": []
    },
    {
      "cell_type": "code",
      "metadata": {
        "id": "0sihp1HCafjk",
        "colab_type": "code",
        "colab": {
          "base_uri": "https://localhost:8080/",
          "height": 34
        },
        "outputId": "294541e5-e434-4132-9e65-a4d26f7b6355"
      },
      "source": [
        "combined = process_age()"
      ],
      "execution_count": 228,
      "outputs": [
        {
          "output_type": "stream",
          "text": [
            "Processing age : ok\n"
          ],
          "name": "stdout"
        }
      ]
    },
    {
      "cell_type": "markdown",
      "metadata": {
        "id": "Z4eCbLWfafj1",
        "colab_type": "text"
      },
      "source": [
        "Perfect. The missing ages have been replaced. \n",
        "\n",
        "However, we notice a missing value in Fare, two missing values in Embarked and a lot of missing values in Cabin. We'll come back to these variables later.\n",
        "\n",
        "Let's now process the names."
      ]
    },
    {
      "cell_type": "code",
      "metadata": {
        "id": "lCT0QroEafj7",
        "colab_type": "code",
        "colab": {}
      },
      "source": [
        "def process_names():\n",
        "    global combined\n",
        "    # we clean the Name variable\n",
        "    combined.drop('Name', axis=1, inplace=True)\n",
        "    \n",
        "    # encoding in dummy variable\n",
        "    titles_dummies = pd.get_dummies(combined['Title'], prefix='Title')\n",
        "    combined = pd.concat([combined, titles_dummies], axis=1)\n",
        "    \n",
        "    # removing the title variable\n",
        "    combined.drop('Title', axis=1, inplace=True)\n",
        "    \n",
        "    status('names')\n",
        "    return combined"
      ],
      "execution_count": 0,
      "outputs": []
    },
    {
      "cell_type": "markdown",
      "metadata": {
        "id": "0ylDzj4vafkK",
        "colab_type": "text"
      },
      "source": [
        "This function drops the Name column since we won't be using it anymore because we created a Title column.\n",
        "\n",
        "Then we encode the title values using a dummy encoding.\n",
        "\n",
        "You can learn about dummy coding and how to easily do it in Pandas <a href=\"http://pandas.pydata.org/pandas-docs/stable/generated/pandas.get_dummies.html\">here</a>.\n"
      ]
    },
    {
      "cell_type": "code",
      "metadata": {
        "id": "ESd0Fr55afkO",
        "colab_type": "code",
        "colab": {
          "base_uri": "https://localhost:8080/",
          "height": 34
        },
        "outputId": "9785d9ee-bf34-42e4-88f1-2b1acd9181d9"
      },
      "source": [
        "combined = process_names()"
      ],
      "execution_count": 230,
      "outputs": [
        {
          "output_type": "stream",
          "text": [
            "Processing names : ok\n"
          ],
          "name": "stdout"
        }
      ]
    },
    {
      "cell_type": "code",
      "metadata": {
        "id": "rYc29-M4afkj",
        "colab_type": "code",
        "colab": {
          "base_uri": "https://localhost:8080/",
          "height": 261
        },
        "outputId": "60a9eeae-cbd9-422c-808d-e2d1db2a5eb0"
      },
      "source": [
        "combined.head()"
      ],
      "execution_count": 231,
      "outputs": [
        {
          "output_type": "execute_result",
          "data": {
            "text/html": [
              "<div>\n",
              "<style scoped>\n",
              "    .dataframe tbody tr th:only-of-type {\n",
              "        vertical-align: middle;\n",
              "    }\n",
              "\n",
              "    .dataframe tbody tr th {\n",
              "        vertical-align: top;\n",
              "    }\n",
              "\n",
              "    .dataframe thead th {\n",
              "        text-align: right;\n",
              "    }\n",
              "</style>\n",
              "<table border=\"1\" class=\"dataframe\">\n",
              "  <thead>\n",
              "    <tr style=\"text-align: right;\">\n",
              "      <th></th>\n",
              "      <th>Pclass</th>\n",
              "      <th>Sex</th>\n",
              "      <th>Age</th>\n",
              "      <th>SibSp</th>\n",
              "      <th>Parch</th>\n",
              "      <th>Ticket</th>\n",
              "      <th>Fare</th>\n",
              "      <th>Cabin</th>\n",
              "      <th>Embarked</th>\n",
              "      <th>Title_Master</th>\n",
              "      <th>Title_Miss</th>\n",
              "      <th>Title_Mr</th>\n",
              "      <th>Title_Mrs</th>\n",
              "      <th>Title_Officer</th>\n",
              "      <th>Title_Royalty</th>\n",
              "    </tr>\n",
              "  </thead>\n",
              "  <tbody>\n",
              "    <tr>\n",
              "      <th>0</th>\n",
              "      <td>3</td>\n",
              "      <td>male</td>\n",
              "      <td>22.0</td>\n",
              "      <td>1</td>\n",
              "      <td>0</td>\n",
              "      <td>A/5 21171</td>\n",
              "      <td>7.2500</td>\n",
              "      <td>NaN</td>\n",
              "      <td>S</td>\n",
              "      <td>0</td>\n",
              "      <td>0</td>\n",
              "      <td>1</td>\n",
              "      <td>0</td>\n",
              "      <td>0</td>\n",
              "      <td>0</td>\n",
              "    </tr>\n",
              "    <tr>\n",
              "      <th>1</th>\n",
              "      <td>1</td>\n",
              "      <td>female</td>\n",
              "      <td>38.0</td>\n",
              "      <td>1</td>\n",
              "      <td>0</td>\n",
              "      <td>PC 17599</td>\n",
              "      <td>71.2833</td>\n",
              "      <td>C85</td>\n",
              "      <td>C</td>\n",
              "      <td>0</td>\n",
              "      <td>0</td>\n",
              "      <td>0</td>\n",
              "      <td>1</td>\n",
              "      <td>0</td>\n",
              "      <td>0</td>\n",
              "    </tr>\n",
              "    <tr>\n",
              "      <th>2</th>\n",
              "      <td>3</td>\n",
              "      <td>female</td>\n",
              "      <td>26.0</td>\n",
              "      <td>0</td>\n",
              "      <td>0</td>\n",
              "      <td>STON/O2. 3101282</td>\n",
              "      <td>7.9250</td>\n",
              "      <td>NaN</td>\n",
              "      <td>S</td>\n",
              "      <td>0</td>\n",
              "      <td>1</td>\n",
              "      <td>0</td>\n",
              "      <td>0</td>\n",
              "      <td>0</td>\n",
              "      <td>0</td>\n",
              "    </tr>\n",
              "    <tr>\n",
              "      <th>3</th>\n",
              "      <td>1</td>\n",
              "      <td>female</td>\n",
              "      <td>35.0</td>\n",
              "      <td>1</td>\n",
              "      <td>0</td>\n",
              "      <td>113803</td>\n",
              "      <td>53.1000</td>\n",
              "      <td>C123</td>\n",
              "      <td>S</td>\n",
              "      <td>0</td>\n",
              "      <td>0</td>\n",
              "      <td>0</td>\n",
              "      <td>1</td>\n",
              "      <td>0</td>\n",
              "      <td>0</td>\n",
              "    </tr>\n",
              "    <tr>\n",
              "      <th>4</th>\n",
              "      <td>3</td>\n",
              "      <td>male</td>\n",
              "      <td>35.0</td>\n",
              "      <td>0</td>\n",
              "      <td>0</td>\n",
              "      <td>373450</td>\n",
              "      <td>8.0500</td>\n",
              "      <td>NaN</td>\n",
              "      <td>S</td>\n",
              "      <td>0</td>\n",
              "      <td>0</td>\n",
              "      <td>1</td>\n",
              "      <td>0</td>\n",
              "      <td>0</td>\n",
              "      <td>0</td>\n",
              "    </tr>\n",
              "  </tbody>\n",
              "</table>\n",
              "</div>"
            ],
            "text/plain": [
              "   Pclass     Sex   Age  SibSp  Parch            Ticket     Fare Cabin  \\\n",
              "0       3    male  22.0      1      0         A/5 21171   7.2500   NaN   \n",
              "1       1  female  38.0      1      0          PC 17599  71.2833   C85   \n",
              "2       3  female  26.0      0      0  STON/O2. 3101282   7.9250   NaN   \n",
              "3       1  female  35.0      1      0            113803  53.1000  C123   \n",
              "4       3    male  35.0      0      0            373450   8.0500   NaN   \n",
              "\n",
              "  Embarked  Title_Master  Title_Miss  Title_Mr  Title_Mrs  Title_Officer  \\\n",
              "0        S             0           0         1          0              0   \n",
              "1        C             0           0         0          1              0   \n",
              "2        S             0           1         0          0              0   \n",
              "3        S             0           0         0          1              0   \n",
              "4        S             0           0         1          0              0   \n",
              "\n",
              "   Title_Royalty  \n",
              "0              0  \n",
              "1              0  \n",
              "2              0  \n",
              "3              0  \n",
              "4              0  "
            ]
          },
          "metadata": {
            "tags": []
          },
          "execution_count": 231
        }
      ]
    },
    {
      "cell_type": "markdown",
      "metadata": {
        "id": "Jv7eTaAOafkz",
        "colab_type": "text"
      },
      "source": [
        "As you can see : \n",
        "- there is no longer a name feature. \n",
        "- new variables (Title_X) appeared. These features are binary. \n",
        "    - For example, If Title_Mr = 1, the corresponding Title is Mr."
      ]
    },
    {
      "cell_type": "markdown",
      "metadata": {
        "id": "eEDf51V-afk6",
        "colab_type": "text"
      },
      "source": [
        "### Processing Fare"
      ]
    },
    {
      "cell_type": "markdown",
      "metadata": {
        "id": "vpXF6_wvafk_",
        "colab_type": "text"
      },
      "source": [
        "Let's imputed the missing fare value by the average fare computed on the train set"
      ]
    },
    {
      "cell_type": "code",
      "metadata": {
        "id": "FqKo2KMHaflE",
        "colab_type": "code",
        "colab": {}
      },
      "source": [
        "def process_fares():\n",
        "    global combined\n",
        "    # there's one missing fare value - replacing it with the mean.\n",
        "    combined.Fare.fillna(combined.iloc[:891].Fare.mean(), inplace=True)\n",
        "    status('fare')\n",
        "    return combined"
      ],
      "execution_count": 0,
      "outputs": []
    },
    {
      "cell_type": "markdown",
      "metadata": {
        "id": "qK0OEs7raflU",
        "colab_type": "text"
      },
      "source": [
        "This function simply replaces one missing Fare value by the mean."
      ]
    },
    {
      "cell_type": "code",
      "metadata": {
        "id": "9am-Iym6aflY",
        "colab_type": "code",
        "colab": {
          "base_uri": "https://localhost:8080/",
          "height": 34
        },
        "outputId": "9b1f7a35-59a2-48e3-b12c-3f77e96b8f86"
      },
      "source": [
        "combined = process_fares()"
      ],
      "execution_count": 233,
      "outputs": [
        {
          "output_type": "stream",
          "text": [
            "Processing fare : ok\n"
          ],
          "name": "stdout"
        }
      ]
    },
    {
      "cell_type": "markdown",
      "metadata": {
        "id": "GeFuaoGFafl_",
        "colab_type": "text"
      },
      "source": [
        "### Processing Embarked"
      ]
    },
    {
      "cell_type": "code",
      "metadata": {
        "id": "RCUfQszgafmG",
        "colab_type": "code",
        "colab": {}
      },
      "source": [
        "def process_embarked():\n",
        "    global combined\n",
        "    # two missing embarked values - filling them with the most frequent one in the train  set(S)\n",
        "    combined.Embarked.fillna('S', inplace=True)\n",
        "    # dummy encoding \n",
        "    embarked_dummies = pd.get_dummies(combined['Embarked'], prefix='Embarked')\n",
        "    combined = pd.concat([combined, embarked_dummies], axis=1)\n",
        "    combined.drop('Embarked', axis=1, inplace=True)\n",
        "    status('embarked')\n",
        "    return combined"
      ],
      "execution_count": 0,
      "outputs": []
    },
    {
      "cell_type": "markdown",
      "metadata": {
        "id": "YvWQkyggafmT",
        "colab_type": "text"
      },
      "source": [
        "This functions replaces the two missing values of Embarked with the most frequent Embarked value."
      ]
    },
    {
      "cell_type": "code",
      "metadata": {
        "id": "UaPSNz7BafmX",
        "colab_type": "code",
        "colab": {
          "base_uri": "https://localhost:8080/",
          "height": 34
        },
        "outputId": "64af6708-b9e9-48e2-b0ad-740da6142b51"
      },
      "source": [
        "combined = process_embarked()"
      ],
      "execution_count": 235,
      "outputs": [
        {
          "output_type": "stream",
          "text": [
            "Processing embarked : ok\n"
          ],
          "name": "stdout"
        }
      ]
    },
    {
      "cell_type": "code",
      "metadata": {
        "id": "vNSwj1PRafmk",
        "colab_type": "code",
        "colab": {
          "base_uri": "https://localhost:8080/",
          "height": 261
        },
        "outputId": "122e173e-774c-449b-bc92-eb5d5465cf59"
      },
      "source": [
        "combined.head()"
      ],
      "execution_count": 236,
      "outputs": [
        {
          "output_type": "execute_result",
          "data": {
            "text/html": [
              "<div>\n",
              "<style scoped>\n",
              "    .dataframe tbody tr th:only-of-type {\n",
              "        vertical-align: middle;\n",
              "    }\n",
              "\n",
              "    .dataframe tbody tr th {\n",
              "        vertical-align: top;\n",
              "    }\n",
              "\n",
              "    .dataframe thead th {\n",
              "        text-align: right;\n",
              "    }\n",
              "</style>\n",
              "<table border=\"1\" class=\"dataframe\">\n",
              "  <thead>\n",
              "    <tr style=\"text-align: right;\">\n",
              "      <th></th>\n",
              "      <th>Pclass</th>\n",
              "      <th>Sex</th>\n",
              "      <th>Age</th>\n",
              "      <th>SibSp</th>\n",
              "      <th>Parch</th>\n",
              "      <th>Ticket</th>\n",
              "      <th>Fare</th>\n",
              "      <th>Cabin</th>\n",
              "      <th>Title_Master</th>\n",
              "      <th>Title_Miss</th>\n",
              "      <th>Title_Mr</th>\n",
              "      <th>Title_Mrs</th>\n",
              "      <th>Title_Officer</th>\n",
              "      <th>Title_Royalty</th>\n",
              "      <th>Embarked_C</th>\n",
              "      <th>Embarked_Q</th>\n",
              "      <th>Embarked_S</th>\n",
              "    </tr>\n",
              "  </thead>\n",
              "  <tbody>\n",
              "    <tr>\n",
              "      <th>0</th>\n",
              "      <td>3</td>\n",
              "      <td>male</td>\n",
              "      <td>22.0</td>\n",
              "      <td>1</td>\n",
              "      <td>0</td>\n",
              "      <td>A/5 21171</td>\n",
              "      <td>7.2500</td>\n",
              "      <td>NaN</td>\n",
              "      <td>0</td>\n",
              "      <td>0</td>\n",
              "      <td>1</td>\n",
              "      <td>0</td>\n",
              "      <td>0</td>\n",
              "      <td>0</td>\n",
              "      <td>0</td>\n",
              "      <td>0</td>\n",
              "      <td>1</td>\n",
              "    </tr>\n",
              "    <tr>\n",
              "      <th>1</th>\n",
              "      <td>1</td>\n",
              "      <td>female</td>\n",
              "      <td>38.0</td>\n",
              "      <td>1</td>\n",
              "      <td>0</td>\n",
              "      <td>PC 17599</td>\n",
              "      <td>71.2833</td>\n",
              "      <td>C85</td>\n",
              "      <td>0</td>\n",
              "      <td>0</td>\n",
              "      <td>0</td>\n",
              "      <td>1</td>\n",
              "      <td>0</td>\n",
              "      <td>0</td>\n",
              "      <td>1</td>\n",
              "      <td>0</td>\n",
              "      <td>0</td>\n",
              "    </tr>\n",
              "    <tr>\n",
              "      <th>2</th>\n",
              "      <td>3</td>\n",
              "      <td>female</td>\n",
              "      <td>26.0</td>\n",
              "      <td>0</td>\n",
              "      <td>0</td>\n",
              "      <td>STON/O2. 3101282</td>\n",
              "      <td>7.9250</td>\n",
              "      <td>NaN</td>\n",
              "      <td>0</td>\n",
              "      <td>1</td>\n",
              "      <td>0</td>\n",
              "      <td>0</td>\n",
              "      <td>0</td>\n",
              "      <td>0</td>\n",
              "      <td>0</td>\n",
              "      <td>0</td>\n",
              "      <td>1</td>\n",
              "    </tr>\n",
              "    <tr>\n",
              "      <th>3</th>\n",
              "      <td>1</td>\n",
              "      <td>female</td>\n",
              "      <td>35.0</td>\n",
              "      <td>1</td>\n",
              "      <td>0</td>\n",
              "      <td>113803</td>\n",
              "      <td>53.1000</td>\n",
              "      <td>C123</td>\n",
              "      <td>0</td>\n",
              "      <td>0</td>\n",
              "      <td>0</td>\n",
              "      <td>1</td>\n",
              "      <td>0</td>\n",
              "      <td>0</td>\n",
              "      <td>0</td>\n",
              "      <td>0</td>\n",
              "      <td>1</td>\n",
              "    </tr>\n",
              "    <tr>\n",
              "      <th>4</th>\n",
              "      <td>3</td>\n",
              "      <td>male</td>\n",
              "      <td>35.0</td>\n",
              "      <td>0</td>\n",
              "      <td>0</td>\n",
              "      <td>373450</td>\n",
              "      <td>8.0500</td>\n",
              "      <td>NaN</td>\n",
              "      <td>0</td>\n",
              "      <td>0</td>\n",
              "      <td>1</td>\n",
              "      <td>0</td>\n",
              "      <td>0</td>\n",
              "      <td>0</td>\n",
              "      <td>0</td>\n",
              "      <td>0</td>\n",
              "      <td>1</td>\n",
              "    </tr>\n",
              "  </tbody>\n",
              "</table>\n",
              "</div>"
            ],
            "text/plain": [
              "   Pclass     Sex   Age  SibSp  Parch            Ticket     Fare Cabin  \\\n",
              "0       3    male  22.0      1      0         A/5 21171   7.2500   NaN   \n",
              "1       1  female  38.0      1      0          PC 17599  71.2833   C85   \n",
              "2       3  female  26.0      0      0  STON/O2. 3101282   7.9250   NaN   \n",
              "3       1  female  35.0      1      0            113803  53.1000  C123   \n",
              "4       3    male  35.0      0      0            373450   8.0500   NaN   \n",
              "\n",
              "   Title_Master  Title_Miss  Title_Mr  Title_Mrs  Title_Officer  \\\n",
              "0             0           0         1          0              0   \n",
              "1             0           0         0          1              0   \n",
              "2             0           1         0          0              0   \n",
              "3             0           0         0          1              0   \n",
              "4             0           0         1          0              0   \n",
              "\n",
              "   Title_Royalty  Embarked_C  Embarked_Q  Embarked_S  \n",
              "0              0           0           0           1  \n",
              "1              0           1           0           0  \n",
              "2              0           0           0           1  \n",
              "3              0           0           0           1  \n",
              "4              0           0           0           1  "
            ]
          },
          "metadata": {
            "tags": []
          },
          "execution_count": 236
        }
      ]
    },
    {
      "cell_type": "markdown",
      "metadata": {
        "id": "I2REPbi7afmz",
        "colab_type": "text"
      },
      "source": [
        "### Processing Cabin"
      ]
    },
    {
      "cell_type": "code",
      "metadata": {
        "id": "TAzOQGg1afm4",
        "colab_type": "code",
        "colab": {}
      },
      "source": [
        "train_cabin, test_cabin = set(), set()\n",
        "\n",
        "for c in combined.iloc[:891]['Cabin']:\n",
        "    try:\n",
        "        train_cabin.add(c[0])\n",
        "    except:\n",
        "        train_cabin.add('U')\n",
        "        \n",
        "for c in combined.iloc[891:]['Cabin']:\n",
        "    try:\n",
        "        test_cabin.add(c[0])\n",
        "    except:\n",
        "        test_cabin.add('U')"
      ],
      "execution_count": 0,
      "outputs": []
    },
    {
      "cell_type": "code",
      "metadata": {
        "id": "5AkM7QmgafnI",
        "colab_type": "code",
        "colab": {
          "base_uri": "https://localhost:8080/",
          "height": 34
        },
        "outputId": "9a6b1be7-ea93-430b-a7a3-052159e3527f"
      },
      "source": [
        "print(train_cabin)"
      ],
      "execution_count": 238,
      "outputs": [
        {
          "output_type": "stream",
          "text": [
            "{'G', 'U', 'D', 'A', 'F', 'B', 'E', 'T', 'C'}\n"
          ],
          "name": "stdout"
        }
      ]
    },
    {
      "cell_type": "code",
      "metadata": {
        "id": "coQvj7hrafnX",
        "colab_type": "code",
        "colab": {
          "base_uri": "https://localhost:8080/",
          "height": 34
        },
        "outputId": "65aa4bd9-fcd0-4f2e-efc5-3f90217b4f10"
      },
      "source": [
        "print (test_cabin)"
      ],
      "execution_count": 239,
      "outputs": [
        {
          "output_type": "stream",
          "text": [
            "{'G', 'U', 'D', 'A', 'F', 'B', 'E', 'C'}\n"
          ],
          "name": "stdout"
        }
      ]
    },
    {
      "cell_type": "markdown",
      "metadata": {
        "id": "o1JZqaenafnt",
        "colab_type": "text"
      },
      "source": [
        "We don't have any cabin letter in the test set that is not present in the train set."
      ]
    },
    {
      "cell_type": "code",
      "metadata": {
        "id": "JUtE6BKLafnz",
        "colab_type": "code",
        "colab": {}
      },
      "source": [
        "def process_cabin():\n",
        "    global combined    \n",
        "    # replacing missing cabins with U (for Uknown)\n",
        "    combined.Cabin.fillna('U', inplace=True)\n",
        "    \n",
        "    # mapping each Cabin value with the cabin letter\n",
        "    combined['Cabin'] = combined['Cabin'].map(lambda c: c[0])\n",
        "    \n",
        "    # dummy encoding ...\n",
        "    cabin_dummies = pd.get_dummies(combined['Cabin'], prefix='Cabin')    \n",
        "    combined = pd.concat([combined, cabin_dummies], axis=1)\n",
        "\n",
        "    combined.drop('Cabin', axis=1, inplace=True)\n",
        "    status('cabin')\n",
        "    return combined"
      ],
      "execution_count": 0,
      "outputs": []
    },
    {
      "cell_type": "markdown",
      "metadata": {
        "id": "OWvStD4gafoC",
        "colab_type": "text"
      },
      "source": [
        "This function replaces NaN values with U (for <i>Unknow</i>). It then maps each Cabin value to the first letter.\n",
        "Then it encodes the cabin values using dummy encoding again."
      ]
    },
    {
      "cell_type": "code",
      "metadata": {
        "id": "Uj0wDah0afoG",
        "colab_type": "code",
        "colab": {
          "base_uri": "https://localhost:8080/",
          "height": 34
        },
        "outputId": "b09333df-4e93-45cf-805e-e179cbf5062d"
      },
      "source": [
        "combined = process_cabin()"
      ],
      "execution_count": 241,
      "outputs": [
        {
          "output_type": "stream",
          "text": [
            "Processing cabin : ok\n"
          ],
          "name": "stdout"
        }
      ]
    },
    {
      "cell_type": "markdown",
      "metadata": {
        "id": "YBxbVUV4afoZ",
        "colab_type": "text"
      },
      "source": [
        "Ok no missing values now."
      ]
    },
    {
      "cell_type": "code",
      "metadata": {
        "id": "MmtWyHjKafo1",
        "colab_type": "code",
        "colab": {
          "base_uri": "https://localhost:8080/",
          "height": 261
        },
        "outputId": "04920aa1-5ebf-4866-975e-20adef33a0ff"
      },
      "source": [
        "combined.head()"
      ],
      "execution_count": 242,
      "outputs": [
        {
          "output_type": "execute_result",
          "data": {
            "text/html": [
              "<div>\n",
              "<style scoped>\n",
              "    .dataframe tbody tr th:only-of-type {\n",
              "        vertical-align: middle;\n",
              "    }\n",
              "\n",
              "    .dataframe tbody tr th {\n",
              "        vertical-align: top;\n",
              "    }\n",
              "\n",
              "    .dataframe thead th {\n",
              "        text-align: right;\n",
              "    }\n",
              "</style>\n",
              "<table border=\"1\" class=\"dataframe\">\n",
              "  <thead>\n",
              "    <tr style=\"text-align: right;\">\n",
              "      <th></th>\n",
              "      <th>Pclass</th>\n",
              "      <th>Sex</th>\n",
              "      <th>Age</th>\n",
              "      <th>SibSp</th>\n",
              "      <th>Parch</th>\n",
              "      <th>Ticket</th>\n",
              "      <th>Fare</th>\n",
              "      <th>Title_Master</th>\n",
              "      <th>Title_Miss</th>\n",
              "      <th>Title_Mr</th>\n",
              "      <th>Title_Mrs</th>\n",
              "      <th>Title_Officer</th>\n",
              "      <th>Title_Royalty</th>\n",
              "      <th>Embarked_C</th>\n",
              "      <th>Embarked_Q</th>\n",
              "      <th>Embarked_S</th>\n",
              "      <th>Cabin_A</th>\n",
              "      <th>Cabin_B</th>\n",
              "      <th>Cabin_C</th>\n",
              "      <th>Cabin_D</th>\n",
              "      <th>Cabin_E</th>\n",
              "      <th>Cabin_F</th>\n",
              "      <th>Cabin_G</th>\n",
              "      <th>Cabin_T</th>\n",
              "      <th>Cabin_U</th>\n",
              "    </tr>\n",
              "  </thead>\n",
              "  <tbody>\n",
              "    <tr>\n",
              "      <th>0</th>\n",
              "      <td>3</td>\n",
              "      <td>male</td>\n",
              "      <td>22.0</td>\n",
              "      <td>1</td>\n",
              "      <td>0</td>\n",
              "      <td>A/5 21171</td>\n",
              "      <td>7.2500</td>\n",
              "      <td>0</td>\n",
              "      <td>0</td>\n",
              "      <td>1</td>\n",
              "      <td>0</td>\n",
              "      <td>0</td>\n",
              "      <td>0</td>\n",
              "      <td>0</td>\n",
              "      <td>0</td>\n",
              "      <td>1</td>\n",
              "      <td>0</td>\n",
              "      <td>0</td>\n",
              "      <td>0</td>\n",
              "      <td>0</td>\n",
              "      <td>0</td>\n",
              "      <td>0</td>\n",
              "      <td>0</td>\n",
              "      <td>0</td>\n",
              "      <td>1</td>\n",
              "    </tr>\n",
              "    <tr>\n",
              "      <th>1</th>\n",
              "      <td>1</td>\n",
              "      <td>female</td>\n",
              "      <td>38.0</td>\n",
              "      <td>1</td>\n",
              "      <td>0</td>\n",
              "      <td>PC 17599</td>\n",
              "      <td>71.2833</td>\n",
              "      <td>0</td>\n",
              "      <td>0</td>\n",
              "      <td>0</td>\n",
              "      <td>1</td>\n",
              "      <td>0</td>\n",
              "      <td>0</td>\n",
              "      <td>1</td>\n",
              "      <td>0</td>\n",
              "      <td>0</td>\n",
              "      <td>0</td>\n",
              "      <td>0</td>\n",
              "      <td>1</td>\n",
              "      <td>0</td>\n",
              "      <td>0</td>\n",
              "      <td>0</td>\n",
              "      <td>0</td>\n",
              "      <td>0</td>\n",
              "      <td>0</td>\n",
              "    </tr>\n",
              "    <tr>\n",
              "      <th>2</th>\n",
              "      <td>3</td>\n",
              "      <td>female</td>\n",
              "      <td>26.0</td>\n",
              "      <td>0</td>\n",
              "      <td>0</td>\n",
              "      <td>STON/O2. 3101282</td>\n",
              "      <td>7.9250</td>\n",
              "      <td>0</td>\n",
              "      <td>1</td>\n",
              "      <td>0</td>\n",
              "      <td>0</td>\n",
              "      <td>0</td>\n",
              "      <td>0</td>\n",
              "      <td>0</td>\n",
              "      <td>0</td>\n",
              "      <td>1</td>\n",
              "      <td>0</td>\n",
              "      <td>0</td>\n",
              "      <td>0</td>\n",
              "      <td>0</td>\n",
              "      <td>0</td>\n",
              "      <td>0</td>\n",
              "      <td>0</td>\n",
              "      <td>0</td>\n",
              "      <td>1</td>\n",
              "    </tr>\n",
              "    <tr>\n",
              "      <th>3</th>\n",
              "      <td>1</td>\n",
              "      <td>female</td>\n",
              "      <td>35.0</td>\n",
              "      <td>1</td>\n",
              "      <td>0</td>\n",
              "      <td>113803</td>\n",
              "      <td>53.1000</td>\n",
              "      <td>0</td>\n",
              "      <td>0</td>\n",
              "      <td>0</td>\n",
              "      <td>1</td>\n",
              "      <td>0</td>\n",
              "      <td>0</td>\n",
              "      <td>0</td>\n",
              "      <td>0</td>\n",
              "      <td>1</td>\n",
              "      <td>0</td>\n",
              "      <td>0</td>\n",
              "      <td>1</td>\n",
              "      <td>0</td>\n",
              "      <td>0</td>\n",
              "      <td>0</td>\n",
              "      <td>0</td>\n",
              "      <td>0</td>\n",
              "      <td>0</td>\n",
              "    </tr>\n",
              "    <tr>\n",
              "      <th>4</th>\n",
              "      <td>3</td>\n",
              "      <td>male</td>\n",
              "      <td>35.0</td>\n",
              "      <td>0</td>\n",
              "      <td>0</td>\n",
              "      <td>373450</td>\n",
              "      <td>8.0500</td>\n",
              "      <td>0</td>\n",
              "      <td>0</td>\n",
              "      <td>1</td>\n",
              "      <td>0</td>\n",
              "      <td>0</td>\n",
              "      <td>0</td>\n",
              "      <td>0</td>\n",
              "      <td>0</td>\n",
              "      <td>1</td>\n",
              "      <td>0</td>\n",
              "      <td>0</td>\n",
              "      <td>0</td>\n",
              "      <td>0</td>\n",
              "      <td>0</td>\n",
              "      <td>0</td>\n",
              "      <td>0</td>\n",
              "      <td>0</td>\n",
              "      <td>1</td>\n",
              "    </tr>\n",
              "  </tbody>\n",
              "</table>\n",
              "</div>"
            ],
            "text/plain": [
              "   Pclass     Sex   Age  SibSp  Parch            Ticket     Fare  \\\n",
              "0       3    male  22.0      1      0         A/5 21171   7.2500   \n",
              "1       1  female  38.0      1      0          PC 17599  71.2833   \n",
              "2       3  female  26.0      0      0  STON/O2. 3101282   7.9250   \n",
              "3       1  female  35.0      1      0            113803  53.1000   \n",
              "4       3    male  35.0      0      0            373450   8.0500   \n",
              "\n",
              "   Title_Master  Title_Miss  Title_Mr  Title_Mrs  Title_Officer  \\\n",
              "0             0           0         1          0              0   \n",
              "1             0           0         0          1              0   \n",
              "2             0           1         0          0              0   \n",
              "3             0           0         0          1              0   \n",
              "4             0           0         1          0              0   \n",
              "\n",
              "   Title_Royalty  Embarked_C  Embarked_Q  Embarked_S  Cabin_A  Cabin_B  \\\n",
              "0              0           0           0           1        0        0   \n",
              "1              0           1           0           0        0        0   \n",
              "2              0           0           0           1        0        0   \n",
              "3              0           0           0           1        0        0   \n",
              "4              0           0           0           1        0        0   \n",
              "\n",
              "   Cabin_C  Cabin_D  Cabin_E  Cabin_F  Cabin_G  Cabin_T  Cabin_U  \n",
              "0        0        0        0        0        0        0        1  \n",
              "1        1        0        0        0        0        0        0  \n",
              "2        0        0        0        0        0        0        1  \n",
              "3        1        0        0        0        0        0        0  \n",
              "4        0        0        0        0        0        0        1  "
            ]
          },
          "metadata": {
            "tags": []
          },
          "execution_count": 242
        }
      ]
    },
    {
      "cell_type": "markdown",
      "metadata": {
        "id": "MM1Dv22AafpF",
        "colab_type": "text"
      },
      "source": [
        "### Processing Sex"
      ]
    },
    {
      "cell_type": "code",
      "metadata": {
        "id": "d8vLmG2DafpL",
        "colab_type": "code",
        "colab": {}
      },
      "source": [
        "def process_sex():\n",
        "    global combined\n",
        "    # mapping string values to numerical one \n",
        "    combined['Sex'] = combined['Sex'].map({'male':1, 'female':0})\n",
        "    status('Sex')\n",
        "    return combined"
      ],
      "execution_count": 0,
      "outputs": []
    },
    {
      "cell_type": "markdown",
      "metadata": {
        "id": "dNq01_e7afpf",
        "colab_type": "text"
      },
      "source": [
        "This function maps the string values male and female to 1 and 0 respectively. "
      ]
    },
    {
      "cell_type": "code",
      "metadata": {
        "id": "Ldn77dOuafpl",
        "colab_type": "code",
        "colab": {
          "base_uri": "https://localhost:8080/",
          "height": 34
        },
        "outputId": "020bc7fd-d23c-4db2-efb3-49dbb35ab606"
      },
      "source": [
        "combined = process_sex()"
      ],
      "execution_count": 244,
      "outputs": [
        {
          "output_type": "stream",
          "text": [
            "Processing Sex : ok\n"
          ],
          "name": "stdout"
        }
      ]
    },
    {
      "cell_type": "markdown",
      "metadata": {
        "id": "20Q9iCQbafp2",
        "colab_type": "text"
      },
      "source": [
        "### Processing Pclass"
      ]
    },
    {
      "cell_type": "code",
      "metadata": {
        "id": "PkVOQgXNafp7",
        "colab_type": "code",
        "colab": {}
      },
      "source": [
        "def process_pclass():\n",
        "    \n",
        "    global combined\n",
        "    # encoding into 3 categories:\n",
        "    pclass_dummies = pd.get_dummies(combined['Pclass'], prefix=\"Pclass\")\n",
        "    \n",
        "    # adding dummy variable\n",
        "    combined = pd.concat([combined, pclass_dummies],axis=1)\n",
        "    \n",
        "    # removing \"Pclass\"\n",
        "    combined.drop('Pclass',axis=1,inplace=True)\n",
        "    \n",
        "    status('Pclass')\n",
        "    return combined"
      ],
      "execution_count": 0,
      "outputs": []
    },
    {
      "cell_type": "markdown",
      "metadata": {
        "id": "IMPPCoMzafqI",
        "colab_type": "text"
      },
      "source": [
        "This function encodes the values of Pclass (1,2,3) using a dummy encoding."
      ]
    },
    {
      "cell_type": "code",
      "metadata": {
        "id": "s3V_5eHOafqN",
        "colab_type": "code",
        "colab": {
          "base_uri": "https://localhost:8080/",
          "height": 34
        },
        "outputId": "071b440d-ff41-4573-8e22-7c64925fdf36"
      },
      "source": [
        "combined = process_pclass()"
      ],
      "execution_count": 246,
      "outputs": [
        {
          "output_type": "stream",
          "text": [
            "Processing Pclass : ok\n"
          ],
          "name": "stdout"
        }
      ]
    },
    {
      "cell_type": "markdown",
      "metadata": {
        "id": "H646AvKnafqh",
        "colab_type": "text"
      },
      "source": [
        "### Processing Ticket"
      ]
    },
    {
      "cell_type": "markdown",
      "metadata": {
        "id": "7gXg8GEXafql",
        "colab_type": "text"
      },
      "source": [
        "Let's first see how the different ticket prefixes we have in our dataset"
      ]
    },
    {
      "cell_type": "code",
      "metadata": {
        "id": "4ORCyIJ-afqr",
        "colab_type": "code",
        "colab": {}
      },
      "source": [
        "def cleanTicket(ticket):\n",
        "    ticket = ticket.replace('.', '')\n",
        "    ticket = ticket.replace('/', '')\n",
        "    ticket = ticket.split()\n",
        "    ticket = map(lambda t : t.strip(), ticket)\n",
        "    ticket = list(filter(lambda t : not t.isdigit(), ticket))\n",
        "\n",
        "    if len(ticket) > 0:\n",
        "        print(ticket[0])\n",
        "        return ticket[0]\n",
        "    else: \n",
        "        print('XXX')\n",
        "        return 'XXX'"
      ],
      "execution_count": 0,
      "outputs": []
    },
    {
      "cell_type": "code",
      "metadata": {
        "id": "qmFtQWAKafq4",
        "colab_type": "code",
        "colab": {
          "base_uri": "https://localhost:8080/",
          "height": 1000
        },
        "outputId": "1109b72b-a209-48fe-d03b-2279195a207d"
      },
      "source": [
        "tickets = set()\n",
        "for t in combined['Ticket']:\n",
        "    print(t)\n",
        "    tickets.add(cleanTicket(t))"
      ],
      "execution_count": 279,
      "outputs": [
        {
          "output_type": "stream",
          "text": [
            "A/5 21171\n",
            "A5\n",
            "PC 17599\n",
            "PC\n",
            "STON/O2. 3101282\n",
            "STONO2\n",
            "113803\n",
            "XXX\n",
            "373450\n",
            "XXX\n",
            "330877\n",
            "XXX\n",
            "17463\n",
            "XXX\n",
            "349909\n",
            "XXX\n",
            "347742\n",
            "XXX\n",
            "237736\n",
            "XXX\n",
            "PP 9549\n",
            "PP\n",
            "113783\n",
            "XXX\n",
            "A/5. 2151\n",
            "A5\n",
            "347082\n",
            "XXX\n",
            "350406\n",
            "XXX\n",
            "248706\n",
            "XXX\n",
            "382652\n",
            "XXX\n",
            "244373\n",
            "XXX\n",
            "345763\n",
            "XXX\n",
            "2649\n",
            "XXX\n",
            "239865\n",
            "XXX\n",
            "248698\n",
            "XXX\n",
            "330923\n",
            "XXX\n",
            "113788\n",
            "XXX\n",
            "349909\n",
            "XXX\n",
            "347077\n",
            "XXX\n",
            "2631\n",
            "XXX\n",
            "19950\n",
            "XXX\n",
            "330959\n",
            "XXX\n",
            "349216\n",
            "XXX\n",
            "PC 17601\n",
            "PC\n",
            "PC 17569\n",
            "PC\n",
            "335677\n",
            "XXX\n",
            "C.A. 24579\n",
            "CA\n",
            "PC 17604\n",
            "PC\n",
            "113789\n",
            "XXX\n",
            "2677\n",
            "XXX\n",
            "A./5. 2152\n",
            "A5\n",
            "345764\n",
            "XXX\n",
            "2651\n",
            "XXX\n",
            "7546\n",
            "XXX\n",
            "11668\n",
            "XXX\n",
            "349253\n",
            "XXX\n",
            "SC/Paris 2123\n",
            "SCParis\n",
            "330958\n",
            "XXX\n",
            "S.C./A.4. 23567\n",
            "SCA4\n",
            "370371\n",
            "XXX\n",
            "14311\n",
            "XXX\n",
            "2662\n",
            "XXX\n",
            "349237\n",
            "XXX\n",
            "3101295\n",
            "XXX\n",
            "A/4. 39886\n",
            "A4\n",
            "PC 17572\n",
            "PC\n",
            "2926\n",
            "XXX\n",
            "113509\n",
            "XXX\n",
            "19947\n",
            "XXX\n",
            "C.A. 31026\n",
            "CA\n",
            "2697\n",
            "XXX\n",
            "C.A. 34651\n",
            "CA\n",
            "CA 2144\n",
            "CA\n",
            "2669\n",
            "XXX\n",
            "113572\n",
            "XXX\n",
            "36973\n",
            "XXX\n",
            "347088\n",
            "XXX\n",
            "PC 17605\n",
            "PC\n",
            "2661\n",
            "XXX\n",
            "C.A. 29395\n",
            "CA\n",
            "S.P. 3464\n",
            "SP\n",
            "3101281\n",
            "XXX\n",
            "315151\n",
            "XXX\n",
            "C.A. 33111\n",
            "CA\n",
            "CA 2144\n",
            "CA\n",
            "S.O.C. 14879\n",
            "SOC\n",
            "2680\n",
            "XXX\n",
            "1601\n",
            "XXX\n",
            "348123\n",
            "XXX\n",
            "349208\n",
            "XXX\n",
            "374746\n",
            "XXX\n",
            "248738\n",
            "XXX\n",
            "364516\n",
            "XXX\n",
            "345767\n",
            "XXX\n",
            "345779\n",
            "XXX\n",
            "330932\n",
            "XXX\n",
            "113059\n",
            "XXX\n",
            "SO/C 14885\n",
            "SOC\n",
            "3101278\n",
            "XXX\n",
            "W./C. 6608\n",
            "WC\n",
            "SOTON/OQ 392086\n",
            "SOTONOQ\n",
            "19950\n",
            "XXX\n",
            "343275\n",
            "XXX\n",
            "343276\n",
            "XXX\n",
            "347466\n",
            "XXX\n",
            "W.E.P. 5734\n",
            "WEP\n",
            "C.A. 2315\n",
            "CA\n",
            "364500\n",
            "XXX\n",
            "374910\n",
            "XXX\n",
            "PC 17754\n",
            "PC\n",
            "PC 17759\n",
            "PC\n",
            "231919\n",
            "XXX\n",
            "244367\n",
            "XXX\n",
            "349245\n",
            "XXX\n",
            "349215\n",
            "XXX\n",
            "35281\n",
            "XXX\n",
            "7540\n",
            "XXX\n",
            "3101276\n",
            "XXX\n",
            "349207\n",
            "XXX\n",
            "343120\n",
            "XXX\n",
            "312991\n",
            "XXX\n",
            "349249\n",
            "XXX\n",
            "371110\n",
            "XXX\n",
            "110465\n",
            "XXX\n",
            "2665\n",
            "XXX\n",
            "324669\n",
            "XXX\n",
            "4136\n",
            "XXX\n",
            "2627\n",
            "XXX\n",
            "STON/O 2. 3101294\n",
            "STONO\n",
            "370369\n",
            "XXX\n",
            "11668\n",
            "XXX\n",
            "PC 17558\n",
            "PC\n",
            "347082\n",
            "XXX\n",
            "S.O.C. 14879\n",
            "SOC\n",
            "A4. 54510\n",
            "A4\n",
            "237736\n",
            "XXX\n",
            "27267\n",
            "XXX\n",
            "35281\n",
            "XXX\n",
            "2651\n",
            "XXX\n",
            "370372\n",
            "XXX\n",
            "C 17369\n",
            "C\n",
            "2668\n",
            "XXX\n",
            "347061\n",
            "XXX\n",
            "349241\n",
            "XXX\n",
            "SOTON/O.Q. 3101307\n",
            "SOTONOQ\n",
            "A/5. 3337\n",
            "A5\n",
            "228414\n",
            "XXX\n",
            "C.A. 29178\n",
            "CA\n",
            "SC/PARIS 2133\n",
            "SCPARIS\n",
            "11752\n",
            "XXX\n",
            "113803\n",
            "XXX\n",
            "7534\n",
            "XXX\n",
            "PC 17593\n",
            "PC\n",
            "2678\n",
            "XXX\n",
            "347081\n",
            "XXX\n",
            "STON/O2. 3101279\n",
            "STONO2\n",
            "365222\n",
            "XXX\n",
            "231945\n",
            "XXX\n",
            "C.A. 33112\n",
            "CA\n",
            "350043\n",
            "XXX\n",
            "W./C. 6608\n",
            "WC\n",
            "230080\n",
            "XXX\n",
            "244310\n",
            "XXX\n",
            "S.O.P. 1166\n",
            "SOP\n",
            "113776\n",
            "XXX\n",
            "A.5. 11206\n",
            "A5\n",
            "A/5. 851\n",
            "A5\n",
            "Fa 265302\n",
            "Fa\n",
            "PC 17597\n",
            "PC\n",
            "35851\n",
            "XXX\n",
            "SOTON/OQ 392090\n",
            "SOTONOQ\n",
            "315037\n",
            "XXX\n",
            "CA. 2343\n",
            "CA\n",
            "371362\n",
            "XXX\n",
            "C.A. 33595\n",
            "CA\n",
            "347068\n",
            "XXX\n",
            "315093\n",
            "XXX\n",
            "3101295\n",
            "XXX\n",
            "363291\n",
            "XXX\n",
            "113505\n",
            "XXX\n",
            "347088\n",
            "XXX\n",
            "PC 17318\n",
            "PC\n",
            "1601\n",
            "XXX\n",
            "111240\n",
            "XXX\n",
            "382652\n",
            "XXX\n",
            "347742\n",
            "XXX\n",
            "STON/O 2. 3101280\n",
            "STONO\n",
            "17764\n",
            "XXX\n",
            "350404\n",
            "XXX\n",
            "4133\n",
            "XXX\n",
            "PC 17595\n",
            "PC\n",
            "250653\n",
            "XXX\n",
            "LINE\n",
            "LINE\n",
            "CA. 2343\n",
            "CA\n",
            "SC/PARIS 2131\n",
            "SCPARIS\n",
            "347077\n",
            "XXX\n",
            "230136\n",
            "XXX\n",
            "315153\n",
            "XXX\n",
            "113767\n",
            "XXX\n",
            "370365\n",
            "XXX\n",
            "111428\n",
            "XXX\n",
            "364849\n",
            "XXX\n",
            "349247\n",
            "XXX\n",
            "234604\n",
            "XXX\n",
            "28424\n",
            "XXX\n",
            "350046\n",
            "XXX\n",
            "230080\n",
            "XXX\n",
            "PC 17610\n",
            "PC\n",
            "PC 17569\n",
            "PC\n",
            "368703\n",
            "XXX\n",
            "4579\n",
            "XXX\n",
            "370370\n",
            "XXX\n",
            "248747\n",
            "XXX\n",
            "345770\n",
            "XXX\n",
            "CA. 2343\n",
            "CA\n",
            "3101264\n",
            "XXX\n",
            "2628\n",
            "XXX\n",
            "A/5 3540\n",
            "A5\n",
            "347054\n",
            "XXX\n",
            "3101278\n",
            "XXX\n",
            "2699\n",
            "XXX\n",
            "367231\n",
            "XXX\n",
            "112277\n",
            "XXX\n",
            "SOTON/O.Q. 3101311\n",
            "SOTONOQ\n",
            "F.C.C. 13528\n",
            "FCC\n",
            "A/5 21174\n",
            "A5\n",
            "250646\n",
            "XXX\n",
            "367229\n",
            "XXX\n",
            "35273\n",
            "XXX\n",
            "STON/O2. 3101283\n",
            "STONO2\n",
            "243847\n",
            "XXX\n",
            "11813\n",
            "XXX\n",
            "W/C 14208\n",
            "WC\n",
            "SOTON/OQ 392089\n",
            "SOTONOQ\n",
            "220367\n",
            "XXX\n",
            "21440\n",
            "XXX\n",
            "349234\n",
            "XXX\n",
            "19943\n",
            "XXX\n",
            "PP 4348\n",
            "PP\n",
            "SW/PP 751\n",
            "SWPP\n",
            "A/5 21173\n",
            "A5\n",
            "236171\n",
            "XXX\n",
            "4133\n",
            "XXX\n",
            "36973\n",
            "XXX\n",
            "347067\n",
            "XXX\n",
            "237442\n",
            "XXX\n",
            "347077\n",
            "XXX\n",
            "C.A. 29566\n",
            "CA\n",
            "W./C. 6609\n",
            "WC\n",
            "26707\n",
            "XXX\n",
            "C.A. 31921\n",
            "CA\n",
            "28665\n",
            "XXX\n",
            "SCO/W 1585\n",
            "SCOW\n",
            "2665\n",
            "XXX\n",
            "367230\n",
            "XXX\n",
            "W./C. 14263\n",
            "WC\n",
            "STON/O 2. 3101275\n",
            "STONO\n",
            "2694\n",
            "XXX\n",
            "19928\n",
            "XXX\n",
            "347071\n",
            "XXX\n",
            "250649\n",
            "XXX\n",
            "11751\n",
            "XXX\n",
            "244252\n",
            "XXX\n",
            "362316\n",
            "XXX\n",
            "347054\n",
            "XXX\n",
            "113514\n",
            "XXX\n",
            "A/5. 3336\n",
            "A5\n",
            "370129\n",
            "XXX\n",
            "2650\n",
            "XXX\n",
            "PC 17585\n",
            "PC\n",
            "110152\n",
            "XXX\n",
            "PC 17755\n",
            "PC\n",
            "230433\n",
            "XXX\n",
            "384461\n",
            "XXX\n",
            "347077\n",
            "XXX\n",
            "110413\n",
            "XXX\n",
            "112059\n",
            "XXX\n",
            "382649\n",
            "XXX\n",
            "C.A. 17248\n",
            "CA\n",
            "3101295\n",
            "XXX\n",
            "347083\n",
            "XXX\n",
            "PC 17582\n",
            "PC\n",
            "PC 17760\n",
            "PC\n",
            "113798\n",
            "XXX\n",
            "LINE\n",
            "LINE\n",
            "250644\n",
            "XXX\n",
            "PC 17596\n",
            "PC\n",
            "370375\n",
            "XXX\n",
            "13502\n",
            "XXX\n",
            "347073\n",
            "XXX\n",
            "239853\n",
            "XXX\n",
            "382652\n",
            "XXX\n",
            "C.A. 2673\n",
            "CA\n",
            "336439\n",
            "XXX\n",
            "347464\n",
            "XXX\n",
            "345778\n",
            "XXX\n",
            "A/5. 10482\n",
            "A5\n",
            "113056\n",
            "XXX\n",
            "349239\n",
            "XXX\n",
            "345774\n",
            "XXX\n",
            "349206\n",
            "XXX\n",
            "237798\n",
            "XXX\n",
            "370373\n",
            "XXX\n",
            "19877\n",
            "XXX\n",
            "11967\n",
            "XXX\n",
            "SC/Paris 2163\n",
            "SCParis\n",
            "349236\n",
            "XXX\n",
            "349233\n",
            "XXX\n",
            "PC 17612\n",
            "PC\n",
            "2693\n",
            "XXX\n",
            "113781\n",
            "XXX\n",
            "19988\n",
            "XXX\n",
            "PC 17558\n",
            "PC\n",
            "9234\n",
            "XXX\n",
            "367226\n",
            "XXX\n",
            "LINE\n",
            "LINE\n",
            "226593\n",
            "XXX\n",
            "A/5 2466\n",
            "A5\n",
            "113781\n",
            "XXX\n",
            "17421\n",
            "XXX\n",
            "PC 17758\n",
            "PC\n",
            "P/PP 3381\n",
            "PPP\n",
            "PC 17485\n",
            "PC\n",
            "11767\n",
            "XXX\n",
            "PC 17608\n",
            "PC\n",
            "250651\n",
            "XXX\n",
            "349243\n",
            "XXX\n",
            "F.C.C. 13529\n",
            "FCC\n",
            "347470\n",
            "XXX\n",
            "244367\n",
            "XXX\n",
            "29011\n",
            "XXX\n",
            "36928\n",
            "XXX\n",
            "16966\n",
            "XXX\n",
            "A/5 21172\n",
            "A5\n",
            "349219\n",
            "XXX\n",
            "234818\n",
            "XXX\n",
            "248738\n",
            "XXX\n",
            "CA. 2343\n",
            "CA\n",
            "PC 17760\n",
            "PC\n",
            "345364\n",
            "XXX\n",
            "28551\n",
            "XXX\n",
            "363291\n",
            "XXX\n",
            "111361\n",
            "XXX\n",
            "367226\n",
            "XXX\n",
            "113043\n",
            "XXX\n",
            "PC 17582\n",
            "PC\n",
            "345764\n",
            "XXX\n",
            "PC 17611\n",
            "PC\n",
            "349225\n",
            "XXX\n",
            "113776\n",
            "XXX\n",
            "16966\n",
            "XXX\n",
            "7598\n",
            "XXX\n",
            "113784\n",
            "XXX\n",
            "230080\n",
            "XXX\n",
            "19950\n",
            "XXX\n",
            "248740\n",
            "XXX\n",
            "244361\n",
            "XXX\n",
            "229236\n",
            "XXX\n",
            "248733\n",
            "XXX\n",
            "31418\n",
            "XXX\n",
            "386525\n",
            "XXX\n",
            "C.A. 37671\n",
            "CA\n",
            "315088\n",
            "XXX\n",
            "7267\n",
            "XXX\n",
            "113510\n",
            "XXX\n",
            "2695\n",
            "XXX\n",
            "349237\n",
            "XXX\n",
            "2647\n",
            "XXX\n",
            "345783\n",
            "XXX\n",
            "113505\n",
            "XXX\n",
            "237671\n",
            "XXX\n",
            "330931\n",
            "XXX\n",
            "330980\n",
            "XXX\n",
            "347088\n",
            "XXX\n",
            "SC/PARIS 2167\n",
            "SCPARIS\n",
            "2691\n",
            "XXX\n",
            "SOTON/O.Q. 3101310\n",
            "SOTONOQ\n",
            "370365\n",
            "XXX\n",
            "C 7076\n",
            "C\n",
            "110813\n",
            "XXX\n",
            "2626\n",
            "XXX\n",
            "14313\n",
            "XXX\n",
            "PC 17477\n",
            "PC\n",
            "11765\n",
            "XXX\n",
            "3101267\n",
            "XXX\n",
            "323951\n",
            "XXX\n",
            "PC 17760\n",
            "PC\n",
            "349909\n",
            "XXX\n",
            "PC 17604\n",
            "PC\n",
            "C 7077\n",
            "C\n",
            "113503\n",
            "XXX\n",
            "2648\n",
            "XXX\n",
            "347069\n",
            "XXX\n",
            "PC 17757\n",
            "PC\n",
            "2653\n",
            "XXX\n",
            "STON/O 2. 3101293\n",
            "STONO\n",
            "113789\n",
            "XXX\n",
            "349227\n",
            "XXX\n",
            "S.O.C. 14879\n",
            "SOC\n",
            "CA 2144\n",
            "CA\n",
            "27849\n",
            "XXX\n",
            "367655\n",
            "XXX\n",
            "SC 1748\n",
            "SC\n",
            "113760\n",
            "XXX\n",
            "350034\n",
            "XXX\n",
            "3101277\n",
            "XXX\n",
            "35273\n",
            "XXX\n",
            "PP 9549\n",
            "PP\n",
            "350052\n",
            "XXX\n",
            "350407\n",
            "XXX\n",
            "28403\n",
            "XXX\n",
            "244278\n",
            "XXX\n",
            "240929\n",
            "XXX\n",
            "STON/O 2. 3101289\n",
            "STONO\n",
            "341826\n",
            "XXX\n",
            "4137\n",
            "XXX\n",
            "STON/O2. 3101279\n",
            "STONO2\n",
            "315096\n",
            "XXX\n",
            "28664\n",
            "XXX\n",
            "347064\n",
            "XXX\n",
            "29106\n",
            "XXX\n",
            "312992\n",
            "XXX\n",
            "4133\n",
            "XXX\n",
            "349222\n",
            "XXX\n",
            "394140\n",
            "XXX\n",
            "19928\n",
            "XXX\n",
            "239853\n",
            "XXX\n",
            "STON/O 2. 3101269\n",
            "STONO\n",
            "343095\n",
            "XXX\n",
            "28220\n",
            "XXX\n",
            "250652\n",
            "XXX\n",
            "28228\n",
            "XXX\n",
            "345773\n",
            "XXX\n",
            "349254\n",
            "XXX\n",
            "A/5. 13032\n",
            "A5\n",
            "315082\n",
            "XXX\n",
            "347080\n",
            "XXX\n",
            "370129\n",
            "XXX\n",
            "A/4. 34244\n",
            "A4\n",
            "2003\n",
            "XXX\n",
            "250655\n",
            "XXX\n",
            "364851\n",
            "XXX\n",
            "SOTON/O.Q. 392078\n",
            "SOTONOQ\n",
            "110564\n",
            "XXX\n",
            "376564\n",
            "XXX\n",
            "SC/AH 3085\n",
            "SCAH\n",
            "STON/O 2. 3101274\n",
            "STONO\n",
            "13507\n",
            "XXX\n",
            "113760\n",
            "XXX\n",
            "W./C. 6608\n",
            "WC\n",
            "29106\n",
            "XXX\n",
            "19950\n",
            "XXX\n",
            "C.A. 18723\n",
            "CA\n",
            "F.C.C. 13529\n",
            "FCC\n",
            "345769\n",
            "XXX\n",
            "347076\n",
            "XXX\n",
            "230434\n",
            "XXX\n",
            "65306\n",
            "XXX\n",
            "33638\n",
            "XXX\n",
            "250644\n",
            "XXX\n",
            "113794\n",
            "XXX\n",
            "2666\n",
            "XXX\n",
            "113786\n",
            "XXX\n",
            "C.A. 34651\n",
            "CA\n",
            "65303\n",
            "XXX\n",
            "113051\n",
            "XXX\n",
            "17453\n",
            "XXX\n",
            "A/5 2817\n",
            "A5\n",
            "349240\n",
            "XXX\n",
            "13509\n",
            "XXX\n",
            "17464\n",
            "XXX\n",
            "F.C.C. 13531\n",
            "FCC\n",
            "371060\n",
            "XXX\n",
            "19952\n",
            "XXX\n",
            "364506\n",
            "XXX\n",
            "111320\n",
            "XXX\n",
            "234360\n",
            "XXX\n",
            "A/S 2816\n",
            "AS\n",
            "SOTON/O.Q. 3101306\n",
            "SOTONOQ\n",
            "239853\n",
            "XXX\n",
            "113792\n",
            "XXX\n",
            "36209\n",
            "XXX\n",
            "2666\n",
            "XXX\n",
            "323592\n",
            "XXX\n",
            "315089\n",
            "XXX\n",
            "C.A. 34651\n",
            "CA\n",
            "SC/AH Basle 541\n",
            "SCAH\n",
            "7553\n",
            "XXX\n",
            "110465\n",
            "XXX\n",
            "31027\n",
            "XXX\n",
            "3460\n",
            "XXX\n",
            "350060\n",
            "XXX\n",
            "3101298\n",
            "XXX\n",
            "CA 2144\n",
            "CA\n",
            "239854\n",
            "XXX\n",
            "A/5 3594\n",
            "A5\n",
            "4134\n",
            "XXX\n",
            "11967\n",
            "XXX\n",
            "4133\n",
            "XXX\n",
            "19943\n",
            "XXX\n",
            "11771\n",
            "XXX\n",
            "A.5. 18509\n",
            "A5\n",
            "C.A. 37671\n",
            "CA\n",
            "65304\n",
            "XXX\n",
            "SOTON/OQ 3101317\n",
            "SOTONOQ\n",
            "113787\n",
            "XXX\n",
            "PC 17609\n",
            "PC\n",
            "A/4 45380\n",
            "A4\n",
            "2627\n",
            "XXX\n",
            "36947\n",
            "XXX\n",
            "C.A. 6212\n",
            "CA\n",
            "113781\n",
            "XXX\n",
            "350035\n",
            "XXX\n",
            "315086\n",
            "XXX\n",
            "364846\n",
            "XXX\n",
            "330909\n",
            "XXX\n",
            "4135\n",
            "XXX\n",
            "110152\n",
            "XXX\n",
            "PC 17758\n",
            "PC\n",
            "26360\n",
            "XXX\n",
            "111427\n",
            "XXX\n",
            "C 4001\n",
            "C\n",
            "1601\n",
            "XXX\n",
            "382651\n",
            "XXX\n",
            "SOTON/OQ 3101316\n",
            "SOTONOQ\n",
            "PC 17473\n",
            "PC\n",
            "PC 17603\n",
            "PC\n",
            "349209\n",
            "XXX\n",
            "36967\n",
            "XXX\n",
            "C.A. 34260\n",
            "CA\n",
            "371110\n",
            "XXX\n",
            "226875\n",
            "XXX\n",
            "349242\n",
            "XXX\n",
            "12749\n",
            "XXX\n",
            "349252\n",
            "XXX\n",
            "2624\n",
            "XXX\n",
            "111361\n",
            "XXX\n",
            "2700\n",
            "XXX\n",
            "367232\n",
            "XXX\n",
            "W./C. 14258\n",
            "WC\n",
            "PC 17483\n",
            "PC\n",
            "3101296\n",
            "XXX\n",
            "29104\n",
            "XXX\n",
            "26360\n",
            "XXX\n",
            "2641\n",
            "XXX\n",
            "2690\n",
            "XXX\n",
            "2668\n",
            "XXX\n",
            "315084\n",
            "XXX\n",
            "F.C.C. 13529\n",
            "FCC\n",
            "113050\n",
            "XXX\n",
            "PC 17761\n",
            "PC\n",
            "364498\n",
            "XXX\n",
            "13568\n",
            "XXX\n",
            "WE/P 5735\n",
            "WEP\n",
            "347082\n",
            "XXX\n",
            "347082\n",
            "XXX\n",
            "2908\n",
            "XXX\n",
            "PC 17761\n",
            "PC\n",
            "693\n",
            "XXX\n",
            "2908\n",
            "XXX\n",
            "SC/PARIS 2146\n",
            "SCPARIS\n",
            "363291\n",
            "XXX\n",
            "C.A. 33112\n",
            "CA\n",
            "17421\n",
            "XXX\n",
            "244358\n",
            "XXX\n",
            "330979\n",
            "XXX\n",
            "2620\n",
            "XXX\n",
            "347085\n",
            "XXX\n",
            "113807\n",
            "XXX\n",
            "11755\n",
            "XXX\n",
            "PC 17757\n",
            "PC\n",
            "110413\n",
            "XXX\n",
            "345572\n",
            "XXX\n",
            "372622\n",
            "XXX\n",
            "349251\n",
            "XXX\n",
            "218629\n",
            "XXX\n",
            "SOTON/OQ 392082\n",
            "SOTONOQ\n",
            "SOTON/O.Q. 392087\n",
            "SOTONOQ\n",
            "A/4 48871\n",
            "A4\n",
            "349205\n",
            "XXX\n",
            "349909\n",
            "XXX\n",
            "2686\n",
            "XXX\n",
            "350417\n",
            "XXX\n",
            "S.W./PP 752\n",
            "SWPP\n",
            "11769\n",
            "XXX\n",
            "PC 17474\n",
            "PC\n",
            "14312\n",
            "XXX\n",
            "A/4. 20589\n",
            "A4\n",
            "358585\n",
            "XXX\n",
            "243880\n",
            "XXX\n",
            "13507\n",
            "XXX\n",
            "2689\n",
            "XXX\n",
            "STON/O 2. 3101286\n",
            "STONO\n",
            "237789\n",
            "XXX\n",
            "17421\n",
            "XXX\n",
            "28403\n",
            "XXX\n",
            "13049\n",
            "XXX\n",
            "3411\n",
            "XXX\n",
            "110413\n",
            "XXX\n",
            "237565\n",
            "XXX\n",
            "13567\n",
            "XXX\n",
            "14973\n",
            "XXX\n",
            "A./5. 3235\n",
            "A5\n",
            "STON/O 2. 3101273\n",
            "STONO\n",
            "36947\n",
            "XXX\n",
            "A/5 3902\n",
            "A5\n",
            "364848\n",
            "XXX\n",
            "SC/AH 29037\n",
            "SCAH\n",
            "345773\n",
            "XXX\n",
            "248727\n",
            "XXX\n",
            "LINE\n",
            "LINE\n",
            "2664\n",
            "XXX\n",
            "PC 17485\n",
            "PC\n",
            "243847\n",
            "XXX\n",
            "349214\n",
            "XXX\n",
            "113796\n",
            "XXX\n",
            "364511\n",
            "XXX\n",
            "111426\n",
            "XXX\n",
            "349910\n",
            "XXX\n",
            "349246\n",
            "XXX\n",
            "113804\n",
            "XXX\n",
            "SC/Paris 2123\n",
            "SCParis\n",
            "PC 17582\n",
            "PC\n",
            "347082\n",
            "XXX\n",
            "SOTON/O.Q. 3101305\n",
            "SOTONOQ\n",
            "367230\n",
            "XXX\n",
            "370377\n",
            "XXX\n",
            "364512\n",
            "XXX\n",
            "220845\n",
            "XXX\n",
            "347080\n",
            "XXX\n",
            "A/5. 3336\n",
            "A5\n",
            "230136\n",
            "XXX\n",
            "31028\n",
            "XXX\n",
            "2659\n",
            "XXX\n",
            "11753\n",
            "XXX\n",
            "2653\n",
            "XXX\n",
            "350029\n",
            "XXX\n",
            "54636\n",
            "XXX\n",
            "36963\n",
            "XXX\n",
            "219533\n",
            "XXX\n",
            "13502\n",
            "XXX\n",
            "349224\n",
            "XXX\n",
            "334912\n",
            "XXX\n",
            "27042\n",
            "XXX\n",
            "347743\n",
            "XXX\n",
            "13214\n",
            "XXX\n",
            "112052\n",
            "XXX\n",
            "347088\n",
            "XXX\n",
            "237668\n",
            "XXX\n",
            "STON/O 2. 3101292\n",
            "STONO\n",
            "C.A. 31921\n",
            "CA\n",
            "3101295\n",
            "XXX\n",
            "376564\n",
            "XXX\n",
            "350050\n",
            "XXX\n",
            "PC 17477\n",
            "PC\n",
            "347088\n",
            "XXX\n",
            "1601\n",
            "XXX\n",
            "2666\n",
            "XXX\n",
            "PC 17572\n",
            "PC\n",
            "349231\n",
            "XXX\n",
            "13213\n",
            "XXX\n",
            "S.O./P.P. 751\n",
            "SOPP\n",
            "CA. 2314\n",
            "CA\n",
            "349221\n",
            "XXX\n",
            "231919\n",
            "XXX\n",
            "8475\n",
            "XXX\n",
            "330919\n",
            "XXX\n",
            "365226\n",
            "XXX\n",
            "S.O.C. 14879\n",
            "SOC\n",
            "349223\n",
            "XXX\n",
            "364849\n",
            "XXX\n",
            "29751\n",
            "XXX\n",
            "35273\n",
            "XXX\n",
            "PC 17611\n",
            "PC\n",
            "2623\n",
            "XXX\n",
            "5727\n",
            "XXX\n",
            "349210\n",
            "XXX\n",
            "STON/O 2. 3101285\n",
            "STONO\n",
            "S.O.C. 14879\n",
            "SOC\n",
            "234686\n",
            "XXX\n",
            "312993\n",
            "XXX\n",
            "A/5 3536\n",
            "A5\n",
            "19996\n",
            "XXX\n",
            "29750\n",
            "XXX\n",
            "F.C. 12750\n",
            "FC\n",
            "C.A. 24580\n",
            "CA\n",
            "244270\n",
            "XXX\n",
            "239856\n",
            "XXX\n",
            "349912\n",
            "XXX\n",
            "342826\n",
            "XXX\n",
            "4138\n",
            "XXX\n",
            "CA 2144\n",
            "CA\n",
            "PC 17755\n",
            "PC\n",
            "330935\n",
            "XXX\n",
            "PC 17572\n",
            "PC\n",
            "6563\n",
            "XXX\n",
            "CA 2144\n",
            "CA\n",
            "29750\n",
            "XXX\n",
            "SC/Paris 2123\n",
            "SCParis\n",
            "3101295\n",
            "XXX\n",
            "349228\n",
            "XXX\n",
            "350036\n",
            "XXX\n",
            "24160\n",
            "XXX\n",
            "17474\n",
            "XXX\n",
            "349256\n",
            "XXX\n",
            "1601\n",
            "XXX\n",
            "2672\n",
            "XXX\n",
            "113800\n",
            "XXX\n",
            "248731\n",
            "XXX\n",
            "363592\n",
            "XXX\n",
            "35852\n",
            "XXX\n",
            "17421\n",
            "XXX\n",
            "348121\n",
            "XXX\n",
            "PC 17757\n",
            "PC\n",
            "PC 17475\n",
            "PC\n",
            "2691\n",
            "XXX\n",
            "36864\n",
            "XXX\n",
            "350025\n",
            "XXX\n",
            "250655\n",
            "XXX\n",
            "223596\n",
            "XXX\n",
            "PC 17476\n",
            "PC\n",
            "113781\n",
            "XXX\n",
            "2661\n",
            "XXX\n",
            "PC 17482\n",
            "PC\n",
            "113028\n",
            "XXX\n",
            "19996\n",
            "XXX\n",
            "7545\n",
            "XXX\n",
            "250647\n",
            "XXX\n",
            "348124\n",
            "XXX\n",
            "PC 17757\n",
            "PC\n",
            "34218\n",
            "XXX\n",
            "36568\n",
            "XXX\n",
            "347062\n",
            "XXX\n",
            "248727\n",
            "XXX\n",
            "350048\n",
            "XXX\n",
            "12233\n",
            "XXX\n",
            "250643\n",
            "XXX\n",
            "113806\n",
            "XXX\n",
            "315094\n",
            "XXX\n",
            "31027\n",
            "XXX\n",
            "36866\n",
            "XXX\n",
            "236853\n",
            "XXX\n",
            "STON/O2. 3101271\n",
            "STONO2\n",
            "24160\n",
            "XXX\n",
            "2699\n",
            "XXX\n",
            "239855\n",
            "XXX\n",
            "28425\n",
            "XXX\n",
            "233639\n",
            "XXX\n",
            "54636\n",
            "XXX\n",
            "W./C. 6608\n",
            "WC\n",
            "PC 17755\n",
            "PC\n",
            "349201\n",
            "XXX\n",
            "349218\n",
            "XXX\n",
            "16988\n",
            "XXX\n",
            "19877\n",
            "XXX\n",
            "PC 17608\n",
            "PC\n",
            "376566\n",
            "XXX\n",
            "STON/O 2. 3101288\n",
            "STONO\n",
            "WE/P 5735\n",
            "WEP\n",
            "C.A. 2673\n",
            "CA\n",
            "250648\n",
            "XXX\n",
            "113773\n",
            "XXX\n",
            "335097\n",
            "XXX\n",
            "29103\n",
            "XXX\n",
            "392096\n",
            "XXX\n",
            "345780\n",
            "XXX\n",
            "349204\n",
            "XXX\n",
            "220845\n",
            "XXX\n",
            "250649\n",
            "XXX\n",
            "350042\n",
            "XXX\n",
            "29108\n",
            "XXX\n",
            "363294\n",
            "XXX\n",
            "110152\n",
            "XXX\n",
            "358585\n",
            "XXX\n",
            "SOTON/O2 3101272\n",
            "SOTONO2\n",
            "2663\n",
            "XXX\n",
            "113760\n",
            "XXX\n",
            "347074\n",
            "XXX\n",
            "13502\n",
            "XXX\n",
            "112379\n",
            "XXX\n",
            "364850\n",
            "XXX\n",
            "371110\n",
            "XXX\n",
            "8471\n",
            "XXX\n",
            "345781\n",
            "XXX\n",
            "350047\n",
            "XXX\n",
            "S.O./P.P. 3\n",
            "SOPP\n",
            "2674\n",
            "XXX\n",
            "29105\n",
            "XXX\n",
            "347078\n",
            "XXX\n",
            "383121\n",
            "XXX\n",
            "364516\n",
            "XXX\n",
            "36865\n",
            "XXX\n",
            "24160\n",
            "XXX\n",
            "2687\n",
            "XXX\n",
            "17474\n",
            "XXX\n",
            "113501\n",
            "XXX\n",
            "W./C. 6607\n",
            "WC\n",
            "SOTON/O.Q. 3101312\n",
            "SOTONOQ\n",
            "374887\n",
            "XXX\n",
            "3101265\n",
            "XXX\n",
            "382652\n",
            "XXX\n",
            "C.A. 2315\n",
            "CA\n",
            "PC 17593\n",
            "PC\n",
            "12460\n",
            "XXX\n",
            "239865\n",
            "XXX\n",
            "CA. 2343\n",
            "CA\n",
            "PC 17600\n",
            "PC\n",
            "349203\n",
            "XXX\n",
            "28213\n",
            "XXX\n",
            "17465\n",
            "XXX\n",
            "349244\n",
            "XXX\n",
            "2685\n",
            "XXX\n",
            "345773\n",
            "XXX\n",
            "250647\n",
            "XXX\n",
            "C.A. 31921\n",
            "CA\n",
            "113760\n",
            "XXX\n",
            "2625\n",
            "XXX\n",
            "347089\n",
            "XXX\n",
            "347063\n",
            "XXX\n",
            "112050\n",
            "XXX\n",
            "347087\n",
            "XXX\n",
            "248723\n",
            "XXX\n",
            "113806\n",
            "XXX\n",
            "3474\n",
            "XXX\n",
            "A/4 48871\n",
            "A4\n",
            "28206\n",
            "XXX\n",
            "347082\n",
            "XXX\n",
            "364499\n",
            "XXX\n",
            "112058\n",
            "XXX\n",
            "STON/O2. 3101290\n",
            "STONO2\n",
            "S.C./PARIS 2079\n",
            "SCPARIS\n",
            "C 7075\n",
            "C\n",
            "347088\n",
            "XXX\n",
            "12749\n",
            "XXX\n",
            "315098\n",
            "XXX\n",
            "19972\n",
            "XXX\n",
            "392096\n",
            "XXX\n",
            "3101295\n",
            "XXX\n",
            "368323\n",
            "XXX\n",
            "1601\n",
            "XXX\n",
            "S.C./PARIS 2079\n",
            "SCPARIS\n",
            "367228\n",
            "XXX\n",
            "113572\n",
            "XXX\n",
            "2659\n",
            "XXX\n",
            "29106\n",
            "XXX\n",
            "2671\n",
            "XXX\n",
            "347468\n",
            "XXX\n",
            "2223\n",
            "XXX\n",
            "PC 17756\n",
            "PC\n",
            "315097\n",
            "XXX\n",
            "392092\n",
            "XXX\n",
            "1601\n",
            "XXX\n",
            "11774\n",
            "XXX\n",
            "SOTON/O2 3101287\n",
            "SOTONO2\n",
            "S.O./P.P. 3\n",
            "SOPP\n",
            "113798\n",
            "XXX\n",
            "2683\n",
            "XXX\n",
            "315090\n",
            "XXX\n",
            "C.A. 5547\n",
            "CA\n",
            "CA. 2343\n",
            "CA\n",
            "349213\n",
            "XXX\n",
            "248727\n",
            "XXX\n",
            "17453\n",
            "XXX\n",
            "347082\n",
            "XXX\n",
            "347060\n",
            "XXX\n",
            "2678\n",
            "XXX\n",
            "PC 17592\n",
            "PC\n",
            "244252\n",
            "XXX\n",
            "392091\n",
            "XXX\n",
            "36928\n",
            "XXX\n",
            "113055\n",
            "XXX\n",
            "2666\n",
            "XXX\n",
            "2629\n",
            "XXX\n",
            "350026\n",
            "XXX\n",
            "28134\n",
            "XXX\n",
            "17466\n",
            "XXX\n",
            "CA. 2343\n",
            "CA\n",
            "233866\n",
            "XXX\n",
            "236852\n",
            "XXX\n",
            "SC/PARIS 2149\n",
            "SCPARIS\n",
            "PC 17590\n",
            "PC\n",
            "345777\n",
            "XXX\n",
            "347742\n",
            "XXX\n",
            "349248\n",
            "XXX\n",
            "11751\n",
            "XXX\n",
            "695\n",
            "XXX\n",
            "345765\n",
            "XXX\n",
            "P/PP 3381\n",
            "PPP\n",
            "2667\n",
            "XXX\n",
            "7534\n",
            "XXX\n",
            "349212\n",
            "XXX\n",
            "349217\n",
            "XXX\n",
            "11767\n",
            "XXX\n",
            "230433\n",
            "XXX\n",
            "349257\n",
            "XXX\n",
            "7552\n",
            "XXX\n",
            "C.A./SOTON 34068\n",
            "CASOTON\n",
            "SOTON/OQ 392076\n",
            "SOTONOQ\n",
            "382652\n",
            "XXX\n",
            "211536\n",
            "XXX\n",
            "112053\n",
            "XXX\n",
            "W./C. 6607\n",
            "WC\n",
            "111369\n",
            "XXX\n",
            "370376\n",
            "XXX\n",
            "330911\n",
            "XXX\n",
            "363272\n",
            "XXX\n",
            "240276\n",
            "XXX\n",
            "315154\n",
            "XXX\n",
            "3101298\n",
            "XXX\n",
            "7538\n",
            "XXX\n",
            "330972\n",
            "XXX\n",
            "248738\n",
            "XXX\n",
            "2657\n",
            "XXX\n",
            "A/4 48871\n",
            "A4\n",
            "349220\n",
            "XXX\n",
            "694\n",
            "XXX\n",
            "21228\n",
            "XXX\n",
            "24065\n",
            "XXX\n",
            "W.E.P. 5734\n",
            "WEP\n",
            "SC/PARIS 2167\n",
            "SCPARIS\n",
            "233734\n",
            "XXX\n",
            "2692\n",
            "XXX\n",
            "STON/O2. 3101270\n",
            "STONO2\n",
            "2696\n",
            "XXX\n",
            "PC 17603\n",
            "PC\n",
            "C 17368\n",
            "C\n",
            "PC 17598\n",
            "PC\n",
            "PC 17597\n",
            "PC\n",
            "PC 17608\n",
            "PC\n",
            "A/5. 3337\n",
            "A5\n",
            "113509\n",
            "XXX\n",
            "2698\n",
            "XXX\n",
            "113054\n",
            "XXX\n",
            "2662\n",
            "XXX\n",
            "SC/AH 3085\n",
            "SCAH\n",
            "C.A. 31029\n",
            "CA\n",
            "C.A. 2315\n",
            "CA\n",
            "W./C. 6607\n",
            "WC\n",
            "13236\n",
            "XXX\n",
            "2682\n",
            "XXX\n",
            "342712\n",
            "XXX\n",
            "315087\n",
            "XXX\n",
            "345768\n",
            "XXX\n",
            "1601\n",
            "XXX\n",
            "349256\n",
            "XXX\n",
            "113778\n",
            "XXX\n",
            "SOTON/O.Q. 3101263\n",
            "SOTONOQ\n",
            "237249\n",
            "XXX\n",
            "11753\n",
            "XXX\n",
            "STON/O 2. 3101291\n",
            "STONO\n",
            "PC 17594\n",
            "PC\n",
            "370374\n",
            "XXX\n",
            "11813\n",
            "XXX\n",
            "C.A. 37671\n",
            "CA\n",
            "13695\n",
            "XXX\n",
            "SC/PARIS 2168\n",
            "SCPARIS\n",
            "29105\n",
            "XXX\n",
            "19950\n",
            "XXX\n",
            "SC/A.3 2861\n",
            "SCA3\n",
            "382652\n",
            "XXX\n",
            "349230\n",
            "XXX\n",
            "348122\n",
            "XXX\n",
            "386525\n",
            "XXX\n",
            "PC 17608\n",
            "PC\n",
            "349232\n",
            "XXX\n",
            "237216\n",
            "XXX\n",
            "347090\n",
            "XXX\n",
            "334914\n",
            "XXX\n",
            "PC 17608\n",
            "PC\n",
            "F.C.C. 13534\n",
            "FCC\n",
            "330963\n",
            "XXX\n",
            "113796\n",
            "XXX\n",
            "2543\n",
            "XXX\n",
            "19950\n",
            "XXX\n",
            "382653\n",
            "XXX\n",
            "349211\n",
            "XXX\n",
            "3101297\n",
            "XXX\n",
            "PC 17562\n",
            "PC\n",
            "113503\n",
            "XXX\n",
            "113503\n",
            "XXX\n",
            "359306\n",
            "XXX\n",
            "11770\n",
            "XXX\n",
            "248744\n",
            "XXX\n",
            "368702\n",
            "XXX\n",
            "2678\n",
            "XXX\n",
            "PC 17483\n",
            "PC\n",
            "19924\n",
            "XXX\n",
            "349238\n",
            "XXX\n",
            "240261\n",
            "XXX\n",
            "2660\n",
            "XXX\n",
            "330844\n",
            "XXX\n",
            "A/4 31416\n",
            "A4\n",
            "364856\n",
            "XXX\n",
            "29103\n",
            "XXX\n",
            "347072\n",
            "XXX\n",
            "345498\n",
            "XXX\n",
            "F.C. 12750\n",
            "FC\n",
            "376563\n",
            "XXX\n",
            "13905\n",
            "XXX\n",
            "350033\n",
            "XXX\n",
            "19877\n",
            "XXX\n",
            "STON/O 2. 3101268\n",
            "STONO\n",
            "347471\n",
            "XXX\n",
            "A./5. 3338\n",
            "A5\n",
            "11778\n",
            "XXX\n",
            "228414\n",
            "XXX\n",
            "365235\n",
            "XXX\n",
            "347070\n",
            "XXX\n",
            "2625\n",
            "XXX\n",
            "C 4001\n",
            "C\n",
            "330920\n",
            "XXX\n",
            "383162\n",
            "XXX\n",
            "3410\n",
            "XXX\n",
            "248734\n",
            "XXX\n",
            "237734\n",
            "XXX\n",
            "330968\n",
            "XXX\n",
            "PC 17531\n",
            "PC\n",
            "329944\n",
            "XXX\n",
            "PC 17483\n",
            "PC\n",
            "2680\n",
            "XXX\n",
            "2681\n",
            "XXX\n",
            "PP 9549\n",
            "PP\n",
            "13050\n",
            "XXX\n",
            "SC/AH 29037\n",
            "SCAH\n",
            "C.A. 33595\n",
            "CA\n",
            "367227\n",
            "XXX\n",
            "13236\n",
            "XXX\n",
            "392095\n",
            "XXX\n",
            "368783\n",
            "XXX\n",
            "371362\n",
            "XXX\n",
            "350045\n",
            "XXX\n",
            "367226\n",
            "XXX\n",
            "211535\n",
            "XXX\n",
            "342441\n",
            "XXX\n",
            "STON/OQ. 369943\n",
            "STONOQ\n",
            "113780\n",
            "XXX\n",
            "4133\n",
            "XXX\n",
            "2621\n",
            "XXX\n",
            "349226\n",
            "XXX\n",
            "350409\n",
            "XXX\n",
            "2656\n",
            "XXX\n",
            "248659\n",
            "XXX\n",
            "SOTON/OQ 392083\n",
            "SOTONOQ\n",
            "CA 2144\n",
            "CA\n",
            "CA 2144\n",
            "CA\n",
            "113781\n",
            "XXX\n",
            "PC 17608\n",
            "PC\n",
            "244358\n",
            "XXX\n",
            "17475\n",
            "XXX\n",
            "345763\n",
            "XXX\n",
            "17463\n",
            "XXX\n",
            "SC/A4 23568\n",
            "SCA4\n",
            "113791\n",
            "XXX\n",
            "250651\n",
            "XXX\n",
            "11767\n",
            "XXX\n",
            "349255\n",
            "XXX\n",
            "3701\n",
            "XXX\n",
            "350405\n",
            "XXX\n",
            "347077\n",
            "XXX\n",
            "S.O./P.P. 752\n",
            "SOPP\n",
            "PC 17483\n",
            "PC\n",
            "347469\n",
            "XXX\n",
            "110489\n",
            "XXX\n",
            "SOTON/O.Q. 3101315\n",
            "SOTONOQ\n",
            "335432\n",
            "XXX\n",
            "2650\n",
            "XXX\n",
            "220844\n",
            "XXX\n",
            "343271\n",
            "XXX\n",
            "237393\n",
            "XXX\n",
            "315153\n",
            "XXX\n",
            "PC 17591\n",
            "PC\n",
            "W./C. 6608\n",
            "WC\n",
            "17770\n",
            "XXX\n",
            "7548\n",
            "XXX\n",
            "S.O./P.P. 251\n",
            "SOPP\n",
            "2670\n",
            "XXX\n",
            "347072\n",
            "XXX\n",
            "2673\n",
            "XXX\n",
            "347077\n",
            "XXX\n",
            "29750\n",
            "XXX\n",
            "C.A. 33112\n",
            "CA\n",
            "11778\n",
            "XXX\n",
            "230136\n",
            "XXX\n",
            "PC 17756\n",
            "PC\n",
            "233478\n",
            "XXX\n",
            "PC 17756\n",
            "PC\n",
            "113773\n",
            "XXX\n",
            "7935\n",
            "XXX\n",
            "PC 17558\n",
            "PC\n",
            "239059\n",
            "XXX\n",
            "S.O./P.P. 2\n",
            "SOPP\n",
            "A/4 48873\n",
            "A4\n",
            "CA. 2343\n",
            "CA\n",
            "28221\n",
            "XXX\n",
            "226875\n",
            "XXX\n",
            "111163\n",
            "XXX\n",
            "A/5. 851\n",
            "A5\n",
            "235509\n",
            "XXX\n",
            "28220\n",
            "XXX\n",
            "347465\n",
            "XXX\n",
            "16966\n",
            "XXX\n",
            "347066\n",
            "XXX\n",
            "C.A. 31030\n",
            "CA\n",
            "65305\n",
            "XXX\n",
            "36568\n",
            "XXX\n",
            "347080\n",
            "XXX\n",
            "PC 17757\n",
            "PC\n",
            "26360\n",
            "XXX\n",
            "C.A. 34050\n",
            "CA\n",
            "F.C. 12998\n",
            "FC\n",
            "9232\n",
            "XXX\n",
            "28034\n",
            "XXX\n",
            "PC 17613\n",
            "PC\n",
            "349250\n",
            "XXX\n",
            "C 4001\n",
            "C\n",
            "SOTON/O.Q. 3101308\n",
            "SOTONOQ\n",
            "S.O.C. 14879\n",
            "SOC\n",
            "24065\n",
            "XXX\n",
            "347091\n",
            "XXX\n",
            "113038\n",
            "XXX\n",
            "330924\n",
            "XXX\n",
            "36928\n",
            "XXX\n",
            "113503\n",
            "XXX\n",
            "32302\n",
            "XXX\n",
            "SC/PARIS 2148\n",
            "SCPARIS\n",
            "342684\n",
            "XXX\n",
            "W./C. 14266\n",
            "WC\n",
            "350053\n",
            "XXX\n",
            "PC 17606\n",
            "PC\n",
            "2661\n",
            "XXX\n",
            "350054\n",
            "XXX\n",
            "370368\n",
            "XXX\n",
            "C.A. 6212\n",
            "CA\n",
            "242963\n",
            "XXX\n",
            "220845\n",
            "XXX\n",
            "113795\n",
            "XXX\n",
            "3101266\n",
            "XXX\n",
            "330971\n",
            "XXX\n",
            "PC 17599\n",
            "PC\n",
            "350416\n",
            "XXX\n",
            "110813\n",
            "XXX\n",
            "2679\n",
            "XXX\n",
            "250650\n",
            "XXX\n",
            "PC 17761\n",
            "PC\n",
            "112377\n",
            "XXX\n",
            "237789\n",
            "XXX\n",
            "16966\n",
            "XXX\n",
            "3470\n",
            "XXX\n",
            "W./C. 6607\n",
            "WC\n",
            "17464\n",
            "XXX\n",
            "F.C.C. 13534\n",
            "FCC\n",
            "28220\n",
            "XXX\n",
            "26707\n",
            "XXX\n",
            "2660\n",
            "XXX\n",
            "C.A. 34651\n",
            "CA\n",
            "SOTON/O2 3101284\n",
            "SOTONO2\n",
            "13508\n",
            "XXX\n",
            "7266\n",
            "XXX\n",
            "345775\n",
            "XXX\n",
            "C.A. 42795\n",
            "CA\n",
            "AQ/4 3130\n",
            "AQ4\n",
            "363611\n",
            "XXX\n",
            "28404\n",
            "XXX\n",
            "345501\n",
            "XXX\n",
            "345572\n",
            "XXX\n",
            "350410\n",
            "XXX\n",
            "29103\n",
            "XXX\n",
            "350405\n",
            "XXX\n",
            "C.A. 34644\n",
            "CA\n",
            "349235\n",
            "XXX\n",
            "112051\n",
            "XXX\n",
            "C.A. 49867\n",
            "CA\n",
            "A. 2. 39186\n",
            "A\n",
            "315095\n",
            "XXX\n",
            "13050\n",
            "XXX\n",
            "368573\n",
            "XXX\n",
            "13508\n",
            "XXX\n",
            "370371\n",
            "XXX\n",
            "2676\n",
            "XXX\n",
            "236853\n",
            "XXX\n",
            "SC 14888\n",
            "SC\n",
            "2926\n",
            "XXX\n",
            "CA 31352\n",
            "CA\n",
            "W./C. 14260\n",
            "WC\n",
            "315085\n",
            "XXX\n",
            "SOTON/O.Q. 3101315\n",
            "SOTONOQ\n",
            "364859\n",
            "XXX\n",
            "2650\n",
            "XXX\n",
            "370129\n",
            "XXX\n",
            "A/5 21175\n",
            "A5\n",
            "SOTON/O.Q. 3101314\n",
            "SOTONOQ\n",
            "21228\n",
            "XXX\n",
            "2655\n",
            "XXX\n",
            "A/5 1478\n",
            "A5\n",
            "PC 17607\n",
            "PC\n",
            "382650\n",
            "XXX\n",
            "2652\n",
            "XXX\n",
            "33638\n",
            "XXX\n",
            "345771\n",
            "XXX\n",
            "349202\n",
            "XXX\n",
            "SC/Paris 2123\n",
            "SCParis\n",
            "2662\n",
            "XXX\n",
            "113801\n",
            "XXX\n",
            "347467\n",
            "XXX\n",
            "347079\n",
            "XXX\n",
            "237735\n",
            "XXX\n",
            "S.O./P.P. 2\n",
            "SOPP\n",
            "315092\n",
            "XXX\n",
            "383123\n",
            "XXX\n",
            "112901\n",
            "XXX\n",
            "113781\n",
            "XXX\n",
            "392091\n",
            "XXX\n",
            "12749\n",
            "XXX\n",
            "350026\n",
            "XXX\n",
            "315091\n",
            "XXX\n",
            "2658\n",
            "XXX\n",
            "LP 1588\n",
            "LP\n",
            "368364\n",
            "XXX\n",
            "PC 17760\n",
            "PC\n",
            "AQ/3. 30631\n",
            "AQ3\n",
            "PC 17569\n",
            "PC\n",
            "28004\n",
            "XXX\n",
            "350408\n",
            "XXX\n",
            "C.A. 31029\n",
            "CA\n",
            "347075\n",
            "XXX\n",
            "2654\n",
            "XXX\n",
            "244368\n",
            "XXX\n",
            "113790\n",
            "XXX\n",
            "24160\n",
            "XXX\n",
            "SOTON/O.Q. 3101309\n",
            "SOTONOQ\n",
            "230136\n",
            "XXX\n",
            "PC 17585\n",
            "PC\n",
            "2003\n",
            "XXX\n",
            "236854\n",
            "XXX\n",
            "C.A. 33112\n",
            "CA\n",
            "PC 17580\n",
            "PC\n",
            "2684\n",
            "XXX\n",
            "2653\n",
            "XXX\n",
            "349229\n",
            "XXX\n",
            "110469\n",
            "XXX\n",
            "244360\n",
            "XXX\n",
            "2675\n",
            "XXX\n",
            "C.A. 31029\n",
            "CA\n",
            "2622\n",
            "XXX\n",
            "C.A. 15185\n",
            "CA\n",
            "350403\n",
            "XXX\n",
            "CA. 2343\n",
            "CA\n",
            "PC 17755\n",
            "PC\n",
            "A/5. 851\n",
            "A5\n",
            "348125\n",
            "XXX\n",
            "237670\n",
            "XXX\n",
            "2688\n",
            "XXX\n",
            "248726\n",
            "XXX\n",
            "F.C.C. 13528\n",
            "FCC\n",
            "PC 17759\n",
            "PC\n",
            "F.C.C. 13540\n",
            "FCC\n",
            "S.O.C. 14879\n",
            "SOC\n",
            "220845\n",
            "XXX\n",
            "C.A. 2315\n",
            "CA\n",
            "113044\n",
            "XXX\n",
            "11769\n",
            "XXX\n",
            "1222\n",
            "XXX\n",
            "368402\n",
            "XXX\n",
            "349910\n",
            "XXX\n",
            "CA. 2343\n",
            "CA\n",
            "S.C./PARIS 2079\n",
            "SCPARIS\n",
            "CA 31352\n",
            "CA\n",
            "315083\n",
            "XXX\n",
            "11765\n",
            "XXX\n",
            "CA. 2343\n",
            "CA\n",
            "2689\n",
            "XXX\n",
            "3101295\n",
            "XXX\n",
            "112378\n",
            "XXX\n",
            "SC/PARIS 2147\n",
            "SCPARIS\n",
            "28133\n",
            "XXX\n",
            "16966\n",
            "XXX\n",
            "112058\n",
            "XXX\n",
            "248746\n",
            "XXX\n",
            "33638\n",
            "XXX\n",
            "PC 17608\n",
            "PC\n",
            "315152\n",
            "XXX\n",
            "29107\n",
            "XXX\n",
            "680\n",
            "XXX\n",
            "347077\n",
            "XXX\n",
            "366713\n",
            "XXX\n",
            "330910\n",
            "XXX\n",
            "364498\n",
            "XXX\n",
            "376566\n",
            "XXX\n",
            "SC/PARIS 2159\n",
            "SCPARIS\n",
            "220845\n",
            "XXX\n",
            "349911\n",
            "XXX\n",
            "244346\n",
            "XXX\n",
            "364858\n",
            "XXX\n",
            "349909\n",
            "XXX\n",
            "12749\n",
            "XXX\n",
            "PC 17592\n",
            "PC\n",
            "C.A. 2673\n",
            "CA\n",
            "C.A. 30769\n",
            "CA\n",
            "315153\n",
            "XXX\n",
            "13695\n",
            "XXX\n",
            "371109\n",
            "XXX\n",
            "13567\n",
            "XXX\n",
            "347065\n",
            "XXX\n",
            "21332\n",
            "XXX\n",
            "36928\n",
            "XXX\n",
            "28664\n",
            "XXX\n",
            "112378\n",
            "XXX\n",
            "113059\n",
            "XXX\n",
            "17765\n",
            "XXX\n",
            "SC/PARIS 2166\n",
            "SCPARIS\n",
            "28666\n",
            "XXX\n",
            "113503\n",
            "XXX\n",
            "334915\n",
            "XXX\n",
            "SOTON/O.Q. 3101315\n",
            "SOTONOQ\n",
            "365237\n",
            "XXX\n",
            "19928\n",
            "XXX\n",
            "347086\n",
            "XXX\n",
            "A.5. 3236\n",
            "A5\n",
            "PC 17758\n",
            "PC\n",
            "SOTON/O.Q. 3101262\n",
            "SOTONOQ\n",
            "359309\n",
            "XXX\n",
            "2668\n",
            "XXX\n"
          ],
          "name": "stdout"
        }
      ]
    },
    {
      "cell_type": "code",
      "metadata": {
        "id": "_FL_FZfpafrE",
        "colab_type": "code",
        "colab": {
          "base_uri": "https://localhost:8080/",
          "height": 34
        },
        "outputId": "a8e837ef-0741-4642-a469-72de60b0a2a8"
      },
      "source": [
        "print (len(tickets))"
      ],
      "execution_count": 280,
      "outputs": [
        {
          "output_type": "stream",
          "text": [
            "37\n"
          ],
          "name": "stdout"
        }
      ]
    },
    {
      "cell_type": "code",
      "metadata": {
        "id": "xzFoFWxqafrd",
        "colab_type": "code",
        "colab": {}
      },
      "source": [
        "def process_ticket():\n",
        "    \n",
        "    global combined\n",
        "    \n",
        "    # a function that extracts each prefix of the ticket, returns 'XXX' if no prefix (i.e the ticket is a digit)\n",
        "    def cleanTicket(ticket):\n",
        "        ticket = ticket.replace('.','')\n",
        "        ticket = ticket.replace('/','')\n",
        "        ticket = ticket.split()\n",
        "        ticket = map(lambda t : t.strip(), ticket)\n",
        "        #ticket = filter(lambda t : not t.isdigit(), ticket)\n",
        "        ticket = [x for x in ticket if not t.isdigit()]\n",
        "        print(ticket)\n",
        "        if len(ticket) > 0:\n",
        "            return ticket[0]\n",
        "        else: \n",
        "            return 'XXX'\n",
        "    \n",
        "\n",
        "    # Extracting dummy variables from tickets:\n",
        "\n",
        "    combined['Ticket'] = combined['Ticket'].map(cleanTicket)\n",
        "    tickets_dummies = pd.get_dummies(combined['Ticket'], prefix='Ticket')\n",
        "    combined = pd.concat([combined, tickets_dummies], axis=1)\n",
        "    combined.drop('Ticket', inplace=True, axis=1)\n",
        "\n",
        "    status('Ticket')\n",
        "    return combined"
      ],
      "execution_count": 0,
      "outputs": []
    },
    {
      "cell_type": "code",
      "metadata": {
        "id": "G0m5lgC0afrp",
        "colab_type": "code",
        "colab": {
          "base_uri": "https://localhost:8080/",
          "height": 715
        },
        "outputId": "a5c305d9-4594-4938-e8d9-36954817f80b"
      },
      "source": [
        "combined = process_ticket()"
      ],
      "execution_count": 290,
      "outputs": [
        {
          "output_type": "error",
          "ename": "KeyError",
          "evalue": "ignored",
          "traceback": [
            "\u001b[0;31m---------------------------------------------------------------------------\u001b[0m",
            "\u001b[0;31mKeyError\u001b[0m                                  Traceback (most recent call last)",
            "\u001b[0;32m/usr/local/lib/python3.6/dist-packages/pandas/core/indexes/base.py\u001b[0m in \u001b[0;36mget_loc\u001b[0;34m(self, key, method, tolerance)\u001b[0m\n\u001b[1;32m   2896\u001b[0m             \u001b[0;32mtry\u001b[0m\u001b[0;34m:\u001b[0m\u001b[0;34m\u001b[0m\u001b[0;34m\u001b[0m\u001b[0m\n\u001b[0;32m-> 2897\u001b[0;31m                 \u001b[0;32mreturn\u001b[0m \u001b[0mself\u001b[0m\u001b[0;34m.\u001b[0m\u001b[0m_engine\u001b[0m\u001b[0;34m.\u001b[0m\u001b[0mget_loc\u001b[0m\u001b[0;34m(\u001b[0m\u001b[0mkey\u001b[0m\u001b[0;34m)\u001b[0m\u001b[0;34m\u001b[0m\u001b[0;34m\u001b[0m\u001b[0m\n\u001b[0m\u001b[1;32m   2898\u001b[0m             \u001b[0;32mexcept\u001b[0m \u001b[0mKeyError\u001b[0m\u001b[0;34m:\u001b[0m\u001b[0;34m\u001b[0m\u001b[0;34m\u001b[0m\u001b[0m\n",
            "\u001b[0;32mpandas/_libs/index.pyx\u001b[0m in \u001b[0;36mpandas._libs.index.IndexEngine.get_loc\u001b[0;34m()\u001b[0m\n",
            "\u001b[0;32mpandas/_libs/index.pyx\u001b[0m in \u001b[0;36mpandas._libs.index.IndexEngine.get_loc\u001b[0;34m()\u001b[0m\n",
            "\u001b[0;32mpandas/_libs/hashtable_class_helper.pxi\u001b[0m in \u001b[0;36mpandas._libs.hashtable.PyObjectHashTable.get_item\u001b[0;34m()\u001b[0m\n",
            "\u001b[0;32mpandas/_libs/hashtable_class_helper.pxi\u001b[0m in \u001b[0;36mpandas._libs.hashtable.PyObjectHashTable.get_item\u001b[0;34m()\u001b[0m\n",
            "\u001b[0;31mKeyError\u001b[0m: 'Ticket'",
            "\nDuring handling of the above exception, another exception occurred:\n",
            "\u001b[0;31mKeyError\u001b[0m                                  Traceback (most recent call last)",
            "\u001b[0;32m<ipython-input-290-dd3516d7b65a>\u001b[0m in \u001b[0;36m<module>\u001b[0;34m()\u001b[0m\n\u001b[0;32m----> 1\u001b[0;31m \u001b[0mcombined\u001b[0m \u001b[0;34m=\u001b[0m \u001b[0mprocess_ticket\u001b[0m\u001b[0;34m(\u001b[0m\u001b[0;34m)\u001b[0m\u001b[0;34m\u001b[0m\u001b[0;34m\u001b[0m\u001b[0m\n\u001b[0m",
            "\u001b[0;32m<ipython-input-289-dc009a40f170>\u001b[0m in \u001b[0;36mprocess_ticket\u001b[0;34m()\u001b[0m\n\u001b[1;32m     20\u001b[0m     \u001b[0;31m# Extracting dummy variables from tickets:\u001b[0m\u001b[0;34m\u001b[0m\u001b[0;34m\u001b[0m\u001b[0;34m\u001b[0m\u001b[0m\n\u001b[1;32m     21\u001b[0m \u001b[0;34m\u001b[0m\u001b[0m\n\u001b[0;32m---> 22\u001b[0;31m     \u001b[0mcombined\u001b[0m\u001b[0;34m[\u001b[0m\u001b[0;34m'Ticket'\u001b[0m\u001b[0;34m]\u001b[0m \u001b[0;34m=\u001b[0m \u001b[0mcombined\u001b[0m\u001b[0;34m[\u001b[0m\u001b[0;34m'Ticket'\u001b[0m\u001b[0;34m]\u001b[0m\u001b[0;34m.\u001b[0m\u001b[0mmap\u001b[0m\u001b[0;34m(\u001b[0m\u001b[0mcleanTicket\u001b[0m\u001b[0;34m)\u001b[0m\u001b[0;34m\u001b[0m\u001b[0;34m\u001b[0m\u001b[0m\n\u001b[0m\u001b[1;32m     23\u001b[0m     \u001b[0mtickets_dummies\u001b[0m \u001b[0;34m=\u001b[0m \u001b[0mpd\u001b[0m\u001b[0;34m.\u001b[0m\u001b[0mget_dummies\u001b[0m\u001b[0;34m(\u001b[0m\u001b[0mcombined\u001b[0m\u001b[0;34m[\u001b[0m\u001b[0;34m'Ticket'\u001b[0m\u001b[0;34m]\u001b[0m\u001b[0;34m,\u001b[0m \u001b[0mprefix\u001b[0m\u001b[0;34m=\u001b[0m\u001b[0;34m'Ticket'\u001b[0m\u001b[0;34m)\u001b[0m\u001b[0;34m\u001b[0m\u001b[0;34m\u001b[0m\u001b[0m\n\u001b[1;32m     24\u001b[0m     \u001b[0mcombined\u001b[0m \u001b[0;34m=\u001b[0m \u001b[0mpd\u001b[0m\u001b[0;34m.\u001b[0m\u001b[0mconcat\u001b[0m\u001b[0;34m(\u001b[0m\u001b[0;34m[\u001b[0m\u001b[0mcombined\u001b[0m\u001b[0;34m,\u001b[0m \u001b[0mtickets_dummies\u001b[0m\u001b[0;34m]\u001b[0m\u001b[0;34m,\u001b[0m \u001b[0maxis\u001b[0m\u001b[0;34m=\u001b[0m\u001b[0;36m1\u001b[0m\u001b[0;34m)\u001b[0m\u001b[0;34m\u001b[0m\u001b[0;34m\u001b[0m\u001b[0m\n",
            "\u001b[0;32m/usr/local/lib/python3.6/dist-packages/pandas/core/frame.py\u001b[0m in \u001b[0;36m__getitem__\u001b[0;34m(self, key)\u001b[0m\n\u001b[1;32m   2993\u001b[0m             \u001b[0;32mif\u001b[0m \u001b[0mself\u001b[0m\u001b[0;34m.\u001b[0m\u001b[0mcolumns\u001b[0m\u001b[0;34m.\u001b[0m\u001b[0mnlevels\u001b[0m \u001b[0;34m>\u001b[0m \u001b[0;36m1\u001b[0m\u001b[0;34m:\u001b[0m\u001b[0;34m\u001b[0m\u001b[0;34m\u001b[0m\u001b[0m\n\u001b[1;32m   2994\u001b[0m                 \u001b[0;32mreturn\u001b[0m \u001b[0mself\u001b[0m\u001b[0;34m.\u001b[0m\u001b[0m_getitem_multilevel\u001b[0m\u001b[0;34m(\u001b[0m\u001b[0mkey\u001b[0m\u001b[0;34m)\u001b[0m\u001b[0;34m\u001b[0m\u001b[0;34m\u001b[0m\u001b[0m\n\u001b[0;32m-> 2995\u001b[0;31m             \u001b[0mindexer\u001b[0m \u001b[0;34m=\u001b[0m \u001b[0mself\u001b[0m\u001b[0;34m.\u001b[0m\u001b[0mcolumns\u001b[0m\u001b[0;34m.\u001b[0m\u001b[0mget_loc\u001b[0m\u001b[0;34m(\u001b[0m\u001b[0mkey\u001b[0m\u001b[0;34m)\u001b[0m\u001b[0;34m\u001b[0m\u001b[0;34m\u001b[0m\u001b[0m\n\u001b[0m\u001b[1;32m   2996\u001b[0m             \u001b[0;32mif\u001b[0m \u001b[0mis_integer\u001b[0m\u001b[0;34m(\u001b[0m\u001b[0mindexer\u001b[0m\u001b[0;34m)\u001b[0m\u001b[0;34m:\u001b[0m\u001b[0;34m\u001b[0m\u001b[0;34m\u001b[0m\u001b[0m\n\u001b[1;32m   2997\u001b[0m                 \u001b[0mindexer\u001b[0m \u001b[0;34m=\u001b[0m \u001b[0;34m[\u001b[0m\u001b[0mindexer\u001b[0m\u001b[0;34m]\u001b[0m\u001b[0;34m\u001b[0m\u001b[0;34m\u001b[0m\u001b[0m\n",
            "\u001b[0;32m/usr/local/lib/python3.6/dist-packages/pandas/core/indexes/base.py\u001b[0m in \u001b[0;36mget_loc\u001b[0;34m(self, key, method, tolerance)\u001b[0m\n\u001b[1;32m   2897\u001b[0m                 \u001b[0;32mreturn\u001b[0m \u001b[0mself\u001b[0m\u001b[0;34m.\u001b[0m\u001b[0m_engine\u001b[0m\u001b[0;34m.\u001b[0m\u001b[0mget_loc\u001b[0m\u001b[0;34m(\u001b[0m\u001b[0mkey\u001b[0m\u001b[0;34m)\u001b[0m\u001b[0;34m\u001b[0m\u001b[0;34m\u001b[0m\u001b[0m\n\u001b[1;32m   2898\u001b[0m             \u001b[0;32mexcept\u001b[0m \u001b[0mKeyError\u001b[0m\u001b[0;34m:\u001b[0m\u001b[0;34m\u001b[0m\u001b[0;34m\u001b[0m\u001b[0m\n\u001b[0;32m-> 2899\u001b[0;31m                 \u001b[0;32mreturn\u001b[0m \u001b[0mself\u001b[0m\u001b[0;34m.\u001b[0m\u001b[0m_engine\u001b[0m\u001b[0;34m.\u001b[0m\u001b[0mget_loc\u001b[0m\u001b[0;34m(\u001b[0m\u001b[0mself\u001b[0m\u001b[0;34m.\u001b[0m\u001b[0m_maybe_cast_indexer\u001b[0m\u001b[0;34m(\u001b[0m\u001b[0mkey\u001b[0m\u001b[0;34m)\u001b[0m\u001b[0;34m)\u001b[0m\u001b[0;34m\u001b[0m\u001b[0;34m\u001b[0m\u001b[0m\n\u001b[0m\u001b[1;32m   2900\u001b[0m         \u001b[0mindexer\u001b[0m \u001b[0;34m=\u001b[0m \u001b[0mself\u001b[0m\u001b[0;34m.\u001b[0m\u001b[0mget_indexer\u001b[0m\u001b[0;34m(\u001b[0m\u001b[0;34m[\u001b[0m\u001b[0mkey\u001b[0m\u001b[0;34m]\u001b[0m\u001b[0;34m,\u001b[0m \u001b[0mmethod\u001b[0m\u001b[0;34m=\u001b[0m\u001b[0mmethod\u001b[0m\u001b[0;34m,\u001b[0m \u001b[0mtolerance\u001b[0m\u001b[0;34m=\u001b[0m\u001b[0mtolerance\u001b[0m\u001b[0;34m)\u001b[0m\u001b[0;34m\u001b[0m\u001b[0;34m\u001b[0m\u001b[0m\n\u001b[1;32m   2901\u001b[0m         \u001b[0;32mif\u001b[0m \u001b[0mindexer\u001b[0m\u001b[0;34m.\u001b[0m\u001b[0mndim\u001b[0m \u001b[0;34m>\u001b[0m \u001b[0;36m1\u001b[0m \u001b[0;32mor\u001b[0m \u001b[0mindexer\u001b[0m\u001b[0;34m.\u001b[0m\u001b[0msize\u001b[0m \u001b[0;34m>\u001b[0m \u001b[0;36m1\u001b[0m\u001b[0;34m:\u001b[0m\u001b[0;34m\u001b[0m\u001b[0;34m\u001b[0m\u001b[0m\n",
            "\u001b[0;32mpandas/_libs/index.pyx\u001b[0m in \u001b[0;36mpandas._libs.index.IndexEngine.get_loc\u001b[0;34m()\u001b[0m\n",
            "\u001b[0;32mpandas/_libs/index.pyx\u001b[0m in \u001b[0;36mpandas._libs.index.IndexEngine.get_loc\u001b[0;34m()\u001b[0m\n",
            "\u001b[0;32mpandas/_libs/hashtable_class_helper.pxi\u001b[0m in \u001b[0;36mpandas._libs.hashtable.PyObjectHashTable.get_item\u001b[0;34m()\u001b[0m\n",
            "\u001b[0;32mpandas/_libs/hashtable_class_helper.pxi\u001b[0m in \u001b[0;36mpandas._libs.hashtable.PyObjectHashTable.get_item\u001b[0;34m()\u001b[0m\n",
            "\u001b[0;31mKeyError\u001b[0m: 'Ticket'"
          ]
        }
      ]
    },
    {
      "cell_type": "markdown",
      "metadata": {
        "id": "rOHussDWafr2",
        "colab_type": "text"
      },
      "source": [
        "### Processing Family"
      ]
    },
    {
      "cell_type": "markdown",
      "metadata": {
        "id": "-moZIUTdafr5",
        "colab_type": "text"
      },
      "source": [
        "This part includes creating new variables based on the size of the family (the size is by the way, another variable we create).\n",
        "\n",
        "This creation of new variables is done under a realistic assumption: Large families are grouped together, hence they are more likely to get rescued than people traveling alone."
      ]
    },
    {
      "cell_type": "code",
      "metadata": {
        "id": "J-cTwGK4afr9",
        "colab_type": "code",
        "colab": {}
      },
      "source": [
        "def process_family():\n",
        "    \n",
        "    global combined\n",
        "    # introducing a new feature : the size of families (including the passenger)\n",
        "    combined['FamilySize'] = combined['Parch'] + combined['SibSp'] + 1\n",
        "    \n",
        "    # introducing other features based on the family size\n",
        "    combined['Singleton'] = combined['FamilySize'].map(lambda s: 1 if s == 1 else 0)\n",
        "    combined['SmallFamily'] = combined['FamilySize'].map(lambda s: 1 if 2 <= s <= 4 else 0)\n",
        "    combined['LargeFamily'] = combined['FamilySize'].map(lambda s: 1 if 5 <= s else 0)\n",
        "    \n",
        "    status('family')\n",
        "    return combined"
      ],
      "execution_count": 0,
      "outputs": []
    },
    {
      "cell_type": "markdown",
      "metadata": {
        "id": "1yS164OiafsJ",
        "colab_type": "text"
      },
      "source": [
        "This function introduces 4 new features: \n",
        "\n",
        "- FamilySize : the total number of relatives including the passenger (him/her)self.\n",
        "- Sigleton : a boolean variable that describes families of size = 1\n",
        "- SmallFamily : a boolean variable that describes families of 2 <= size <= 4\n",
        "- LargeFamily : a boolean variable that describes families of 5 < size"
      ]
    },
    {
      "cell_type": "code",
      "metadata": {
        "id": "3G02y5x4afsN",
        "colab_type": "code",
        "colab": {
          "base_uri": "https://localhost:8080/",
          "height": 34
        },
        "outputId": "765ea831-4895-49c8-d113-72cee8ac7f7f"
      },
      "source": [
        "combined = process_family()"
      ],
      "execution_count": 268,
      "outputs": [
        {
          "output_type": "stream",
          "text": [
            "Processing family : ok\n"
          ],
          "name": "stdout"
        }
      ]
    },
    {
      "cell_type": "code",
      "metadata": {
        "id": "81cD8RHpafsc",
        "colab_type": "code",
        "colab": {
          "base_uri": "https://localhost:8080/",
          "height": 34
        },
        "outputId": "963d375f-4280-4e90-ceee-97ffb966e95d"
      },
      "source": [
        "print (combined.shape)"
      ],
      "execution_count": 269,
      "outputs": [
        {
          "output_type": "stream",
          "text": [
            "(1309, 31)\n"
          ],
          "name": "stdout"
        }
      ]
    },
    {
      "cell_type": "markdown",
      "metadata": {
        "id": "c40MiKQVafss",
        "colab_type": "text"
      },
      "source": [
        "We end up with a total of 67 features. "
      ]
    },
    {
      "cell_type": "code",
      "metadata": {
        "id": "EdcgbW1Uafsw",
        "colab_type": "code",
        "colab": {
          "base_uri": "https://localhost:8080/",
          "height": 226
        },
        "outputId": "1cf1829d-71bc-49ee-dcdf-189e7d265826"
      },
      "source": [
        "combined.head()"
      ],
      "execution_count": 292,
      "outputs": [
        {
          "output_type": "execute_result",
          "data": {
            "text/html": [
              "<div>\n",
              "<style scoped>\n",
              "    .dataframe tbody tr th:only-of-type {\n",
              "        vertical-align: middle;\n",
              "    }\n",
              "\n",
              "    .dataframe tbody tr th {\n",
              "        vertical-align: top;\n",
              "    }\n",
              "\n",
              "    .dataframe thead th {\n",
              "        text-align: right;\n",
              "    }\n",
              "</style>\n",
              "<table border=\"1\" class=\"dataframe\">\n",
              "  <thead>\n",
              "    <tr style=\"text-align: right;\">\n",
              "      <th></th>\n",
              "      <th>Sex</th>\n",
              "      <th>Age</th>\n",
              "      <th>SibSp</th>\n",
              "      <th>Parch</th>\n",
              "      <th>Fare</th>\n",
              "      <th>Title_Master</th>\n",
              "      <th>Title_Miss</th>\n",
              "      <th>Title_Mr</th>\n",
              "      <th>Title_Mrs</th>\n",
              "      <th>Title_Officer</th>\n",
              "      <th>Title_Royalty</th>\n",
              "      <th>Embarked_C</th>\n",
              "      <th>Embarked_Q</th>\n",
              "      <th>Embarked_S</th>\n",
              "      <th>Cabin_A</th>\n",
              "      <th>Cabin_B</th>\n",
              "      <th>Cabin_C</th>\n",
              "      <th>Cabin_D</th>\n",
              "      <th>Cabin_E</th>\n",
              "      <th>Cabin_F</th>\n",
              "      <th>Cabin_G</th>\n",
              "      <th>Cabin_T</th>\n",
              "      <th>Cabin_U</th>\n",
              "      <th>Pclass_1</th>\n",
              "      <th>Pclass_2</th>\n",
              "      <th>Pclass_3</th>\n",
              "      <th>FamilySize</th>\n",
              "      <th>Singleton</th>\n",
              "      <th>SmallFamily</th>\n",
              "      <th>LargeFamily</th>\n",
              "      <th>Ticket_XXX</th>\n",
              "    </tr>\n",
              "  </thead>\n",
              "  <tbody>\n",
              "    <tr>\n",
              "      <th>0</th>\n",
              "      <td>1</td>\n",
              "      <td>22.0</td>\n",
              "      <td>1</td>\n",
              "      <td>0</td>\n",
              "      <td>7.2500</td>\n",
              "      <td>0</td>\n",
              "      <td>0</td>\n",
              "      <td>1</td>\n",
              "      <td>0</td>\n",
              "      <td>0</td>\n",
              "      <td>0</td>\n",
              "      <td>0</td>\n",
              "      <td>0</td>\n",
              "      <td>1</td>\n",
              "      <td>0</td>\n",
              "      <td>0</td>\n",
              "      <td>0</td>\n",
              "      <td>0</td>\n",
              "      <td>0</td>\n",
              "      <td>0</td>\n",
              "      <td>0</td>\n",
              "      <td>0</td>\n",
              "      <td>1</td>\n",
              "      <td>0</td>\n",
              "      <td>0</td>\n",
              "      <td>1</td>\n",
              "      <td>2</td>\n",
              "      <td>0</td>\n",
              "      <td>1</td>\n",
              "      <td>0</td>\n",
              "      <td>1</td>\n",
              "    </tr>\n",
              "    <tr>\n",
              "      <th>1</th>\n",
              "      <td>0</td>\n",
              "      <td>38.0</td>\n",
              "      <td>1</td>\n",
              "      <td>0</td>\n",
              "      <td>71.2833</td>\n",
              "      <td>0</td>\n",
              "      <td>0</td>\n",
              "      <td>0</td>\n",
              "      <td>1</td>\n",
              "      <td>0</td>\n",
              "      <td>0</td>\n",
              "      <td>1</td>\n",
              "      <td>0</td>\n",
              "      <td>0</td>\n",
              "      <td>0</td>\n",
              "      <td>0</td>\n",
              "      <td>1</td>\n",
              "      <td>0</td>\n",
              "      <td>0</td>\n",
              "      <td>0</td>\n",
              "      <td>0</td>\n",
              "      <td>0</td>\n",
              "      <td>0</td>\n",
              "      <td>1</td>\n",
              "      <td>0</td>\n",
              "      <td>0</td>\n",
              "      <td>2</td>\n",
              "      <td>0</td>\n",
              "      <td>1</td>\n",
              "      <td>0</td>\n",
              "      <td>1</td>\n",
              "    </tr>\n",
              "    <tr>\n",
              "      <th>2</th>\n",
              "      <td>0</td>\n",
              "      <td>26.0</td>\n",
              "      <td>0</td>\n",
              "      <td>0</td>\n",
              "      <td>7.9250</td>\n",
              "      <td>0</td>\n",
              "      <td>1</td>\n",
              "      <td>0</td>\n",
              "      <td>0</td>\n",
              "      <td>0</td>\n",
              "      <td>0</td>\n",
              "      <td>0</td>\n",
              "      <td>0</td>\n",
              "      <td>1</td>\n",
              "      <td>0</td>\n",
              "      <td>0</td>\n",
              "      <td>0</td>\n",
              "      <td>0</td>\n",
              "      <td>0</td>\n",
              "      <td>0</td>\n",
              "      <td>0</td>\n",
              "      <td>0</td>\n",
              "      <td>1</td>\n",
              "      <td>0</td>\n",
              "      <td>0</td>\n",
              "      <td>1</td>\n",
              "      <td>1</td>\n",
              "      <td>1</td>\n",
              "      <td>0</td>\n",
              "      <td>0</td>\n",
              "      <td>1</td>\n",
              "    </tr>\n",
              "    <tr>\n",
              "      <th>3</th>\n",
              "      <td>0</td>\n",
              "      <td>35.0</td>\n",
              "      <td>1</td>\n",
              "      <td>0</td>\n",
              "      <td>53.1000</td>\n",
              "      <td>0</td>\n",
              "      <td>0</td>\n",
              "      <td>0</td>\n",
              "      <td>1</td>\n",
              "      <td>0</td>\n",
              "      <td>0</td>\n",
              "      <td>0</td>\n",
              "      <td>0</td>\n",
              "      <td>1</td>\n",
              "      <td>0</td>\n",
              "      <td>0</td>\n",
              "      <td>1</td>\n",
              "      <td>0</td>\n",
              "      <td>0</td>\n",
              "      <td>0</td>\n",
              "      <td>0</td>\n",
              "      <td>0</td>\n",
              "      <td>0</td>\n",
              "      <td>1</td>\n",
              "      <td>0</td>\n",
              "      <td>0</td>\n",
              "      <td>2</td>\n",
              "      <td>0</td>\n",
              "      <td>1</td>\n",
              "      <td>0</td>\n",
              "      <td>1</td>\n",
              "    </tr>\n",
              "    <tr>\n",
              "      <th>4</th>\n",
              "      <td>1</td>\n",
              "      <td>35.0</td>\n",
              "      <td>0</td>\n",
              "      <td>0</td>\n",
              "      <td>8.0500</td>\n",
              "      <td>0</td>\n",
              "      <td>0</td>\n",
              "      <td>1</td>\n",
              "      <td>0</td>\n",
              "      <td>0</td>\n",
              "      <td>0</td>\n",
              "      <td>0</td>\n",
              "      <td>0</td>\n",
              "      <td>1</td>\n",
              "      <td>0</td>\n",
              "      <td>0</td>\n",
              "      <td>0</td>\n",
              "      <td>0</td>\n",
              "      <td>0</td>\n",
              "      <td>0</td>\n",
              "      <td>0</td>\n",
              "      <td>0</td>\n",
              "      <td>1</td>\n",
              "      <td>0</td>\n",
              "      <td>0</td>\n",
              "      <td>1</td>\n",
              "      <td>1</td>\n",
              "      <td>1</td>\n",
              "      <td>0</td>\n",
              "      <td>0</td>\n",
              "      <td>1</td>\n",
              "    </tr>\n",
              "  </tbody>\n",
              "</table>\n",
              "</div>"
            ],
            "text/plain": [
              "   Sex   Age  SibSp  Parch     Fare  Title_Master  Title_Miss  Title_Mr  \\\n",
              "0    1  22.0      1      0   7.2500             0           0         1   \n",
              "1    0  38.0      1      0  71.2833             0           0         0   \n",
              "2    0  26.0      0      0   7.9250             0           1         0   \n",
              "3    0  35.0      1      0  53.1000             0           0         0   \n",
              "4    1  35.0      0      0   8.0500             0           0         1   \n",
              "\n",
              "   Title_Mrs  Title_Officer  Title_Royalty  Embarked_C  Embarked_Q  \\\n",
              "0          0              0              0           0           0   \n",
              "1          1              0              0           1           0   \n",
              "2          0              0              0           0           0   \n",
              "3          1              0              0           0           0   \n",
              "4          0              0              0           0           0   \n",
              "\n",
              "   Embarked_S  Cabin_A  Cabin_B  Cabin_C  Cabin_D  Cabin_E  Cabin_F  Cabin_G  \\\n",
              "0           1        0        0        0        0        0        0        0   \n",
              "1           0        0        0        1        0        0        0        0   \n",
              "2           1        0        0        0        0        0        0        0   \n",
              "3           1        0        0        1        0        0        0        0   \n",
              "4           1        0        0        0        0        0        0        0   \n",
              "\n",
              "   Cabin_T  Cabin_U  Pclass_1  Pclass_2  Pclass_3  FamilySize  Singleton  \\\n",
              "0        0        1         0         0         1           2          0   \n",
              "1        0        0         1         0         0           2          0   \n",
              "2        0        1         0         0         1           1          1   \n",
              "3        0        0         1         0         0           2          0   \n",
              "4        0        1         0         0         1           1          1   \n",
              "\n",
              "   SmallFamily  LargeFamily  Ticket_XXX  \n",
              "0            1            0           1  \n",
              "1            1            0           1  \n",
              "2            0            0           1  \n",
              "3            1            0           1  \n",
              "4            0            0           1  "
            ]
          },
          "metadata": {
            "tags": []
          },
          "execution_count": 292
        }
      ]
    },
    {
      "cell_type": "markdown",
      "metadata": {
        "collapsed": true,
        "id": "SEJP50-qafs9",
        "colab_type": "text"
      },
      "source": [
        "# III - Modeling"
      ]
    },
    {
      "cell_type": "markdown",
      "metadata": {
        "id": "zIAJHT-PaftA",
        "colab_type": "text"
      },
      "source": [
        "In this part, we use our knowledge of the passengers based on the features we created and then build a statistical model. You can think of this model as a box that crunches the information of any new passenger and decides whether or not he survives.\n",
        "\n",
        "There is a wide variety of models to use, from logistic regression to decision trees and more sophisticated ones such as random forests and gradient boosted trees.\n",
        "\n",
        "We'll be using Random Forests. Random Froests has proven a great efficiency in Kaggle competitions.\n",
        "\n",
        "For more details about why ensemble methods perform well, you can refer to these posts:\n",
        "\n",
        "- http://mlwave.com/kaggle-ensembling-guide/\n",
        "- http://www.overkillanalytics.net/more-is-always-better-the-power-of-simple-ensembles/\n",
        "\n",
        "Back to our problem, we now have to:\n",
        "\n",
        "1. Break the combined dataset in train set and test set.\n",
        "2. Use the train set to build a predictive model.\n",
        "3. Evaluate the model using the train set.\n",
        "4. Test the model using the test set and generate and output file for the submission.\n",
        "\n",
        "Keep in mind that we'll have to reiterate on 2. and 3. until an acceptable evaluation score is achieved."
      ]
    },
    {
      "cell_type": "markdown",
      "metadata": {
        "id": "KKsTCKdzaftD",
        "colab_type": "text"
      },
      "source": [
        "Let's start by importing the useful libraries."
      ]
    },
    {
      "cell_type": "code",
      "metadata": {
        "id": "21GNXD-waftN",
        "colab_type": "code",
        "colab": {}
      },
      "source": [
        "from sklearn.pipeline import make_pipeline\n",
        "from sklearn.ensemble import RandomForestClassifier\n",
        "from sklearn.ensemble.gradient_boosting import GradientBoostingClassifier\n",
        "from sklearn.feature_selection import SelectKBest\n",
        "from sklearn.model_selection import StratifiedKFold\n",
        "from sklearn.model_selection import GridSearchCV\n",
        "from sklearn.model_selection import cross_val_score\n",
        "from sklearn.feature_selection import SelectFromModel\n",
        "from sklearn.linear_model import LogisticRegression, LogisticRegressionCV"
      ],
      "execution_count": 0,
      "outputs": []
    },
    {
      "cell_type": "markdown",
      "metadata": {
        "id": "fMjYXGN3aftq",
        "colab_type": "text"
      },
      "source": [
        "To evaluate our model we'll be using a 5-fold cross validation with the accuracy since it's the metric that the competition uses in the leaderboard.\n",
        "\n",
        "To do that, we'll define a small scoring function. "
      ]
    },
    {
      "cell_type": "code",
      "metadata": {
        "id": "ozT5thOoaftt",
        "colab_type": "code",
        "colab": {}
      },
      "source": [
        "def compute_score(clf, X, y, scoring='accuracy'):\n",
        "    xval = cross_val_score(clf, X, y, cv = 5, scoring=scoring)\n",
        "    return np.mean(xval)"
      ],
      "execution_count": 0,
      "outputs": []
    },
    {
      "cell_type": "markdown",
      "metadata": {
        "id": "BPvy2I_CafuJ",
        "colab_type": "text"
      },
      "source": [
        "Recovering the train set and the test set from the combined dataset is an easy task."
      ]
    },
    {
      "cell_type": "code",
      "metadata": {
        "id": "Wffs2WUhafuM",
        "colab_type": "code",
        "colab": {}
      },
      "source": [
        "def recover_train_test_target():\n",
        "    global combined\n",
        "    \n",
        "    targets = pd.read_csv('./data/train.csv', usecols=['Survived'])['Survived'].values\n",
        "    train = combined.iloc[:891]\n",
        "    test = combined.iloc[891:]\n",
        "    \n",
        "    return train, test, targets"
      ],
      "execution_count": 0,
      "outputs": []
    },
    {
      "cell_type": "code",
      "metadata": {
        "id": "2OuT4TZhafuV",
        "colab_type": "code",
        "colab": {}
      },
      "source": [
        "train, test, targets = recover_train_test_target()"
      ],
      "execution_count": 0,
      "outputs": []
    },
    {
      "cell_type": "markdown",
      "metadata": {
        "id": "oPMGb8Eqafuf",
        "colab_type": "text"
      },
      "source": [
        "## Feature selection\n",
        "\n",
        "We've come up to more than 30 features so far. This number is quite large. \n",
        "\n",
        "When feature engineering is done, we usually tend to decrease the dimensionality by selecting the \"right\" number of features that capture the essential.\n",
        "\n",
        "In fact, feature selection comes with many benefits:\n",
        "\n",
        "- It decreases redundancy among the data\n",
        "- It speeds up the training process\n",
        "- It reduces overfitting"
      ]
    },
    {
      "cell_type": "markdown",
      "metadata": {
        "id": "g09RArScafuj",
        "colab_type": "text"
      },
      "source": [
        "Tree-based estimators can be used to compute feature importances, which in turn can be used to discard irrelevant features."
      ]
    },
    {
      "cell_type": "code",
      "metadata": {
        "id": "8rJdIDAhaful",
        "colab_type": "code",
        "colab": {}
      },
      "source": [
        "clf = RandomForestClassifier(n_estimators=50, max_features='sqrt')\n",
        "clf = clf.fit(train, targets)"
      ],
      "execution_count": 0,
      "outputs": []
    },
    {
      "cell_type": "markdown",
      "metadata": {
        "id": "xWWo8pzrafuy",
        "colab_type": "text"
      },
      "source": [
        "Let's have a look at the importance of each feature."
      ]
    },
    {
      "cell_type": "code",
      "metadata": {
        "id": "TE49gtQ_afu1",
        "colab_type": "code",
        "colab": {}
      },
      "source": [
        "features = pd.DataFrame()\n",
        "features['feature'] = train.columns\n",
        "features['importance'] = clf.feature_importances_\n",
        "features.sort_values(by=['importance'], ascending=True, inplace=True)\n",
        "features.set_index('feature', inplace=True)"
      ],
      "execution_count": 0,
      "outputs": []
    },
    {
      "cell_type": "code",
      "metadata": {
        "id": "gaZJpisBafvB",
        "colab_type": "code",
        "colab": {
          "base_uri": "https://localhost:8080/",
          "height": 1000
        },
        "outputId": "1256860a-ad44-4c60-be8c-d23f997c0fbb"
      },
      "source": [
        "features.plot(kind='barh', figsize=(25, 25))"
      ],
      "execution_count": 299,
      "outputs": [
        {
          "output_type": "execute_result",
          "data": {
            "text/plain": [
              "<matplotlib.axes._subplots.AxesSubplot at 0x7fecbcd86668>"
            ]
          },
          "metadata": {
            "tags": []
          },
          "execution_count": 299
        },
        {
          "output_type": "display_data",
          "data": {
            "image/png": "[encoded data removed]",
            "text/plain": [
              "<Figure size 3750x3750 with 1 Axes>"
            ]
          },
          "metadata": {
            "tags": []
          }
        }
      ]
    },
    {
      "cell_type": "markdown",
      "metadata": {
        "id": "cQ6KjC8safvL",
        "colab_type": "text"
      },
      "source": [
        "![energy](https://github.com/HisakaKoji/How-to-score-0.8134-in-Titanic-Kaggle-Challenge/blob/master/images/article_1/8.png?raw=1)"
      ]
    },
    {
      "cell_type": "markdown",
      "metadata": {
        "id": "HoZKwZC-afvO",
        "colab_type": "text"
      },
      "source": [
        "As you may notice, there is a great importance linked to Title_Mr, Age, Fare, and Sex. \n",
        "\n",
        "There is also an important correlation with the Passenger_Id.\n",
        "\n",
        "Let's now transform our train set and test set in a more compact datasets. "
      ]
    },
    {
      "cell_type": "code",
      "metadata": {
        "id": "AvRyg_MzafvS",
        "colab_type": "code",
        "colab": {
          "base_uri": "https://localhost:8080/",
          "height": 34
        },
        "outputId": "6272ac7f-fa27-47ec-8fab-1369b5d79965"
      },
      "source": [
        "model = SelectFromModel(clf, prefit=True)\n",
        "train_reduced = model.transform(train)\n",
        "print (train_reduced.shape)"
      ],
      "execution_count": 301,
      "outputs": [
        {
          "output_type": "stream",
          "text": [
            "(891, 8)\n"
          ],
          "name": "stdout"
        }
      ]
    },
    {
      "cell_type": "code",
      "metadata": {
        "id": "jNn5swnLafvb",
        "colab_type": "code",
        "colab": {
          "base_uri": "https://localhost:8080/",
          "height": 34
        },
        "outputId": "48361bec-af33-4bad-de67-58533de6d0a6"
      },
      "source": [
        "test_reduced = model.transform(test)\n",
        "print (test_reduced.shape)"
      ],
      "execution_count": 302,
      "outputs": [
        {
          "output_type": "stream",
          "text": [
            "(418, 8)\n"
          ],
          "name": "stdout"
        }
      ]
    },
    {
      "cell_type": "markdown",
      "metadata": {
        "id": "ffMDA7utafvn",
        "colab_type": "text"
      },
      "source": [
        "Yay! Now we're down to a lot less features."
      ]
    },
    {
      "cell_type": "markdown",
      "metadata": {
        "id": "-npLLm06afvr",
        "colab_type": "text"
      },
      "source": [
        "We'll see if we'll use the reduced or the full version of the train set."
      ]
    },
    {
      "cell_type": "markdown",
      "metadata": {
        "id": "6EPNIw6safvu",
        "colab_type": "text"
      },
      "source": [
        "### Let's try different base models"
      ]
    },
    {
      "cell_type": "code",
      "metadata": {
        "id": "phPiocoJafvx",
        "colab_type": "code",
        "colab": {}
      },
      "source": [
        "logreg = LogisticRegression()\n",
        "logreg_cv = LogisticRegressionCV()\n",
        "rf = RandomForestClassifier()\n",
        "gboost = GradientBoostingClassifier()\n",
        "\n",
        "models = [logreg, logreg_cv, rf, gboost]"
      ],
      "execution_count": 0,
      "outputs": []
    },
    {
      "cell_type": "code",
      "metadata": {
        "id": "W_5HiWxBafv8",
        "colab_type": "code",
        "colab": {
          "base_uri": "https://localhost:8080/",
          "height": 225
        },
        "outputId": "41938992-b6f7-4119-8775-d43611bdb692"
      },
      "source": [
        "for model in models:\n",
        "    print ('Cross-validation of : {0}'.format(model.__class__))\n",
        "    score = compute_score(clf=model, X=train_reduced, y=targets, scoring='accuracy')\n",
        "    print ('CV score = {0}'.format(score))\n",
        "    print ('****')"
      ],
      "execution_count": 305,
      "outputs": [
        {
          "output_type": "stream",
          "text": [
            "Cross-validation of : <class 'sklearn.linear_model.logistic.LogisticRegression'>\n",
            "CV score = 0.8069779029408959\n",
            "****\n",
            "Cross-validation of : <class 'sklearn.linear_model.logistic.LogisticRegressionCV'>\n",
            "CV score = 0.8047244348597962\n",
            "****\n",
            "Cross-validation of : <class 'sklearn.ensemble.forest.RandomForestClassifier'>\n",
            "CV score = 0.8092690334411783\n",
            "****\n",
            "Cross-validation of : <class 'sklearn.ensemble.gradient_boosting.GradientBoostingClassifier'>\n",
            "CV score = 0.8237752000417053\n",
            "****\n"
          ],
          "name": "stdout"
        }
      ]
    },
    {
      "cell_type": "markdown",
      "metadata": {
        "id": "UjuxrRdRafwJ",
        "colab_type": "text"
      },
      "source": [
        "### Hyperparameters tuning"
      ]
    },
    {
      "cell_type": "markdown",
      "metadata": {
        "id": "jE88viOEafwM",
        "colab_type": "text"
      },
      "source": [
        "As mentioned in the beginning of the Modeling part, we will be using a Random Forest model. It may not be the best model for this task but we'll show how to tune. This work can be applied to different models.\n",
        "\n",
        "Random Forest are quite handy. They do however come with some parameters to tweak in order to get an optimal model for the prediction task.\n",
        "\n",
        "To learn more about Random Forests, you can refer to this <a href=\"https://www.analyticsvidhya.com/blog/2015/06/tuning-random-forest-model/\">link </a>: \n",
        "\n",
        "Additionally, we'll use the full train set."
      ]
    },
    {
      "cell_type": "code",
      "metadata": {
        "scrolled": false,
        "id": "dYmbXulDafwQ",
        "colab_type": "code",
        "colab": {}
      },
      "source": [
        "# turn run_gs to True if you want to run the gridsearch again.\n",
        "run_gs = False\n",
        "\n",
        "if run_gs:\n",
        "    parameter_grid = {\n",
        "                 'max_depth' : [4, 6, 8],\n",
        "                 'n_estimators': [50, 10],\n",
        "                 'max_features': ['sqrt', 'auto', 'log2'],\n",
        "                 'min_samples_split': [2, 3, 10],\n",
        "                 'min_samples_leaf': [1, 3, 10],\n",
        "                 'bootstrap': [True, False],\n",
        "                 }\n",
        "    forest = RandomForestClassifier()\n",
        "    cross_validation = StratifiedKFold(n_splits=5)\n",
        "\n",
        "    grid_search = GridSearchCV(forest,\n",
        "                               scoring='accuracy',\n",
        "                               param_grid=parameter_grid,\n",
        "                               cv=cross_validation,\n",
        "                               verbose=1\n",
        "                              )\n",
        "\n",
        "    grid_search.fit(train, targets)\n",
        "    model = grid_search\n",
        "    parameters = grid_search.best_params_\n",
        "\n",
        "    print('Best score: {}'.format(grid_search.best_score_))\n",
        "    print('Best parameters: {}'.format(grid_search.best_params_))\n",
        "    \n",
        "else: \n",
        "    parameters = {'bootstrap': False, 'min_samples_leaf': 3, 'n_estimators': 50, \n",
        "                  'min_samples_split': 10, 'max_features': 'sqrt', 'max_depth': 6}\n",
        "    \n",
        "    model = RandomForestClassifier(**parameters)\n",
        "    model.fit(train, targets)"
      ],
      "execution_count": 0,
      "outputs": []
    },
    {
      "cell_type": "markdown",
      "metadata": {
        "id": "HpoNigAxafwZ",
        "colab_type": "text"
      },
      "source": [
        "Now that the model is built by scanning several combinations of the hyperparameters, we can generate an output file to submit on Kaggle."
      ]
    },
    {
      "cell_type": "code",
      "metadata": {
        "id": "11q5bmZPafwc",
        "colab_type": "code",
        "colab": {}
      },
      "source": [
        "output = model.predict(test).astype(int)\n",
        "df_output = pd.DataFrame()\n",
        "aux = pd.read_csv('./data/test.csv')\n",
        "df_output['PassengerId'] = aux['PassengerId']\n",
        "df_output['Survived'] = output\n",
        "df_output[['PassengerId','Survived']].to_csv('./predictions/gridsearch_rf.csv', index=False)"
      ],
      "execution_count": 0,
      "outputs": []
    },
    {
      "cell_type": "markdown",
      "metadata": {
        "id": "pXkcLBoeafwm",
        "colab_type": "text"
      },
      "source": [
        "### [BONUS]  Blending different models"
      ]
    },
    {
      "cell_type": "markdown",
      "metadata": {
        "id": "HtAl82Lfafwp",
        "colab_type": "text"
      },
      "source": [
        "I haven't personally uploaded a submission based on model blending but here's how you could do it"
      ]
    },
    {
      "cell_type": "code",
      "metadata": {
        "id": "SKWLTmXuafwu",
        "colab_type": "code",
        "colab": {}
      },
      "source": [
        "trained_models = []\n",
        "for model in models:\n",
        "    model.fit(train, targets)\n",
        "    trained_models.append(model)\n",
        "\n",
        "predictions = []\n",
        "for model in trained_models:\n",
        "    predictions.append(model.predict_proba(test)[:, 1])\n",
        "\n",
        "predictions_df = pd.DataFrame(predictions).T\n",
        "predictions_df['out'] = predictions_df.mean(axis=1)\n",
        "predictions_df['PassengerId'] = aux['PassengerId']\n",
        "predictions_df['out'] = predictions_df['out'].map(lambda s: 1 if s >= 0.5 else 0)\n",
        "\n",
        "predictions_df = predictions_df[['PassengerId', 'out']]\n",
        "predictions_df.columns = ['PassengerId', 'Survived']"
      ],
      "execution_count": 0,
      "outputs": []
    },
    {
      "cell_type": "code",
      "metadata": {
        "id": "kCF0dFzZafw6",
        "colab_type": "code",
        "colab": {}
      },
      "source": [
        "predictions_df.to_csv('./predictions/blending_base_models.csv', index=False)"
      ],
      "execution_count": 0,
      "outputs": []
    },
    {
      "cell_type": "markdown",
      "metadata": {
        "id": "LEJ-vxRxafxE",
        "colab_type": "text"
      },
      "source": [
        "To have a good blending submission, the base models should be different and their correlations uncorrelated."
      ]
    },
    {
      "cell_type": "markdown",
      "metadata": {
        "collapsed": true,
        "id": "xaDOliNAafxI",
        "colab_type": "text"
      },
      "source": [
        "# IV - Conclusion"
      ]
    },
    {
      "cell_type": "markdown",
      "metadata": {
        "collapsed": true,
        "id": "B5vVfuSXafxM",
        "colab_type": "text"
      },
      "source": [
        "In this article, we explored an interesting dataset brought to us by <a href=\"http://kaggle.com\">Kaggle</a>.\n",
        "\n",
        "We went through the basic bricks of a data science pipeline:\n",
        "\n",
        "- Data exploration and visualization: an initial step to formulate hypotheses\n",
        "- Data cleaning \n",
        "- Feature engineering \n",
        "- Feature selection\n",
        "- Hyperparameters tuning\n",
        "- Submission\n",
        "- Blending\n",
        "\n",
        "This post can be downloaded as a notebook if you ever want to test and play with it : <a href=\"https://github.com/ahmedbesbes/post1/blob/master/titanic-article.ipynb\"> my github repo </a>\n",
        "\n",
        "Lots of articles have been written about this challenge, so obviously there is a room for improvement.\n",
        "\n",
        "Here is what I suggest for next steps:\n",
        "\n",
        "- Dig more in the data and eventually build new features.\n",
        "- Try different models : logistic regressions, Gradient Boosted trees, XGboost, ...\n",
        "- Try ensemble learning techniques (stacking)\n",
        "- Run auto-ML frameworks\n",
        "\n",
        "I would be more than happy if you could find out a way to improve my solution. This could make me update the article and definitely give you credit for that. So feel free to post a comment."
      ]
    }
  ]
}